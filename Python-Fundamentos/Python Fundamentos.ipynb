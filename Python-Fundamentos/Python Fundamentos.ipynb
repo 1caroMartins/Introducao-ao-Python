{
 "cells": [
  {
   "cell_type": "markdown",
   "id": "949b5a1b",
   "metadata": {},
   "source": [
    "## Introdução à Linguagem"
   ]
  },
  {
   "cell_type": "markdown",
   "id": "9db36d86",
   "metadata": {},
   "source": [
    "### Comentários em Python"
   ]
  },
  {
   "cell_type": "code",
   "execution_count": 1,
   "id": "dd16eba9",
   "metadata": {},
   "outputs": [
    {
     "name": "stdout",
     "output_type": "stream",
     "text": [
      "Teste\n"
     ]
    }
   ],
   "source": [
    "# Este é um comentário\n",
    "print(\"Teste\")"
   ]
  },
  {
   "cell_type": "code",
   "execution_count": 6,
   "id": "3808673d",
   "metadata": {},
   "outputs": [
    {
     "name": "stdout",
     "output_type": "stream",
     "text": [
      "Teste\n"
     ]
    }
   ],
   "source": [
    "\"\"\"\n",
    "Este é um comentário\n",
    "Mas desta vez\n",
    "É um comentário longo\n",
    "\"\"\"\n",
    "print(\"Teste\")"
   ]
  },
  {
   "cell_type": "markdown",
   "id": "0b5d34b4",
   "metadata": {},
   "source": [
    "### O ponto e vírgula (;)\n",
    "O ponto e vírgula no Python não é obrigatório a menos que queira executar duas funções que estão na mesma linha"
   ]
  },
  {
   "cell_type": "code",
   "execution_count": 8,
   "id": "a7666d4b",
   "metadata": {},
   "outputs": [
    {
     "name": "stdout",
     "output_type": "stream",
     "text": [
      "Teste\n",
      "Teste\n"
     ]
    }
   ],
   "source": [
    "print(\"Teste\")\n",
    "print(\"Teste\")"
   ]
  },
  {
   "cell_type": "code",
   "execution_count": 7,
   "id": "52278351",
   "metadata": {},
   "outputs": [
    {
     "name": "stdout",
     "output_type": "stream",
     "text": [
      "Teste\n",
      "Teste\n"
     ]
    }
   ],
   "source": [
    "print(\"Teste\"); print(\"Teste\")"
   ]
  },
  {
   "cell_type": "markdown",
   "id": "fe3d3d37",
   "metadata": {},
   "source": [
    "### Identação\n",
    "A identação é obrigatória quando houver hierarquia"
   ]
  },
  {
   "cell_type": "code",
   "execution_count": 10,
   "id": "b860c344",
   "metadata": {},
   "outputs": [
    {
     "name": "stdout",
     "output_type": "stream",
     "text": [
      "Isto é verdadeiro\n",
      "Isto é falso\n"
     ]
    }
   ],
   "source": [
    "if True:\n",
    "    print(\"Isto é verdadeiro\")\n",
    "print(\"Isto é falso\")"
   ]
  },
  {
   "cell_type": "markdown",
   "id": "937d1f59",
   "metadata": {},
   "source": [
    "### Variáveis\n",
    "Espaços na memória em que serão armazenados dados\n",
    "\n",
    "Toda variável é um OBJETO para o Python"
   ]
  },
  {
   "cell_type": "code",
   "execution_count": 1,
   "id": "df7fdef1",
   "metadata": {},
   "outputs": [
    {
     "name": "stdout",
     "output_type": "stream",
     "text": [
      "Icaro\n"
     ]
    },
    {
     "data": {
      "text/plain": [
       "float"
      ]
     },
     "execution_count": 1,
     "metadata": {},
     "output_type": "execute_result"
    }
   ],
   "source": [
    "nome = \"Icaro\" #String = str\n",
    "idade = 38 #inteiro = int\n",
    "peso = 83.5 #Python utiliza padão americano por isso usa-se ponto (flutuante = float) ao invés de vírgula\n",
    "altura = 1.78 #float = float\n",
    "situacao = True #valor lógico, booleana = bool\n",
    "print(nome)\n",
    "type(peso)"
   ]
  },
  {
   "cell_type": "code",
   "execution_count": 1,
   "id": "93022509",
   "metadata": {},
   "outputs": [
    {
     "name": "stdout",
     "output_type": "stream",
     "text": [
      "20\n",
      "30\n"
     ]
    }
   ],
   "source": [
    "#declarando duas variáveis ou mais na mesma linha\n",
    "x, y = 20, 30\n",
    "print(x)\n",
    "print(y)"
   ]
  },
  {
   "cell_type": "markdown",
   "id": "aa65c0db",
   "metadata": {},
   "source": [
    "## Manipulação de Dados"
   ]
  },
  {
   "cell_type": "markdown",
   "id": "ea0121fc",
   "metadata": {},
   "source": [
    "### Saída de Dados"
   ]
  },
  {
   "cell_type": "code",
   "execution_count": 2,
   "id": "1f70bd52",
   "metadata": {},
   "outputs": [
    {
     "name": "stdout",
     "output_type": "stream",
     "text": [
      "Olá Mundo!\n"
     ]
    }
   ],
   "source": [
    "print(\"Olá Mundo!\") #print é uma função/método (leva parênteses)"
   ]
  },
  {
   "cell_type": "code",
   "execution_count": 4,
   "id": "36b63655",
   "metadata": {},
   "outputs": [
    {
     "name": "stdout",
     "output_type": "stream",
     "text": [
      "Olá \n",
      "Mundo!\n"
     ]
    }
   ],
   "source": [
    "print(\"Olá \\nMundo!\") #o \\n quebra linha"
   ]
  },
  {
   "cell_type": "code",
   "execution_count": 67,
   "id": "c19953c8",
   "metadata": {},
   "outputs": [
    {
     "name": "stdout",
     "output_type": "stream",
     "text": [
      "11\n",
      "74\n"
     ]
    }
   ],
   "source": [
    "print(7+4) #soma inteiros\n",
    "print(\"7\"+\"4\") #concatena strings"
   ]
  },
  {
   "cell_type": "code",
   "execution_count": 68,
   "id": "90a90c78",
   "metadata": {},
   "outputs": [
    {
     "ename": "TypeError",
     "evalue": "can only concatenate str (not \"int\") to str",
     "output_type": "error",
     "traceback": [
      "\u001b[1;31m---------------------------------------------------------------------------\u001b[0m",
      "\u001b[1;31mTypeError\u001b[0m                                 Traceback (most recent call last)",
      "\u001b[1;32m~\\AppData\\Local\\Temp\\ipykernel_14852\\2226315467.py\u001b[0m in \u001b[0;36m<module>\u001b[1;34m\u001b[0m\n\u001b[1;32m----> 1\u001b[1;33m \u001b[0mprint\u001b[0m\u001b[1;33m(\u001b[0m\u001b[1;34m\"Olá\"\u001b[0m \u001b[1;33m+\u001b[0m \u001b[1;36m5\u001b[0m\u001b[1;33m)\u001b[0m \u001b[1;31m#Erro\u001b[0m\u001b[1;33m\u001b[0m\u001b[1;33m\u001b[0m\u001b[0m\n\u001b[0m",
      "\u001b[1;31mTypeError\u001b[0m: can only concatenate str (not \"int\") to str"
     ]
    }
   ],
   "source": [
    "print(\"Olá\" + 5) #Erro"
   ]
  },
  {
   "cell_type": "code",
   "execution_count": 71,
   "id": "a8212906",
   "metadata": {},
   "outputs": [
    {
     "name": "stdout",
     "output_type": "stream",
     "text": [
      "Olá 5\n"
     ]
    }
   ],
   "source": [
    "print(\"Olá\", 5) #a vírgula concatena tipos diferentes"
   ]
  },
  {
   "cell_type": "code",
   "execution_count": 82,
   "id": "c01b0436",
   "metadata": {},
   "outputs": [
    {
     "name": "stdout",
     "output_type": "stream",
     "text": [
      "Icaro\n",
      "83.5\n",
      "38\n"
     ]
    }
   ],
   "source": [
    "print(nome)\n",
    "print(peso)\n",
    "print(idade)"
   ]
  },
  {
   "cell_type": "code",
   "execution_count": 3,
   "id": "ae561d14",
   "metadata": {},
   "outputs": [
    {
     "name": "stdout",
     "output_type": "stream",
     "text": [
      "Meu nome é Icaro meu peso é 83.5 e minha idade é 38 anos\n"
     ]
    }
   ],
   "source": [
    "#concatenação\n",
    "print(\"Meu nome é\", nome, \"meu peso é\", peso, \"e minha idade é\", idade, \"anos\")"
   ]
  },
  {
   "cell_type": "code",
   "execution_count": 4,
   "id": "7ebcc495",
   "metadata": {},
   "outputs": [
    {
     "name": "stdout",
     "output_type": "stream",
     "text": [
      "Meu nome é Icaro, meu peso é 83.5 e minha idade é 38 anos\n",
      "Meu nome é Icaro, meu peso é 83.5 e minha idade é 38 anos\n"
     ]
    }
   ],
   "source": [
    "#saida formatada\n",
    "print(\"Meu nome é {}, meu peso é {} e minha idade é {} anos\".format(nome, peso, idade)) #forma antiga\n",
    "print(f\"Meu nome é {nome}, meu peso é {peso} e minha idade é {idade} anos\") #a partir do python 3.7"
   ]
  },
  {
   "cell_type": "code",
   "execution_count": 3,
   "id": "814757d4",
   "metadata": {},
   "outputs": [
    {
     "name": "stdout",
     "output_type": "stream",
     "text": [
      "Meu nome é Icaro               !\n",
      "Meu nome é Icaro               !\n",
      "Meu nome é                Icaro!\n",
      "Meu nome é        Icaro        !\n",
      "Meu nome é Icaro...............!\n",
      "Meu nome é =======Icaro========!\n"
     ]
    }
   ],
   "source": [
    "#acrescentando número de caracteres\n",
    "print(\"Meu nome é {:20}!\".format(nome)) #acrescenta espaços para completar 20 caracteres\n",
    "print(f\"Meu nome é {nome:20}!\") #python 3.7\n",
    "#alinhamento\n",
    "print(f\"Meu nome é {nome:>20}!\") #à direita\n",
    "print(f\"Meu nome é {nome:^20}!\") #centralizado\n",
    "print(f\"Meu nome é {nome:.<20}!\") #à esquerda e o \".\" substitui os espaços \n",
    "print(f\"Meu nome é {nome:=^20}!\")"
   ]
  },
  {
   "cell_type": "code",
   "execution_count": 3,
   "id": "57ca02fd",
   "metadata": {},
   "outputs": [
    {
     "name": "stdout",
     "output_type": "stream",
     "text": [
      "Dia/Mês/Ano\n",
      "14/02/1984\n",
      "1984-02-14\n",
      "Banana.\n"
     ]
    }
   ],
   "source": [
    "#separador\n",
    "print(\"Dia\", \"Mês\", \"Ano\", sep = \"/\") #o espaço (padrão) é substituído pela \"/\"\n",
    "print('14', '02', '1984', sep = \"/\")\n",
    "print('1984', '02', '14', sep = '-')\n",
    "print('B', 'n', 'n', '.', sep = 'a')"
   ]
  },
  {
   "cell_type": "code",
   "execution_count": 4,
   "id": "e3d4a2d2",
   "metadata": {},
   "outputs": [
    {
     "name": "stdout",
     "output_type": "stream",
     "text": [
      "Vamos estudar Python!\n",
      "Preço: R$50.0\n"
     ]
    }
   ],
   "source": [
    "#finalização de linha\n",
    "print(\"Vamos estudar\", end = ' ') #substitui o \"\\n\" (padrão) que é a quebra de linha\n",
    "print(\"Python!\")\n",
    "print(\"Preço: \", end = 'R$')\n",
    "print(50.0)"
   ]
  },
  {
   "cell_type": "markdown",
   "id": "e053d92e",
   "metadata": {},
   "source": [
    "### Entrada de Dados"
   ]
  },
  {
   "cell_type": "code",
   "execution_count": 7,
   "id": "21864fcc",
   "metadata": {},
   "outputs": [
    {
     "name": "stdout",
     "output_type": "stream",
     "text": [
      "João\n"
     ]
    }
   ],
   "source": [
    "nome = input()"
   ]
  },
  {
   "cell_type": "code",
   "execution_count": 8,
   "id": "4c9014f0",
   "metadata": {},
   "outputs": [
    {
     "name": "stdout",
     "output_type": "stream",
     "text": [
      "João\n"
     ]
    }
   ],
   "source": [
    "print(nome)"
   ]
  },
  {
   "cell_type": "markdown",
   "id": "90965333",
   "metadata": {},
   "source": [
    "O padrão de Entrada de Dados é do tipo primitivo String, sendo necessário converter (cast) em alguns casos."
   ]
  },
  {
   "cell_type": "code",
   "execution_count": 12,
   "id": "6c8655cc",
   "metadata": {},
   "outputs": [
    {
     "name": "stdout",
     "output_type": "stream",
     "text": [
      "Digite seu nome: Icaro\n",
      "Digite sua idade: 32\n",
      "Digite seu peso: 62.5\n",
      "A variável nome é do tipo <class 'str'>\n",
      "A variável idade é do tipo <class 'int'>\n",
      "A variável peso é do tipo <class 'float'>\n",
      "Meu nome é Icaro, meu peso é 62.5 e minha idade é 32 anos\n"
     ]
    }
   ],
   "source": [
    "nome = input(\"Digite seu nome: \")\n",
    "idade = int(input(\"Digite sua idade: \")) #cast\n",
    "peso = float(input(\"Digite seu peso: \")) #cast\n",
    "print(f\"A variável nome é do tipo {type(nome)}\")\n",
    "print(f\"A variável idade é do tipo {type(idade)}\")\n",
    "print(f\"A variável peso é do tipo {type(peso)}\")\n",
    "print(f\"Meu nome é {nome}, meu peso é {peso} e minha idade é {idade} anos\")"
   ]
  },
  {
   "cell_type": "code",
   "execution_count": 14,
   "id": "a147083d",
   "metadata": {},
   "outputs": [
    {
     "name": "stdout",
     "output_type": "stream",
     "text": [
      "A variável teste é do tipo <class 'str'>\n",
      "False\n",
      "False\n",
      "True\n",
      "False\n",
      "False\n",
      "False\n",
      "True\n"
     ]
    }
   ],
   "source": [
    "teste = 'Icaro10'\n",
    "print(f\"A variável teste é do tipo {type(teste)}\")\n",
    "#métodos de teste de tipo:\n",
    "print(teste.isnumeric()) #apesar de string, é numérico?\n",
    "print(teste.isalpha()) #é alfabético?\n",
    "print(teste.isalnum()) #é alfanumérico?\n",
    "print(teste.isspace()) #só tem espaço?\n",
    "print(teste.isupper()) #está em maiúsculo?\n",
    "print(teste.islower()) #está em minúsculo?\n",
    "print(teste.istitle()) #está capitalizado?\n",
    "#a variável teste é um objeto e um objeto tem atributos e métodos, mas como tem parênteses ao final, neste caso são métodos."
   ]
  },
  {
   "cell_type": "markdown",
   "id": "36b8de1c",
   "metadata": {},
   "source": [
    "### Operadores Aritméticos\n",
    "Adição: +\n",
    "\n",
    "Subtração: -\n",
    "\n",
    "Divisão: /\n",
    "\n",
    "Multiplicação: *\n",
    "\n",
    "Potência: **\n",
    "\n",
    "Divisão inteira: //\n",
    "\n",
    "Resto da divisão (módulo): %"
   ]
  },
  {
   "cell_type": "code",
   "execution_count": 5,
   "id": "32e623d2",
   "metadata": {},
   "outputs": [
    {
     "name": "stdout",
     "output_type": "stream",
     "text": [
      "8\n",
      "3\n",
      "20\n",
      "16\n",
      "1.6666666666666667\n",
      "1\n",
      "0\n"
     ]
    }
   ],
   "source": [
    "a = 4\n",
    "b = 4\n",
    "print(a + b)\n",
    "print(5 - 2)\n",
    "print(a * 5)\n",
    "print(a**2)\n",
    "print(10 / 6)\n",
    "print(10 // 6)\n",
    "print(10 % 2) #útil para separar pares (0) e ímpares (1)"
   ]
  },
  {
   "cell_type": "code",
   "execution_count": 15,
   "id": "3f4a1870",
   "metadata": {},
   "outputs": [
    {
     "name": "stdout",
     "output_type": "stream",
     "text": [
      "10.0\n",
      "10.0\n"
     ]
    }
   ],
   "source": [
    "'''\n",
    "Ordem de Precedência:\n",
    "1. ()\n",
    "2. **\n",
    "3. *, /, //, % (o que aparecer primeiro)\n",
    "4. +, -\n",
    "'''\n",
    "print(4+6*4/(4-2)**2)\n",
    "print(4+6*4/pow((4-2),2))"
   ]
  },
  {
   "cell_type": "code",
   "execution_count": 5,
   "id": "3cf30c66",
   "metadata": {},
   "outputs": [
    {
     "name": "stdout",
     "output_type": "stream",
     "text": [
      "0.6666666666666666\n",
      "0.666667\n",
      "0.67\n"
     ]
    }
   ],
   "source": [
    "#formatação pré-definida\n",
    "a = 2\n",
    "b = 3\n",
    "print(a/b)\n",
    "print('%f'%(a/b)) #padrão de 6 casas decimais\n",
    "print('%.2f'%(a/b)) #2 casas decimais (modo mais antigo)"
   ]
  },
  {
   "cell_type": "code",
   "execution_count": 22,
   "id": "ede359d0",
   "metadata": {},
   "outputs": [
    {
     "name": "stdout",
     "output_type": "stream",
     "text": [
      "0.67\n",
      "0.67\n",
      "================0.67\n"
     ]
    }
   ],
   "source": [
    "div = a/b\n",
    "print('{:.2f}'.format(div)) #ainda antigo\n",
    "print(f'{div:.2f}') #Python 3.7\n",
    "print(f'{div:=>20.2f}')"
   ]
  },
  {
   "cell_type": "code",
   "execution_count": 9,
   "id": "a8feb2bf",
   "metadata": {},
   "outputs": [
    {
     "name": "stdout",
     "output_type": "stream",
     "text": [
      "OiOiOiOiOi\n",
      "====================\n"
     ]
    }
   ],
   "source": [
    "#operando com strings\n",
    "print('Oi'*5)\n",
    "print('='*20)"
   ]
  },
  {
   "cell_type": "markdown",
   "id": "354058a8",
   "metadata": {},
   "source": [
    "## Importando Módulos"
   ]
  },
  {
   "cell_type": "markdown",
   "id": "fa7329fa",
   "metadata": {},
   "source": [
    "### Introdução a Módulos (classes)"
   ]
  },
  {
   "cell_type": "code",
   "execution_count": 18,
   "id": "e43eb652",
   "metadata": {},
   "outputs": [],
   "source": [
    "#em python.org > docs, escolha a versão do python, vá em library reference para ver a biblioteca\n",
    "#import + tab para ver bibliotecas\n",
    "#importando biblioteca (generalista, ou seja, importa tudo):\n",
    "import math #já veio instalada e o import traz funções matemáticas extras"
   ]
  },
  {
   "cell_type": "code",
   "execution_count": 19,
   "id": "e052f226",
   "metadata": {},
   "outputs": [
    {
     "name": "stdout",
     "output_type": "stream",
     "text": [
      "0.53\n",
      "0.71\n",
      "3.14\n",
      "4.0\n",
      "2.0\n",
      "6\n",
      "6\n"
     ]
    }
   ],
   "source": [
    "'''\n",
    "ceil - arredonda pra cima\n",
    "floor - arredonda pra baixo\n",
    "trunc - trunca, ou seja, só mostra antes da vírgula igual a função int\n",
    "pow - potenciação\n",
    "sqrt - raíz\n",
    "factorial - fatorial\n",
    "'''\n",
    "x1 = math.cos(45) #módulo/classe = math e o método/função é comando cos (cosseno)\n",
    "print(f'{x1:.2f}') #não está errado, pois leu 45 radianos.\n",
    "x2 = math.cos(math.radians(45)) #precisa transformar graus para radianos.\n",
    "print(f'{x2:.2f}')\n",
    "z = math.pi #atributo\n",
    "print(f'{z:.2f}')\n",
    "y = math.pow(2,2) # 2**2\n",
    "print(y)\n",
    "w = math.sqrt(4) #raiz quadrada = 2**(1/2)\n",
    "print(w)\n",
    "k1 = math.trunc(6.52)\n",
    "k2 = int(6.52)\n",
    "print(k1)\n",
    "print(k2)"
   ]
  },
  {
   "cell_type": "code",
   "execution_count": 23,
   "id": "6a43a841",
   "metadata": {},
   "outputs": [
    {
     "name": "stdout",
     "output_type": "stream",
     "text": [
      "A raíz de 29 é igual a 5.39\n",
      "A raíz de 29 é igual a 6\n"
     ]
    }
   ],
   "source": [
    "num = 29\n",
    "print(f'A raíz de {num} é igual a {math.sqrt(num):.2f}')\n",
    "print(f'A raíz de {num} é igual a {math.ceil(math.sqrt(num))}')"
   ]
  },
  {
   "cell_type": "code",
   "execution_count": 4,
   "id": "0f16f7c4",
   "metadata": {},
   "outputs": [
    {
     "name": "stdout",
     "output_type": "stream",
     "text": [
      "A raíz de 29 é igual a 6\n"
     ]
    }
   ],
   "source": [
    "num = 29\n",
    "#importando função específica de uma biblioteca\n",
    "from math import sqrt\n",
    "#importando mais de uma\n",
    "from math import sqrt, ceil\n",
    "print(f'A raíz de {num} é igual a {ceil(sqrt(num))}') #não precisa digitar a classe math"
   ]
  },
  {
   "cell_type": "code",
   "execution_count": 3,
   "id": "8a6d0e04",
   "metadata": {},
   "outputs": [
    {
     "name": "stdout",
     "output_type": "stream",
     "text": [
      "5 -> 4 -> 6 -> 5 -> 5 -> 4 -> 3 -> 5 -> 3 -> 3 -> Fim\n"
     ]
    }
   ],
   "source": [
    "import random\n",
    "\n",
    "for i in range(10):\n",
    "    x = random.randrange(1,7) #do 1 ao 7, mas o 7 não entra\n",
    "    print(x, '-> ', end='')\n",
    "print('Fim')"
   ]
  },
  {
   "cell_type": "code",
   "execution_count": 4,
   "id": "73240547",
   "metadata": {},
   "outputs": [
    {
     "name": "stdout",
     "output_type": "stream",
     "text": [
      "3 -> 5 -> 1 -> 5 -> 5 -> 5 -> 1 -> 1 -> 1 -> 3 -> Fim\n"
     ]
    }
   ],
   "source": [
    "for i in range(10):\n",
    "    x = random.randrange(1,7,2) #2 em 2\n",
    "    print(x, '-> ', end='')\n",
    "print('Fim')"
   ]
  },
  {
   "cell_type": "code",
   "execution_count": 5,
   "id": "f972dd04",
   "metadata": {},
   "outputs": [
    {
     "name": "stdout",
     "output_type": "stream",
     "text": [
      "5 -> 3 -> 2 -> 2 -> 5 -> 6 -> 7 -> 5 -> 1 -> 5 -> Fim\n"
     ]
    }
   ],
   "source": [
    "for i in range(10):\n",
    "    x = random.randint(1,7) #o 7 entra (intervalo fechado à direita)\n",
    "    print(x, '-> ', end='')\n",
    "print('Fim')"
   ]
  },
  {
   "cell_type": "code",
   "execution_count": 47,
   "id": "b354ea07",
   "metadata": {},
   "outputs": [
    {
     "ename": "ModuleNotFoundError",
     "evalue": "No module named 'emoji'",
     "output_type": "error",
     "traceback": [
      "\u001b[1;31m---------------------------------------------------------------------------\u001b[0m",
      "\u001b[1;31mModuleNotFoundError\u001b[0m                       Traceback (most recent call last)",
      "\u001b[1;32m~\\AppData\\Local\\Temp\\ipykernel_4976\\1679163066.py\u001b[0m in \u001b[0;36m<module>\u001b[1;34m\u001b[0m\n\u001b[1;32m----> 1\u001b[1;33m \u001b[1;32mimport\u001b[0m \u001b[0memoji\u001b[0m\u001b[1;33m\u001b[0m\u001b[1;33m\u001b[0m\u001b[0m\n\u001b[0m",
      "\u001b[1;31mModuleNotFoundError\u001b[0m: No module named 'emoji'"
     ]
    }
   ],
   "source": [
    "import emoji #erro, pois não tem a biblioteca instalada"
   ]
  },
  {
   "cell_type": "code",
   "execution_count": 49,
   "id": "cb2b09a2",
   "metadata": {},
   "outputs": [
    {
     "name": "stdout",
     "output_type": "stream",
     "text": [
      "Collecting emoji\n",
      "  Downloading emoji-2.2.0.tar.gz (240 kB)\n",
      "     -------------------------------------- 240.9/240.9 kB 2.1 MB/s eta 0:00:00\n",
      "  Preparing metadata (setup.py): started\n",
      "  Preparing metadata (setup.py): finished with status 'done'\n",
      "Building wheels for collected packages: emoji\n",
      "  Building wheel for emoji (setup.py): started\n",
      "  Building wheel for emoji (setup.py): finished with status 'done'\n",
      "  Created wheel for emoji: filename=emoji-2.2.0-py3-none-any.whl size=234912 sha256=c0ccdd8f42ccd69b9cdedef43819f14a961ad4aba02e5764990609bc742a4324\n",
      "  Stored in directory: c:\\users\\helio\\appdata\\local\\pip\\cache\\wheels\\9a\\b8\\0f\\f580817231cbf59f6ade9fd132ff60ada1de9f7dc85521f857\n",
      "Successfully built emoji\n",
      "Installing collected packages: emoji\n",
      "Successfully installed emoji-2.2.0\n"
     ]
    }
   ],
   "source": [
    "#em python.org > pypi\n",
    "!pip install emoji"
   ]
  },
  {
   "cell_type": "code",
   "execution_count": 57,
   "id": "d5dfdcbb",
   "metadata": {},
   "outputs": [
    {
     "name": "stdout",
     "output_type": "stream",
     "text": [
      "Olá, mundo! 🕶️\n",
      "Olá, mundo! 😎\n"
     ]
    }
   ],
   "source": [
    "#https://pypi.org/project/emoji/\n",
    "import emoji\n",
    "print(emoji.emojize('Olá, mundo! :sunglasses:'))\n",
    "print(emoji.emojize('Olá, mundo! :sunglasses:', language='alias'))"
   ]
  },
  {
   "cell_type": "code",
   "execution_count": null,
   "id": "9d8bfb2c",
   "metadata": {},
   "outputs": [
    {
     "name": "stdout",
     "output_type": "stream",
     "text": [
      "Requirement already satisfied: pygame in c:\\users\\helio\\anaconda3\\lib\\site-packages (2.1.2)\n"
     ]
    }
   ],
   "source": [
    "!pip install pygame\n",
    "import pygame\n",
    "\n",
    "#inicializando mixer do pygame\n",
    "pygame.mixer.init()\n",
    "\n",
    "#inicializando o pygame\n",
    "pygame.init()\n",
    "\n",
    "pygame.mixer.music.load('Johnny Cash - Hurt.mp3')\n",
    "pygame.mixer.music.play() #toca a música\n",
    "pygame.event.wait()"
   ]
  },
  {
   "cell_type": "markdown",
   "id": "8a30bf25",
   "metadata": {},
   "source": [
    "**Exercício:** Calcule a hipotenusa a partir do cateto oposto e do cateto adjacente"
   ]
  },
  {
   "cell_type": "code",
   "execution_count": 62,
   "id": "a7197f08",
   "metadata": {
    "scrolled": true
   },
   "outputs": [
    {
     "name": "stdout",
     "output_type": "stream",
     "text": [
      "comprimento do cateto oposto: 3\n",
      "comprimento do cateto adjacente: 4\n",
      "A hipotenusa vale 5.0\n",
      "A hipotenusa vale 5.0\n",
      "A hipotenusa vale 5.0\n"
     ]
    }
   ],
   "source": [
    "co = float(input('comprimento do cateto oposto: '))\n",
    "ca = float(input('comprimento do cateto adjacente: '))\n",
    "h = (co**2 + ca**2)**(1/2)\n",
    "hi = sqrt(pow(co,2) + pow(ca,2))\n",
    "hip = math.hypot(co,ca)\n",
    "print(f'A hipotenusa vale {h}')\n",
    "print(f'A hipotenusa vale {hi}')\n",
    "print(f'A hipotenusa vale {hip}')"
   ]
  },
  {
   "cell_type": "markdown",
   "id": "d6f9e984",
   "metadata": {},
   "source": [
    "**Exercício:** Sorteie 1 de 4 nomes"
   ]
  },
  {
   "cell_type": "code",
   "execution_count": 74,
   "id": "4e96c403",
   "metadata": {},
   "outputs": [
    {
     "name": "stdout",
     "output_type": "stream",
     "text": [
      "Digite o primeiro nome: Ana\n",
      "Digite o segundo nome: Carlos\n",
      "Digite o terceiro nome: Bia\n",
      "Digite o quarto nome: Icaro\n",
      "O nome sorteado é Ana\n"
     ]
    }
   ],
   "source": [
    "from random import choice\n",
    "n1 = input('Digite o primeiro nome: ')\n",
    "n2 = input('Digite o segundo nome: ')\n",
    "n3 = input('Digite o terceiro nome: ')\n",
    "n4 = input('Digite o quarto nome: ')\n",
    "lista = [n1, n2, n3, n4] #no python, listas ficam entre colchetes\n",
    "escolhido = choice(lista)\n",
    "print(f'O nome sorteado é {escolhido}')"
   ]
  },
  {
   "cell_type": "markdown",
   "id": "0155f523",
   "metadata": {},
   "source": [
    "**Exercício:** Ordene 4 nomes aleatoriamente"
   ]
  },
  {
   "cell_type": "code",
   "execution_count": 84,
   "id": "134ef7bf",
   "metadata": {},
   "outputs": [
    {
     "name": "stdout",
     "output_type": "stream",
     "text": [
      "Digite o primeiro nome: Ana\n",
      "Digite o segundo nome: Carlos\n",
      "Digite o terceiro nome: Bia\n",
      "Digite o quarto nome: Icaro\n",
      "A ordem será ['Carlos', 'Icaro', 'Bia', 'Ana']\n",
      "Os escolhidos são: ['Carlos', 'Icaro']\n"
     ]
    }
   ],
   "source": [
    "from random import shuffle\n",
    "from random import sample\n",
    "n1 = input('Digite o primeiro nome: ')\n",
    "n2 = input('Digite o segundo nome: ')\n",
    "n3 = input('Digite o terceiro nome: ')\n",
    "n4 = input('Digite o quarto nome: ')\n",
    "lista = [n1, n2, n3, n4]\n",
    "shuffle(lista) #muda a ordem da lista\n",
    "print(f'A ordem será {lista}')\n",
    "\n",
    "#extra: escolhendo uma amostra da lista:\n",
    "k = 2 #tamanho da amostra\n",
    "nova_lista = sample(lista,k) #pegou a amostra de 2\n",
    "print(f'Os escolhidos são: {nova_lista}')"
   ]
  },
  {
   "cell_type": "markdown",
   "id": "246fa108",
   "metadata": {},
   "source": [
    "## Strings"
   ]
  },
  {
   "cell_type": "markdown",
   "id": "df982d46",
   "metadata": {},
   "source": [
    "### Introdução a strings (cadeias de caracteres)"
   ]
  },
  {
   "cell_type": "code",
   "execution_count": 42,
   "id": "93a2bd0a",
   "metadata": {},
   "outputs": [
    {
     "name": "stdout",
     "output_type": "stream",
     "text": [
      "\n",
      "    Esta é uma string longa\n",
      "    contendo informações sobre\n",
      "    Python\n",
      "\n"
     ]
    }
   ],
   "source": [
    "nome = \"Icaro Martins\"\n",
    "nome2 = 'Icaro Martins' #tanto faz aspas duplas ou simples (mais usual)\n",
    "nome3 = '''\n",
    "    Esta é uma string longa\n",
    "    contendo informações sobre\n",
    "    Python\n",
    "'''\n",
    "print(nome3) #o espaço com TAB (margem) também é impresso"
   ]
  },
  {
   "cell_type": "code",
   "execution_count": 105,
   "id": "ea006a1e",
   "metadata": {},
   "outputs": [
    {
     "name": "stdout",
     "output_type": "stream",
     "text": [
      "\n",
      "Esta é uma string longa\n",
      "contendo a variável inteira\n",
      "que é o número 4\n",
      "\n"
     ]
    }
   ],
   "source": [
    "num = 4\n",
    "nome4 = f'''\n",
    "Esta é uma string longa\n",
    "contendo a variável inteira\n",
    "que é o número {num}\n",
    "'''\n",
    "print(nome4)"
   ]
  },
  {
   "cell_type": "markdown",
   "id": "e70acc0a",
   "metadata": {},
   "source": [
    "### Propriedades das strings"
   ]
  },
  {
   "cell_type": "code",
   "execution_count": 38,
   "id": "640d7a84",
   "metadata": {},
   "outputs": [
    {
     "name": "stdout",
     "output_type": "stream",
     "text": [
      "15\n"
     ]
    }
   ],
   "source": [
    "#Análises\n",
    "l = 'lista de letras'\n",
    "tamanho = len(l) #comprimento\n",
    "print(tamanho)"
   ]
  },
  {
   "cell_type": "code",
   "execution_count": 4,
   "id": "71f4dd88",
   "metadata": {},
   "outputs": [
    {
     "name": "stdout",
     "output_type": "stream",
     "text": [
      "2\n"
     ]
    }
   ],
   "source": [
    "contagem = l.count('a') #conta letras 'a's\n",
    "print(contagem)"
   ]
  },
  {
   "cell_type": "code",
   "execution_count": 8,
   "id": "1a6c48ac",
   "metadata": {},
   "outputs": [
    {
     "name": "stdout",
     "output_type": "stream",
     "text": [
      "6\n",
      "-1\n"
     ]
    }
   ],
   "source": [
    "procurar = l.find('de') #posição do index em que começa\n",
    "procurar2 = l.find('python') #quando não encontra, aparece -1\n",
    "print(procurar)\n",
    "print(procurar2)"
   ]
  },
  {
   "cell_type": "code",
   "execution_count": 11,
   "id": "8e52fd74",
   "metadata": {},
   "outputs": [
    {
     "name": "stdout",
     "output_type": "stream",
     "text": [
      "True\n",
      "False\n"
     ]
    }
   ],
   "source": [
    "existe = 'lista' in l\n",
    "nexiste = 'python' in l\n",
    "print(existe)\n",
    "print(nexiste)"
   ]
  },
  {
   "cell_type": "code",
   "execution_count": 33,
   "id": "4bc67aad",
   "metadata": {},
   "outputs": [
    {
     "name": "stdout",
     "output_type": "stream",
     "text": [
      "lista de python\n",
      "LISTA DE LETRAS\n",
      "9\n",
      "Lista de letras\n",
      "Lista De Letras\n"
     ]
    }
   ],
   "source": [
    "#transformação\n",
    "substituir = l.replace('letras', 'python') #é possível alterar lista através de método\n",
    "print(substituir)\n",
    "maiusculo = l.upper() #lower para minúsculo\n",
    "print(maiusculo)\n",
    "localiza = l.upper().find('LETRAS') #transforma em maiúsculo e procura a string em maiúsculo\n",
    "print(localiza)\n",
    "capitalizar = l.capitalize() #só a primeira em maiúsculo\n",
    "print(capitalizar)\n",
    "titulo = l.title() #primeira letra de cada palavra em maiúsculo\n",
    "print(titulo)"
   ]
  },
  {
   "cell_type": "code",
   "execution_count": 39,
   "id": "07564628",
   "metadata": {},
   "outputs": [
    {
     "name": "stdout",
     "output_type": "stream",
     "text": [
      "['lista', 'de', 'letras']\n"
     ]
    }
   ],
   "source": [
    "lista = l.split(' ') #divide string onde tiver espaços criando outra lista\n",
    "print(lista)"
   ]
  },
  {
   "cell_type": "code",
   "execution_count": 29,
   "id": "8b6b1318",
   "metadata": {},
   "outputs": [
    {
     "name": "stdout",
     "output_type": "stream",
     "text": [
      "lista-de-letras\n"
     ]
    }
   ],
   "source": [
    "frase = '-'.join(lista) #junção da lista em uma frase\n",
    "print(frase)"
   ]
  },
  {
   "cell_type": "code",
   "execution_count": 49,
   "id": "83b1b852",
   "metadata": {},
   "outputs": [
    {
     "name": "stdout",
     "output_type": "stream",
     "text": [
      "['14', '2', '1984']\n"
     ]
    }
   ],
   "source": [
    "data = '14/2/1984'\n",
    "lista2 = data.split('/')\n",
    "print(lista2)"
   ]
  },
  {
   "cell_type": "code",
   "execution_count": 27,
   "id": "58059552",
   "metadata": {},
   "outputs": [
    {
     "name": "stdout",
     "output_type": "stream",
     "text": [
      "22\n",
      "Aprenda    Python\n",
      "17\n",
      "   Aprenda    Python\n",
      "20\n",
      "Aprenda    Python  \n",
      "19\n"
     ]
    }
   ],
   "source": [
    "frase = '   Aprenda    Python  '\n",
    "cortar = frase.strip() #retira espaços do início e fim\n",
    "print(len(frase))\n",
    "print(cortar)\n",
    "print(len(cortar))\n",
    "cortar2 = frase.rstrip() #corta à direita (right)\n",
    "cortar3 = frase.lstrip() #corta à esquerda (left)\n",
    "print(cortar2)\n",
    "print(len(cortar2))\n",
    "print(cortar3)\n",
    "print(len(cortar3))"
   ]
  },
  {
   "cell_type": "markdown",
   "id": "705ed7f5",
   "metadata": {},
   "source": [
    "### Fatiando strings"
   ]
  },
  {
   "cell_type": "code",
   "execution_count": 37,
   "id": "33f72aeb",
   "metadata": {},
   "outputs": [
    {
     "name": "stdout",
     "output_type": "stream",
     "text": [
      "y\n",
      "p\n",
      "yth\n",
      "pytho\n",
      "hon\n",
      "pt\n",
      "letras\n",
      "r\n"
     ]
    }
   ],
   "source": [
    "#       012345\n",
    "nome = 'python'\n",
    "nova_string = nome[1] #indexação de string\n",
    "nova_string2 = nome[-6] #conta \"de trás pra frente\" (na verdade -6 é menor que -5, etc.)\n",
    "nova_string3 = nome[1:4] #intervalo aberto à direita, ou seja, não imprime o 4º, pois conta 4 a partir do 0.\n",
    "nova_string4 = nome[:5] #começa do 0, ou seja, é igual a [0:5]\n",
    "nova_string5 = nome[3:] #começa do 3 e vai até o final.\n",
    "nova_string6 = nome[0:4:2] #começa no 0, vai até o 4, de 2 em 2.\n",
    "print(nova_string)\n",
    "print(nova_string2)\n",
    "print(nova_string3)\n",
    "print(nova_string4)\n",
    "print(nova_string5)\n",
    "print(nova_string6)\n",
    "print(lista[2]) #index 2 da lista\n",
    "print(lista[2][3]) #index 3 do index 2 da lista."
   ]
  },
  {
   "cell_type": "code",
   "execution_count": 5,
   "id": "347c5cae",
   "metadata": {},
   "outputs": [
    {
     "name": "stdout",
     "output_type": "stream",
     "text": [
      "1\n"
     ]
    }
   ],
   "source": [
    "#contagem com fatiamento\n",
    "contagemf = l.count('a',0,5)\n",
    "print(contagemf)"
   ]
  },
  {
   "cell_type": "markdown",
   "id": "f2e91658",
   "metadata": {},
   "source": [
    "**Exercício:** Crie um programa que leia o nome completo.\n",
    "1. Nome com todas as letras em maiúsculo\n",
    "2. Nome com todas as letras em minúsculo\n",
    "3. Quantas letras ao todo (sem considerar espaços)?\n",
    "4. Quantas letras tem o primeiro nome?"
   ]
  },
  {
   "cell_type": "code",
   "execution_count": 51,
   "id": "506b253c",
   "metadata": {},
   "outputs": [
    {
     "name": "stdout",
     "output_type": "stream",
     "text": [
      "Digite seu nome completo: Icaro Duarte Martins\n",
      "ICARO DUARTE MARTINS\n",
      "icaro duarte martins\n",
      "O nome completo possui 18 letras\n",
      "O primeiro nome possui 5 letras\n"
     ]
    }
   ],
   "source": [
    "nome = input('Digite seu nome completo: ').strip()\n",
    "print(nome.upper())\n",
    "print(nome.lower())\n",
    "dividido = nome.split()\n",
    "juntado = ''.join(dividido)\n",
    "#print(f'O nome completo possui {len(juntado)} letras')\n",
    "print(f'O nome completo possui {len(nome) - nome.count(\" \")} letras')\n",
    "#print(f'O primeiro nome é {dividido[0]} e ele possui {len(dividido[0])} letras')\n",
    "print(f'O primeiro nome possui {nome.find(\" \")} letras')"
   ]
  },
  {
   "cell_type": "markdown",
   "id": "272a513d",
   "metadata": {},
   "source": [
    "**Exercício:** Crie um programa que leia um número de 0 a 9999 e mostre na tela cada um dos dígitos separados"
   ]
  },
  {
   "cell_type": "code",
   "execution_count": 7,
   "id": "14107bba",
   "metadata": {},
   "outputs": [
    {
     "name": "stdout",
     "output_type": "stream",
     "text": [
      "Digite um número de 0 a 9999: 1234\n",
      "Unidade: 4\n",
      "Dezena: 3\n",
      "Centena: 2\n",
      "Milhar: 1\n"
     ]
    }
   ],
   "source": [
    "num = int(input('Digite um número de 0 a 9999: '))\n",
    "u = num // 1 % 10 #o resto é o próprio número\n",
    "d = num // 10 % 10\n",
    "c = num // 100 % 10\n",
    "m = num // 1000 % 10\n",
    "print(f'Unidade: {u}')\n",
    "print(f'Dezena: {d}')\n",
    "print(f'Centena: {c}')\n",
    "print(f'Milhar: {m}')"
   ]
  },
  {
   "cell_type": "code",
   "execution_count": 62,
   "id": "e56c1bbb",
   "metadata": {},
   "outputs": [
    {
     "name": "stdout",
     "output_type": "stream",
     "text": [
      "Digite um número de 0 a 9999: 1984\n",
      "Unidade: 4\n",
      "Dezena: 8\n",
      "Centena: 9\n",
      "Milhar: 1\n"
     ]
    }
   ],
   "source": [
    "num = f'{input(\"Digite um número de 0 a 9999: \"):0>4}'\n",
    "#num = f'{num:0>4}' #acrescenta caracteres '0's ao número alinhado à direita\n",
    "print(f'Unidade: {num[3]}')\n",
    "print(f'Dezena: {num[2]}')\n",
    "print(f'Centena: {num[1]}')\n",
    "print(f'Milhar: {num[0]}')"
   ]
  },
  {
   "cell_type": "markdown",
   "id": "1afa1044",
   "metadata": {},
   "source": [
    "**Exercício:** Cidade começa com 'Santo'?"
   ]
  },
  {
   "cell_type": "code",
   "execution_count": 66,
   "id": "03c22e40",
   "metadata": {},
   "outputs": [
    {
     "name": "stdout",
     "output_type": "stream",
     "text": [
      "Em que cidade você nasceu? Santo Amaro\n",
      "True\n"
     ]
    }
   ],
   "source": [
    "cid = input('Em que cidade você nasceu? ').strip()\n",
    "print(f'{cid[:5].upper() == \"SANTO\"}')"
   ]
  },
  {
   "cell_type": "markdown",
   "id": "72f8dba6",
   "metadata": {},
   "source": [
    "**Exercício:** Tem 'Silva' no nome?"
   ]
  },
  {
   "cell_type": "code",
   "execution_count": 74,
   "id": "b4d18ed5",
   "metadata": {},
   "outputs": [
    {
     "name": "stdout",
     "output_type": "stream",
     "text": [
      "Digite seu nome completo: Alisson Silva\n",
      "True\n"
     ]
    }
   ],
   "source": [
    "nome = input('Digite seu nome completo: ').strip()\n",
    "print('silva' in nome.lower())"
   ]
  },
  {
   "cell_type": "markdown",
   "id": "7b880aef",
   "metadata": {},
   "source": [
    "**Exercício:** Crie um programa que leia uma frase\n",
    "1. Quantas vezes aparece a letra 'a'?\n",
    "2. Em que posição a letra a aparece pela primeira vez?\n",
    "3. Em que posição a letra a aparece pela última vez?"
   ]
  },
  {
   "cell_type": "code",
   "execution_count": 79,
   "id": "11412b1b",
   "metadata": {},
   "outputs": [
    {
     "name": "stdout",
     "output_type": "stream",
     "text": [
      "Digite uma frase: Arara Azul\n",
      "4\n",
      "1\n",
      "7\n"
     ]
    }
   ],
   "source": [
    "frase = input('Digite uma frase: ').lower().strip()\n",
    "print(frase.count('a'))\n",
    "print(frase.find('a')+1)\n",
    "print(frase.rfind('a')+1)"
   ]
  },
  {
   "cell_type": "markdown",
   "id": "48a2c31e",
   "metadata": {},
   "source": [
    "**Exercício:** Crie um programa que leia o nome completo e mostre o primeiro e o último separadamente"
   ]
  },
  {
   "cell_type": "code",
   "execution_count": 85,
   "id": "95404303",
   "metadata": {},
   "outputs": [
    {
     "name": "stdout",
     "output_type": "stream",
     "text": [
      "Escreva seu nome completo: Icaro Duarte Martins\n",
      "Seu primeiro nome é Icaro\n",
      "Seu último nome é Martins\n"
     ]
    }
   ],
   "source": [
    "nome = input('Escreva seu nome completo: ').strip().split()\n",
    "print(f'Seu primeiro nome é {nome[0]}')\n",
    "print(f'Seu último nome é {nome[-1]}')\n",
    "#print(f'Seu último nome é {nome[len(nome)-1]}')"
   ]
  },
  {
   "cell_type": "markdown",
   "id": "e32c677d",
   "metadata": {},
   "source": [
    "## Estruturas de Condição"
   ]
  },
  {
   "cell_type": "markdown",
   "id": "4ab23f5a",
   "metadata": {},
   "source": [
    "### Operadores de Relação e Condição\n",
    "Operadores de igualdade: != e ==\n",
    "\n",
    "Operadores relacionais: >, <, >= e <="
   ]
  },
  {
   "cell_type": "code",
   "execution_count": 17,
   "id": "2fbeab06",
   "metadata": {},
   "outputs": [
    {
     "name": "stdout",
     "output_type": "stream",
     "text": [
      "True\n",
      "False\n",
      "True\n",
      "False\n"
     ]
    },
    {
     "data": {
      "text/plain": [
       "bool"
      ]
     },
     "execution_count": 17,
     "metadata": {},
     "output_type": "execute_result"
    }
   ],
   "source": [
    "numero1 = 100 == 100 #lê-se apenas um \"=\" como \"recebe\"\n",
    "numero2 = 100 != 100\n",
    "numero3 = 100 >= 100\n",
    "numero4 = 100 > 100\n",
    "print(numero1)\n",
    "print(numero2)\n",
    "print(numero3)\n",
    "print(numero4)\n",
    "type(numero1)"
   ]
  },
  {
   "cell_type": "code",
   "execution_count": 18,
   "id": "6c897778",
   "metadata": {},
   "outputs": [
    {
     "name": "stdout",
     "output_type": "stream",
     "text": [
      "Digite sua idade: 17\n",
      "False\n"
     ]
    },
    {
     "data": {
      "text/plain": [
       "bool"
      ]
     },
     "execution_count": 18,
     "metadata": {},
     "output_type": "execute_result"
    }
   ],
   "source": [
    "idade = int(input('Digite sua idade: '))\n",
    "resp = idade >= 18\n",
    "print(resp)\n",
    "type(resp)"
   ]
  },
  {
   "cell_type": "markdown",
   "id": "afa7936b",
   "metadata": {},
   "source": [
    "### Comando if else"
   ]
  },
  {
   "cell_type": "code",
   "execution_count": 19,
   "id": "369a5d99",
   "metadata": {},
   "outputs": [
    {
     "name": "stdout",
     "output_type": "stream",
     "text": [
      "Você não pode dirigir!\n"
     ]
    }
   ],
   "source": [
    "if resp == True: #o \"T\" de \"True\" deve ser maiúsculo!\n",
    "    print('Você já pode dirigir.')\n",
    "else:\n",
    "    print('Você não pode dirigir!')"
   ]
  },
  {
   "cell_type": "code",
   "execution_count": 20,
   "id": "aaf6603e",
   "metadata": {},
   "outputs": [
    {
     "name": "stdout",
     "output_type": "stream",
     "text": [
      "Este número não é igual a 10\n"
     ]
    }
   ],
   "source": [
    "numero = 11\n",
    "if numero == 10: #True\n",
    "    print(f\"Este número é igual a {numero}\")\n",
    "else: #False\n",
    "    print(\"Este número não é igual a 10\")"
   ]
  },
  {
   "cell_type": "code",
   "execution_count": 21,
   "id": "67d05e53",
   "metadata": {},
   "outputs": [
    {
     "name": "stdout",
     "output_type": "stream",
     "text": [
      "Este número não é igual a 10\n"
     ]
    }
   ],
   "source": [
    "#condição simplificada (na mesma linha)\n",
    "print(f\"Este número é igual a {numero}\" if numero == 10 else \"Este número não é igual a 10\")"
   ]
  },
  {
   "cell_type": "code",
   "execution_count": 22,
   "id": "7763ab5a",
   "metadata": {},
   "outputs": [
    {
     "name": "stdout",
     "output_type": "stream",
     "text": [
      "A idade está entre 20 e 60 anos\n"
     ]
    }
   ],
   "source": [
    "#condição composta\n",
    "idade = 40\n",
    "if idade >= 20:\n",
    "    if idade <= 60:\n",
    "        print('A idade está entre 20 e 60 anos')\n",
    "    else:\n",
    "        print('A idade não está entre 20 e 60 anos')\n",
    "else:\n",
    "    print('A idade não está entre 20 e 60 anos')"
   ]
  },
  {
   "cell_type": "code",
   "execution_count": 23,
   "id": "3e1af6c2",
   "metadata": {},
   "outputs": [
    {
     "name": "stdout",
     "output_type": "stream",
     "text": [
      "A idade está entre 20 e 60 anos\n"
     ]
    }
   ],
   "source": [
    "#and\n",
    "if idade >=20 and idade <=60:\n",
    "    print('A idade está entre 20 e 60 anos')\n",
    "else:\n",
    "    print('A idade não está entre 20 e 60 anos')"
   ]
  },
  {
   "cell_type": "code",
   "execution_count": 24,
   "id": "f2332e6c",
   "metadata": {},
   "outputs": [
    {
     "name": "stdout",
     "output_type": "stream",
     "text": [
      "A idade está entre 20 e 60 anos\n"
     ]
    }
   ],
   "source": [
    "#or\n",
    "if idade < 20 or idade > 60:\n",
    "    print('A idade não está entre 20 e 60 anos')\n",
    "else:\n",
    "    print('A idade está entre 20 e 60 anos')"
   ]
  },
  {
   "cell_type": "markdown",
   "id": "d04464f4",
   "metadata": {},
   "source": [
    "**Exercício:** Crie um programa para o computador selecionar um número entre 0 e 5 e peça para o usuário tentar descobrir.\n",
    "\n",
    "Dica: from random import randint "
   ]
  },
  {
   "cell_type": "code",
   "execution_count": 25,
   "id": "b4d4370a",
   "metadata": {},
   "outputs": [
    {
     "name": "stdout",
     "output_type": "stream",
     "text": [
      "-=--=--=--=--=--=--=--=--=--=--=--=--=--=--=--=--=--=--=--=-\n",
      "Vou pensar em um número entre 0 e 5. Tente adivinhar...\n",
      "-=--=--=--=--=--=--=--=--=--=--=--=--=--=--=--=--=--=--=--=-\n",
      "Em que número eu pensei? 4\n",
      "PROCESSANDO...\n",
      "GANHEI! Eu pensei no 0 e não no 4!\n"
     ]
    }
   ],
   "source": [
    "from random import randint\n",
    "from time import sleep\n",
    "print('-=-'*20)\n",
    "print('Vou pensar em um número entre 0 e 5. Tente adivinhar...')\n",
    "print('-=-'*20)\n",
    "x = randint(0,5)\n",
    "y = int(input('Em que número eu pensei? '))\n",
    "print('PROCESSANDO...')\n",
    "sleep(2) #espera 2 segundos antes de executar o próximo comando\n",
    "print('PARABÉNS! Você conseguiu me vencer!' if y == x else f'GANHEI! Eu pensei no {x} e não no {y}!')"
   ]
  },
  {
   "cell_type": "markdown",
   "id": "7bacc021",
   "metadata": {},
   "source": [
    "**Exercício:** Leia a velocidade de um carro e se ele ultrapassar 80km/h, diga que foi multado e cobre R$7 por km/h acima do limite"
   ]
  },
  {
   "cell_type": "code",
   "execution_count": 49,
   "id": "d6627ba6",
   "metadata": {},
   "outputs": [
    {
     "name": "stdout",
     "output_type": "stream",
     "text": [
      "Qual é velocidade atual do veículo? 100\n",
      "MULTADO! Você excedeu o limite permitido que é de 80km/h\n",
      "Você deve pagar a multa de R$140.00\n",
      "Tenha um bom dia! Dirija com segurança!\n"
     ]
    }
   ],
   "source": [
    "velocidade = float(input('Qual é velocidade atual do veículo? '))\n",
    "multa = (velocidade - 80)*7\n",
    "#condição simples\n",
    "if velocidade > 80:\n",
    "    print(f'MULTADO! Você excedeu o limite permitido que é de 80km/h')\n",
    "    print(f'Você deve pagar a multa de R${multa:.2f}')\n",
    "print('Tenha um bom dia! Dirija com segurança!')"
   ]
  },
  {
   "cell_type": "markdown",
   "id": "b0fa1909",
   "metadata": {},
   "source": [
    "**Exercício:** Leia um número e diga se é par ou ímpar"
   ]
  },
  {
   "cell_type": "code",
   "execution_count": 57,
   "id": "a56ce01b",
   "metadata": {},
   "outputs": [
    {
     "name": "stdout",
     "output_type": "stream",
     "text": [
      "Me diga um número qualquer:\n",
      "11\n",
      "Este número é ímpar!\n"
     ]
    }
   ],
   "source": [
    "num = int(input('Me diga um número qualquer:\\n')) #\\n para quebrar linha\n",
    "if num%2 == 0:\n",
    "    print('Este número é par!')\n",
    "else:\n",
    "    print('Este número é ímpar!')"
   ]
  },
  {
   "cell_type": "markdown",
   "id": "01ed1439",
   "metadata": {},
   "source": [
    "**Exercício:** Leia uma distância e cobre 0,50 por km até 200km e 0,45 para distâncias mais longas"
   ]
  },
  {
   "cell_type": "code",
   "execution_count": 65,
   "id": "baf587b5",
   "metadata": {},
   "outputs": [
    {
     "name": "stdout",
     "output_type": "stream",
     "text": [
      "Qual a distância da sua viagem?\n",
      "500\n",
      "Você está prestes a começar uma viagem de 500.0km\n",
      "E o preço da sua passagem será de R$225.00\n"
     ]
    }
   ],
   "source": [
    "distancia = float(input('Qual a distância da sua viagem?\\n'))\n",
    "print(f'Você está prestes a começar uma viagem de {distancia}km')\n",
    "if distancia <= 200:\n",
    "    preco = distancia*0.5\n",
    "    #print(f'E o preço da sua passagem será de R${distancia*0.5:.2f}')\n",
    "else:\n",
    "    preco = distancia*0.45\n",
    "    #print(f'E o preço da sua passagem será de R${distancia*0.45:.2f}')\n",
    "print(f'E o preço da sua passagem será de R${preco:.2f}')"
   ]
  },
  {
   "cell_type": "markdown",
   "id": "7895baaa",
   "metadata": {},
   "source": [
    "**Exercício:** Crie um programa que leia um ano qualquer e mostre se ele é bissexto"
   ]
  },
  {
   "cell_type": "code",
   "execution_count": 78,
   "id": "40b6cfd1",
   "metadata": {},
   "outputs": [
    {
     "name": "stdout",
     "output_type": "stream",
     "text": [
      "Que ano quer analisar? Coloque 0 para analisar o ano atual: 2100\n",
      "O ano 2100 não é bissexto!\n"
     ]
    }
   ],
   "source": [
    "from datetime import date\n",
    "ano = int(input('Que ano quer analisar? Coloque 0 para analisar o ano atual: '))\n",
    "if ano == 0:\n",
    "    ano = date.today().year\n",
    "if ano % 4 == 0 and ano % 100 != 0 or ano % 400 == 0:\n",
    "    print(f'O ano {ano} é bissexto!')\n",
    "else:\n",
    "    print(f'O ano {ano} não é bissexto!')"
   ]
  },
  {
   "cell_type": "markdown",
   "id": "3337e8dc",
   "metadata": {},
   "source": [
    "**Exercício:** Crie um programa que leia 3 números e mostre qual é o maior e qual é o menor"
   ]
  },
  {
   "cell_type": "code",
   "execution_count": 83,
   "id": "5a9d0368",
   "metadata": {},
   "outputs": [
    {
     "name": "stdout",
     "output_type": "stream",
     "text": [
      "Digite o primeiro número: 12\n",
      "Digite o segundo número: 90\n",
      "Digite o terceiro número: 22\n",
      "O maior número é 90\n",
      "O menor número é 12\n"
     ]
    }
   ],
   "source": [
    "x = int(input('Digite o primeiro número: '))\n",
    "y = int(input('Digite o segundo número: '))\n",
    "z = int(input('Digite o terceiro número: '))\n",
    "menor = x\n",
    "if y < x and y < z:\n",
    "    menor = y\n",
    "if z < x and z < y:\n",
    "    menor = z\n",
    "maior = x\n",
    "if y > x and y > z:\n",
    "    maior = y\n",
    "if z > x and z > y:\n",
    "    maior = z\n",
    "print(f'O maior número é {maior}')\n",
    "print(f'O menor número é {menor}')"
   ]
  },
  {
   "cell_type": "markdown",
   "id": "87041296",
   "metadata": {},
   "source": [
    "**Exercício:** Pergunte o salário e calcule o seu aumento. 10% para superiores a 1.250,00 e 15% para inferiores."
   ]
  },
  {
   "cell_type": "code",
   "execution_count": 95,
   "id": "59079b78",
   "metadata": {},
   "outputs": [
    {
     "name": "stdout",
     "output_type": "stream",
     "text": [
      "Qual é o salário do funcionário? R$5000\n",
      "Passará a ganhar R$5500.00\n"
     ]
    }
   ],
   "source": [
    "salario = float(input('Qual é o salário do funcionário? R$'))\n",
    "if salario <= 1250.00:\n",
    "    salario = salario*1.15\n",
    "else:\n",
    "    salario = salario*1.1\n",
    "print(f'Passará a ganhar R${salario:.2f}')"
   ]
  },
  {
   "cell_type": "markdown",
   "id": "f71b4730",
   "metadata": {},
   "source": [
    "**Exercício:** Leia 3 segmentos de reta e diga se podem ou não formar um triângulo\n",
    "\n",
    "Dica: cada segmento é menor que a soma dos outros dois segmentos"
   ]
  },
  {
   "cell_type": "code",
   "execution_count": 99,
   "id": "b80377c2",
   "metadata": {},
   "outputs": [
    {
     "name": "stdout",
     "output_type": "stream",
     "text": [
      "-=--=--=--=--=--=--=--=--=--=--=--=--=--=--=--=--=--=--=--=-\n",
      "Analisador de Triângulos\n",
      "-=--=--=--=--=--=--=--=--=--=--=--=--=--=--=--=--=--=--=--=-\n",
      "Primeiro segmento: 3.5\n",
      "Segundo segmento: 5.6\n",
      "Terceiro segmento: 2.2\n",
      "Os segmentos acima PODEM FORMAR triângulo\n"
     ]
    }
   ],
   "source": [
    "print('-=-'*20)\n",
    "print('Analisador de Triângulos')\n",
    "print('-=-'*20)\n",
    "a = float(input('Primeiro segmento: '))\n",
    "b = float(input('Segundo segmento: '))\n",
    "c = float(input('Terceiro segmento: '))\n",
    "if a < b+c and b < a+c and c < a+b:\n",
    "    print('Os segmentos acima PODEM FORMAR triângulo')\n",
    "else:\n",
    "    print('Os segmentos acima NÃO PODEM FORMAR triângulo')"
   ]
  },
  {
   "cell_type": "markdown",
   "id": "90eab14c",
   "metadata": {},
   "source": [
    "### Comando elif"
   ]
  },
  {
   "cell_type": "code",
   "execution_count": 26,
   "id": "fb737223",
   "metadata": {},
   "outputs": [
    {
     "name": "stdout",
     "output_type": "stream",
     "text": [
      "Este número é igual a 13\n"
     ]
    }
   ],
   "source": [
    "numero = 13\n",
    "if numero == 10: #True\n",
    "    print(f\"Este número é igual a {numero}\")\n",
    "elif numero == 11: #True\n",
    "    print(f\"Este número é igual a {numero}\")\n",
    "elif numero == 12: #True\n",
    "    print(f\"Este número é igual a {numero}\")\n",
    "elif numero == 13: #True\n",
    "    print(f\"Este número é igual a {numero}\")\n",
    "else: #False\n",
    "    print(\"Este número não é igual a 10, 11, 12 ou 13\")"
   ]
  },
  {
   "cell_type": "code",
   "execution_count": 13,
   "id": "0aef8bbf",
   "metadata": {},
   "outputs": [
    {
     "name": "stdout",
     "output_type": "stream",
     "text": [
      "Qual é o seu nome? Jéssica\n",
      "Belo nome feminino!\n",
      "Tenha um bom dia, Jéssica!\n"
     ]
    }
   ],
   "source": [
    "nome = str(input('Qual é o seu nome? '))\n",
    "if nome == 'Icaro':\n",
    "    print('Que nome bonito!')\n",
    "elif nome == 'Pedro' or nome == 'Paulo':\n",
    "    print('Seu nome é popular no Brasil!')\n",
    "elif nome in 'Ana Cláudia Jéssica Juliana': #dentro (in) da lista\n",
    "    print('Belo nome feminino!')\n",
    "#else:\n",
    "    #print('Seu nome é bem normal!')\n",
    "print(f'Tenha um bom dia, {nome}!')"
   ]
  },
  {
   "cell_type": "code",
   "execution_count": 6,
   "id": "20713b87",
   "metadata": {},
   "outputs": [
    {
     "name": "stdout",
     "output_type": "stream",
     "text": [
      "12\n",
      "11\n"
     ]
    }
   ],
   "source": [
    "# 2 ifs != if e elif\n",
    "x = 10\n",
    "if x == 10:\n",
    "    x = 11\n",
    "if x == 11:\n",
    "    x = 12\n",
    "print(x) #vai printar 12\n",
    "x = 10\n",
    "if x == 10:\n",
    "    x = 11\n",
    "elif x == 11:\n",
    "    x = 12\n",
    "print(x) #vai printar 11, pois a primeira condição já foi satisfeita"
   ]
  },
  {
   "cell_type": "markdown",
   "id": "3b313451",
   "metadata": {},
   "source": [
    "**Exercício:** Crie um programa para aprovar empréstimo para compra de uma casa. Pergunte o valor da casa, o salário e quantos anos pra pagar. Calcule pestação mensal sabendo que ela não pode ultrapassar 30% do salário."
   ]
  },
  {
   "cell_type": "code",
   "execution_count": 27,
   "id": "c1c7e9fa",
   "metadata": {},
   "outputs": [
    {
     "name": "stdout",
     "output_type": "stream",
     "text": [
      "Qual o valor da casa? R$80000\n",
      "Qual o salário do comprador? R$4000\n",
      "Quantos anos de financiamento? 7\n",
      "Pra pegar uma casa de R$80000.00 em 7 anos, a prestação será de R$952.38\n",
      "30% do seu orçamento mensal corresponde a R$1200.00\n",
      "Empréstimo pode ser CONCEDIDO!\n"
     ]
    }
   ],
   "source": [
    "casa = float(input('Qual o valor da casa? R$'))\n",
    "salario = float(input('Qual o salário do comprador? R$'))\n",
    "anos = int(input('Quantos anos de financiamento? '))\n",
    "prestacao = casa/(anos * 12)\n",
    "minimo = salario*0.3\n",
    "print(f'Pra pegar uma casa de R${casa:.2f} em {anos} anos, a prestação será de R${prestacao:.2f}')\n",
    "print(f'30% do seu orçamento mensal corresponde a R${salario*0.3:.2f}')\n",
    "if prestacao <= minimo:\n",
    "    print('Empréstimo pode ser CONCEDIDO!')\n",
    "else:\n",
    "    print('Empréstimo NEGADO!')"
   ]
  },
  {
   "cell_type": "markdown",
   "id": "d0c305d5",
   "metadata": {},
   "source": [
    "**Exercício:** Crie um programa que leia um número inteiro e peça pro usuário escolher a base de conversão:\n",
    "1. Binário\n",
    "2. Octal\n",
    "3. Hexadecimal"
   ]
  },
  {
   "cell_type": "code",
   "execution_count": 34,
   "id": "86bc74da",
   "metadata": {},
   "outputs": [
    {
     "name": "stdout",
     "output_type": "stream",
     "text": [
      "Digite um numero inteiro qualquer: 834\n",
      "\n",
      "Escolha uma das bases para conversão:\n",
      "[ 1 ] Converter para BINÁRIO\n",
      "[ 2 ] Converter para OCTAL\n",
      "[ 3 ] Converter para HEXADECIMAL\n",
      "Sua opção: 3\n",
      "834 convertido para HEXADECIMAL é igual a 342\n"
     ]
    }
   ],
   "source": [
    "num = int(input('Digite um numero inteiro qualquer: '))\n",
    "opcao = int(input('''\n",
    "Escolha uma das bases para conversão:\n",
    "[ 1 ] Converter para BINÁRIO\n",
    "[ 2 ] Converter para OCTAL\n",
    "[ 3 ] Converter para HEXADECIMAL\n",
    "Sua opção: '''))\n",
    "if opcao == 1:\n",
    "    print(f'{num} convertido para BINÁRIO é igual a {bin(num)[2:]}') #aparece 0b então fatia\n",
    "elif opcao == 2:\n",
    "    print(f'{num} convertido para OCTAL é igual a {oct(num)[2:]}') #aparece 0o então fatia\n",
    "elif opcao == 3:\n",
    "    print(f'{num} convertido para HEXADECIMAL é igual a {hex(num)[2:]}') #aparece 0x então fatia\n",
    "else:\n",
    "    print('Opção inválida! Tente novamente.')"
   ]
  },
  {
   "cell_type": "markdown",
   "id": "6c1bb4e6",
   "metadata": {},
   "source": [
    "**Exercício:** Crie um programa que leia dois números inteiros e diga qual é o maior ou se os dois são iguais."
   ]
  },
  {
   "cell_type": "code",
   "execution_count": 22,
   "id": "3258ded6",
   "metadata": {},
   "outputs": [
    {
     "name": "stdout",
     "output_type": "stream",
     "text": [
      "Digite o primeiro número: 4\n",
      "Digite o segundo número: 4\n",
      "Não existe valor maior. Os dois números são iguais a 4!\n"
     ]
    }
   ],
   "source": [
    "a = int(input('Digite o primeiro número: '))\n",
    "b = int(input('Digite o segundo número: '))\n",
    "if a > b:\n",
    "    print(f'O primeiro valor ({a}) é o maior!')\n",
    "elif a < b:\n",
    "    print(f'O segundo valor ({b}) é o maior!')\n",
    "else:\n",
    "    print(f'Não existe valor maior. Os dois números são iguais a {a}!')"
   ]
  },
  {
   "cell_type": "markdown",
   "id": "9145e014",
   "metadata": {},
   "source": [
    "**Exercício:** Crie um programa que leia o ano de nascimento e informe se ele ainda vai se alistar no serviço militar, se é hora de se alistar, ou se passou do prazo. Mostre quanto tempo falta ou passou do prazo."
   ]
  },
  {
   "cell_type": "code",
   "execution_count": 42,
   "id": "952751de",
   "metadata": {},
   "outputs": [
    {
     "name": "stdout",
     "output_type": "stream",
     "text": [
      "Ano de nascimento: 2004\n",
      "Quem nasceu em 2004 tem 18 anos em 2022. \n",
      "Você tem que se alistar IMEDIATAMENTE\n"
     ]
    }
   ],
   "source": [
    "from datetime import date\n",
    "ano = int(input('Ano de nascimento: '))\n",
    "idade = date.today().year - ano\n",
    "if idade < 18:\n",
    "    print(f'Quem nasceu em {ano} tem {idade} anos em {date.today().year}. \\nAinda faltam {18 - idade} anos para o alistamento')\n",
    "    print(f'Seu alistamento será em {ano+18}!')\n",
    "elif idade == 18:\n",
    "    print(f'Quem nasceu em {ano} tem {idade} anos em {date.today().year}. \\nVocê tem que se alistar IMEDIATAMENTE')\n",
    "else:\n",
    "    print(f'Quem nasceu em {ano} tem {idade} anos em {date.today().year}. \\nVocê já deveria ter se alistado há {idade-18} anos')\n",
    "    print(f'Seu alistamento foi em {ano+18}')"
   ]
  },
  {
   "cell_type": "markdown",
   "id": "1aae36a1",
   "metadata": {},
   "source": [
    "**Exercício:** Crie um programa que leia duas notas, calcule a média e diga abaixo de 5.0 reprovado, entre 5.0 e 6.9 recuperação e 7.0 ou superior é aprovado."
   ]
  },
  {
   "cell_type": "code",
   "execution_count": 44,
   "id": "30986b0d",
   "metadata": {},
   "outputs": [
    {
     "name": "stdout",
     "output_type": "stream",
     "text": [
      "Primeira nota: 3\n",
      "Segunda nota: 2\n",
      "Tirando 3.0 e 2.0 média do aluno é 2.5\n",
      "O aluno está REPROVADO!\n"
     ]
    }
   ],
   "source": [
    "n1 = float(input('Primeira nota: '))\n",
    "n2 = float(input('Segunda nota: '))\n",
    "media = (n1 + n2)/2\n",
    "if media < 5.0:\n",
    "    print(f'Tirando {n1} e {n2} média do aluno é {media}\\nO aluno está REPROVADO!')\n",
    "elif media < 7.0:\n",
    "    print(f'Tirando {n1} e {n2} média do aluno é {media}\\nO aluno está em RECUPERAÇÃO!')\n",
    "else:\n",
    "    print(f'Tirando {n1} e {n2} média do aluno é {media}\\nO aluno está APROVADO!')"
   ]
  },
  {
   "cell_type": "markdown",
   "id": "9694bb56",
   "metadata": {},
   "source": [
    "**Exercício:** Leia o ano de nascimento de um atleta e diga a categoria de acordo com a idade. Mirim até 9 anos, Infantil até 14 anos, Júnior até 19 anos, Sênior até 20 anos e Master acima."
   ]
  },
  {
   "cell_type": "code",
   "execution_count": 46,
   "id": "0038890b",
   "metadata": {},
   "outputs": [
    {
     "name": "stdout",
     "output_type": "stream",
     "text": [
      "Ano de nascimento: 2004\n",
      "O atleta tem 19 anos. \n",
      "Classificação: JÚNIOR\n"
     ]
    }
   ],
   "source": [
    "ano = int(input('Ano de nascimento: '))\n",
    "from datetime import date\n",
    "idade = date.today().year - ano\n",
    "if idade <= 9:\n",
    "    print(f'O atleta tem {idade} anos. \\nClassificação: MIRIM')\n",
    "elif idade <= 14:\n",
    "    print(f'O atleta tem {idade} anos. \\nClassificação: INFANTIL')\n",
    "elif idade <= 19:\n",
    "    print(f'O atleta tem {idade} anos. \\nClassificação: JÚNIOR')\n",
    "elif idade <= 20:\n",
    "    print(f'O atleta tem {idade} anos. \\nClassificação: SÊNIOR')\n",
    "else:\n",
    "    print(f'O atleta tem {idade} anos. \\nClassificação: MASTER')"
   ]
  },
  {
   "cell_type": "markdown",
   "id": "00740f42",
   "metadata": {},
   "source": [
    "**Exercício:**  Leia 3 segmentos de reta e diga se podem ou não formar um triângulo. Se todos os lados forem iguais, diga que é equilátero, se dois lados forem iguais, diga que é isóceles e se todos os lados forem diferentes, diga que é escaleno."
   ]
  },
  {
   "cell_type": "code",
   "execution_count": 52,
   "id": "5d631c35",
   "metadata": {},
   "outputs": [
    {
     "name": "stdout",
     "output_type": "stream",
     "text": [
      "Primeiro segmento: 3\n",
      "Segundo segmento: 4\n",
      "Terceiro segmento: 3\n",
      "Os segmentos PODEM FORMAR um triângulo ISÓCELES!\n"
     ]
    }
   ],
   "source": [
    "a = float(input('Primeiro segmento: '))\n",
    "b = float(input('Segundo segmento: '))\n",
    "c = float(input('Terceiro segmento: '))\n",
    "if a < b + c and b < a + c and c < a + b:\n",
    "    print('Os segmentos PODEM FORMAR um triângulo', end = ' ')\n",
    "    if a == b and a == c:\n",
    "        print('EQUILÁTERO!')\n",
    "    elif a != b and a != c and b != c:\n",
    "        print('ESCALENO!')\n",
    "    else:\n",
    "        print('ISÓCELES!')\n",
    "else:\n",
    "    print('Os segmentos NÃO PODEM FORMAR um triângulo!')"
   ]
  },
  {
   "cell_type": "markdown",
   "id": "ae1a5be9",
   "metadata": {},
   "source": [
    "**Exercício:** Leia peso e altura, calcule o IMC e status: abaixo de 18.5 está abixo do peso, entre 18.5 e 25 peso ideal, 25 até 30 sobrepeso, 30 até 40 obesidade, e acima de 40 obesidade mórbida."
   ]
  },
  {
   "cell_type": "code",
   "execution_count": 56,
   "id": "12b76412",
   "metadata": {},
   "outputs": [
    {
     "name": "stdout",
     "output_type": "stream",
     "text": [
      "Qual é o seu peso? (Kg) 97\n",
      "Qual é a sua altura? (m) 1.96\n",
      "O IMC dessa pessoa é de 25.2! \n",
      "Você está com sobrepeso!\n"
     ]
    }
   ],
   "source": [
    "peso = float(input('Qual é o seu peso? (Kg) '))\n",
    "altura = float(input('Qual é a sua altura? (m) '))\n",
    "imc = peso/altura**2\n",
    "if imc < 18.5:\n",
    "    print(f'O IMC dessa pessoa é de {imc:.1f}! \\nVocê está ABAIXO DO PESO normal.')\n",
    "elif imc < 25:\n",
    "    print(f'O IMC dessa pessoa é de {imc:.1f}! \\nPARABÉNS, você está na faixa de PESO NORMAL.')\n",
    "elif imc < 30:\n",
    "    print(f'O IMC dessa pessoa é de {imc:.1f}! \\nVocê está com sobrepeso!')\n",
    "elif imc < 40:\n",
    "    print(f'O IMC dessa pessoa é de {imc:.1f}! \\nVocê está em OBESIDADE!')\n",
    "else:\n",
    "    print(f'O IMC dessa pessoa é de {imc:.1f}! \\nVocê está em OBESIDADE MÓRBIDA, cuidado!')"
   ]
  },
  {
   "cell_type": "markdown",
   "id": "8788f3de",
   "metadata": {},
   "source": [
    "**Exercício:** Calcule o valor a ser pago por um produto considerando seu preço normal e a forma de pagamento. Se à vista (dinheiro/cheque): 10% de desconto. Se à vista no cartão: 5% de desconto. Até 2x no cartão: preço normal. 3x ou mais no cartão: 20% de juros."
   ]
  },
  {
   "cell_type": "code",
   "execution_count": 66,
   "id": "3dc9195d",
   "metadata": {},
   "outputs": [
    {
     "name": "stdout",
     "output_type": "stream",
     "text": [
      "===== LOJAS =====\n",
      "Preço das compras? R$500\n",
      "\n",
      "FORMAS DE PAGAMENTO\n",
      "[ 1 ] à vista dinheiro/cheque\n",
      "[ 2 ] à vista cartão\n",
      "[ 3 ] 2x no cartão\n",
      "[ 4 ] 3x ou mais no cartão\n",
      "Qual é a opção? 4\n",
      "Quantas parcelas? 7\n",
      "Sua compra será parcelada em 7x de 85.71 COM JUROS\n",
      "Sua compra de 500.00 vai custar 600.00 no final\n"
     ]
    }
   ],
   "source": [
    "print('='*5, 'LOJAS', '='*5)\n",
    "preco = float(input('Preço das compras? R$'))\n",
    "opcao = int(input('''\n",
    "FORMAS DE PAGAMENTO\n",
    "[ 1 ] à vista dinheiro/cheque\n",
    "[ 2 ] à vista cartão\n",
    "[ 3 ] 2x no cartão\n",
    "[ 4 ] 3x ou mais no cartão\n",
    "Qual é a opção? '''))\n",
    "if opcao == 1:\n",
    "    compra = preco*0.9\n",
    "elif opcao == 2:\n",
    "    compra = preco*0.95\n",
    "elif opcao == 3:\n",
    "    compra = preco\n",
    "    parcelas = 2\n",
    "    print(f'Sua compra será parcelada em {parcelas}x de {compra/parcelas:.2f} SEM JUROS')\n",
    "elif opcao == 4:\n",
    "    compra = preco*1.2\n",
    "    parcelas = int(input('Quantas parcelas? '))\n",
    "    print(f'Sua compra será parcelada em {parcelas}x de {compra/parcelas:.2f} COM JUROS')\n",
    "print(f'Sua compra de {preco:.2f} vai custar {compra:.2f} no final')"
   ]
  },
  {
   "cell_type": "markdown",
   "id": "41dbbfbe",
   "metadata": {},
   "source": [
    "**Exercício**: Crie um programa que faça o computador jogar jokenpô com você."
   ]
  },
  {
   "cell_type": "code",
   "execution_count": 74,
   "id": "0ec6d441",
   "metadata": {},
   "outputs": [
    {
     "name": "stdout",
     "output_type": "stream",
     "text": [
      "\n",
      "Suas opções:\n",
      "[ 0 ] PEDRA\n",
      "[ 1 ] PAPEL\n",
      "[ 2 ] TESOURA\n",
      "Qual é a sua jogada?1\n",
      "JO\n",
      "KEN\n",
      "PO!!!\n",
      "-=-=-=-=-=-=-=-=-=-=-=-=\n",
      "Computador jogou Papel \n",
      "Jogador jogou Papel!\n",
      "-=-=-=-=-=-=-=-=-=-=-=-=\n",
      "EMPATE\n"
     ]
    }
   ],
   "source": [
    "from random import randint\n",
    "from time import sleep\n",
    "itens = ('Pedra', 'Papel', 'Tesoura') #tupla\n",
    "computador = randint(0,2)\n",
    "jogador = int(input('''\n",
    "Suas opções:\n",
    "[ 0 ] PEDRA\n",
    "[ 1 ] PAPEL\n",
    "[ 2 ] TESOURA\n",
    "Qual é a sua jogada?'''))\n",
    "print('JO')\n",
    "sleep(1)\n",
    "print('KEN')\n",
    "sleep(1)\n",
    "print('PO!!!')\n",
    "print('-='*12)\n",
    "print(f'Computador jogou {itens[computador]} \\nJogador jogou {itens[jogador]}!')\n",
    "print('-='*12)\n",
    "if computador == 0:\n",
    "    if jogador == 0:\n",
    "        print('EMPATE')\n",
    "    elif jogador == 1:\n",
    "        print('JOGADOR VENCE')\n",
    "    elif jogador ==2:\n",
    "        print('COMPUTADOR VENCE')\n",
    "    else:\n",
    "        print('JOGADA INVÁLIDA!')\n",
    "elif computador == 1:\n",
    "    if jogador == 0:\n",
    "        print('COMPUTADOR VENCE')\n",
    "    elif jogador == 1:\n",
    "        print('EMPATE')\n",
    "    elif jogador ==2:\n",
    "        print('JOGADOR VENCE')\n",
    "    else:\n",
    "        print('JOGADA INVÁLIDA!')\n",
    "elif computador ==2:\n",
    "    if jogador == 0:\n",
    "        print('JOGADOR VENCE')\n",
    "    elif jogador == 1:\n",
    "        print('COMPUTADOR VENCE')\n",
    "    elif jogador ==2:\n",
    "        print('EMPATE')\n",
    "    else:\n",
    "        print('JOGADA INVÁLIDA!')        "
   ]
  },
  {
   "cell_type": "markdown",
   "id": "3d0aa6b1",
   "metadata": {},
   "source": [
    "## Adicionando CORES no Python"
   ]
  },
  {
   "cell_type": "markdown",
   "id": "b3780548",
   "metadata": {},
   "source": [
    "### Padrão ANSI - padrão de normalização internacional\n",
    "\n",
    "Código de escape sequence: \\033[  m"
   ]
  },
  {
   "cell_type": "code",
   "execution_count": 110,
   "id": "98ec8de8",
   "metadata": {},
   "outputs": [
    {
     "name": "stdout",
     "output_type": "stream",
     "text": [
      "\u001b[7;32;43mBRASIL!\n"
     ]
    }
   ],
   "source": [
    "# códigos para estilo: 0 (nenhum), 1(negrito), 4(sublinhado) e 7(negativo, cores invertidas)\n",
    "# códigos para cor do texto: 30(branco), 31(vermelho), 32(verde), 33(amarelo), 34(azul), 35(roxo), 36(ciano), 37(cinza)\n",
    "# códigos para cor do background: 40(branco), 41(vermelho), 42(verde), 43(amarelo), 44(azul), 45(roxo), 46(ciano), 47(cinza)\n",
    "# estilo;cor do texto;cor do background\n",
    "# exemplo: \\033[0;33;44m\n",
    "print('\\033[7;32;43mBRASIL!')\n"
   ]
  },
  {
   "cell_type": "markdown",
   "id": "d13ea091",
   "metadata": {},
   "source": [
    "## Estruturas de Controle de Fluxo"
   ]
  },
  {
   "cell_type": "markdown",
   "id": "5e6e9519",
   "metadata": {},
   "source": [
    "### Estrutura de Repetição for\n",
    "Estrutura de repetição com variável de controle"
   ]
  },
  {
   "cell_type": "code",
   "execution_count": 5,
   "id": "0f1afb21",
   "metadata": {},
   "outputs": [
    {
     "name": "stdout",
     "output_type": "stream",
     "text": [
      "Oi\n",
      "Oi\n",
      "Oi\n",
      "Oi\n",
      "Oi\n",
      "FIM\n",
      "Oi\n",
      "Oi\n",
      "Oi\n",
      "Oi\n",
      "Oi\n",
      "Oi\n",
      "FIM\n",
      "0\n",
      "1\n",
      "2\n",
      "3\n",
      "4\n",
      "5\n",
      "FIM\n",
      "1\n",
      "2\n",
      "3\n",
      "4\n",
      "5\n",
      "6\n",
      "FIM\n"
     ]
    }
   ],
   "source": [
    "#laço com variável de controle\n",
    "for c in range(1, 6): #c é a variável de controle e range é o intervalo\n",
    "    print('Oi') #printa 5 vezes, pois não considera o 6º (intervalo aberto à direita)\n",
    "print('FIM')\n",
    "\n",
    "for c in range(0, 6):\n",
    "    print('Oi') #printa 6 vezes, pois começa a contar do 0\n",
    "print('FIM')\n",
    "\n",
    "for c in range(0, 6):\n",
    "    print(c) #printa de 0 a 5\n",
    "print('FIM')\n",
    "\n",
    "for c in range(1, 7):\n",
    "    print(c) #printa de 1 a 6\n",
    "print('FIM')"
   ]
  },
  {
   "cell_type": "code",
   "execution_count": 7,
   "id": "62c2858b",
   "metadata": {},
   "outputs": [
    {
     "name": "stdout",
     "output_type": "stream",
     "text": [
      "FIM\n",
      "6\n",
      "5\n",
      "4\n",
      "3\n",
      "2\n",
      "1\n",
      "FIM\n",
      "0\n",
      "2\n",
      "4\n",
      "6\n",
      "FIM\n"
     ]
    }
   ],
   "source": [
    "for c in range(6, 0):\n",
    "    print(c) #Não printa\n",
    "print('FIM')\n",
    "\n",
    "for c in range(6, 0, -1):\n",
    "    print(c) #conta pra trás (vai tirando 1)\n",
    "print('FIM')\n",
    "\n",
    "for c in range(0, 7, 2):\n",
    "    print(c) #conta de 0 a 6 pulando de 2 em 2 (soma 2)\n",
    "print('FIM')"
   ]
  },
  {
   "cell_type": "code",
   "execution_count": 10,
   "id": "3f9a36d0",
   "metadata": {},
   "outputs": [
    {
     "name": "stdout",
     "output_type": "stream",
     "text": [
      "Digite um número: 3\n",
      "0\n",
      "1\n",
      "2\n",
      "3\n",
      "FIM\n",
      "Início: 1\n",
      "Fim: 5\n",
      "Passo: 2\n",
      "1\n",
      "3\n",
      "5\n",
      "FIM\n"
     ]
    }
   ],
   "source": [
    "n = int(input('Digite um número: '))\n",
    "for c in range(0,n+1):\n",
    "    print(c) #conta de 0 até n\n",
    "print('FIM')\n",
    "\n",
    "i = int(input('Início: '))\n",
    "f = int(input('Fim: '))\n",
    "p = int(input('Passo: '))\n",
    "for c in range(i, f+1, p):\n",
    "    print(c)\n",
    "print('FIM')"
   ]
  },
  {
   "cell_type": "code",
   "execution_count": 11,
   "id": "9563bdf4",
   "metadata": {},
   "outputs": [
    {
     "name": "stdout",
     "output_type": "stream",
     "text": [
      "Digite um valor: 3\n",
      "Digite um valor: 2\n",
      "Digite um valor: 4\n",
      "Digite um valor: 6\n",
      "O somatório de todos os valores foi 15\n"
     ]
    }
   ],
   "source": [
    "s = 0\n",
    "for c in range(0, 4):\n",
    "    n = int(input('Digite um valor: '))\n",
    "    s += n #s = s + n\n",
    "print(f'O somatório de todos os valores foi {s}')"
   ]
  },
  {
   "cell_type": "markdown",
   "id": "3b2a3b82",
   "metadata": {},
   "source": [
    "**Exercício:** contagem regressiva de 10 até 0 com pausa de 1s."
   ]
  },
  {
   "cell_type": "code",
   "execution_count": 33,
   "id": "ad1024e2",
   "metadata": {},
   "outputs": [
    {
     "name": "stdout",
     "output_type": "stream",
     "text": [
      "10\n",
      "9\n",
      "8\n",
      "7\n",
      "6\n",
      "5\n",
      "4\n",
      "3\n",
      "2\n",
      "1\n",
      "0\n",
      "BUM! BUM! POOOW! 🎆\n"
     ]
    }
   ],
   "source": [
    "from time import sleep\n",
    "from emoji import emojize\n",
    "for c in range(10,-1,-1):\n",
    "    print(c)\n",
    "    sleep(1)\n",
    "print(emojize('BUM! BUM! POOOW! :fireworks:'))"
   ]
  },
  {
   "cell_type": "markdown",
   "id": "54c9a39a",
   "metadata": {},
   "source": [
    "**Exercício:** Mostre todos os números pares entre 1 e 50"
   ]
  },
  {
   "cell_type": "code",
   "execution_count": 37,
   "id": "93d5c291",
   "metadata": {},
   "outputs": [
    {
     "name": "stdout",
     "output_type": "stream",
     "text": [
      "2 4 6 8 10 12 14 16 18 20 22 24 26 28 30 32 34 36 38 40 42 44 46 48 50 Acabou\n"
     ]
    }
   ],
   "source": [
    "for c in range(2, 51, 2): #começa de 0 e soma 2, portanto: pares\n",
    "    print(c, end=' ')\n",
    "print('Acabou')"
   ]
  },
  {
   "cell_type": "markdown",
   "id": "0ecf6f3b",
   "metadata": {},
   "source": [
    "**Exercício:** Soma de números ímpares que são múltiplos de 3 e que estão entre 1 e 500"
   ]
  },
  {
   "cell_type": "code",
   "execution_count": 41,
   "id": "431c2a38",
   "metadata": {},
   "outputs": [
    {
     "name": "stdout",
     "output_type": "stream",
     "text": [
      "A soma de todos os 83 valores solicitados é 20667\n"
     ]
    }
   ],
   "source": [
    "soma = 0 #acumulador\n",
    "cont = 0 #contador\n",
    "for c in range(1, 501, 2): #começa de 1 e soma 2, portanto: ímpares\n",
    "    if c % 3 == 0:\n",
    "        soma += c #s = s + c\n",
    "        cont += 1\n",
    "print(f'A soma de todos os {cont} valores solicitados é {soma}')"
   ]
  },
  {
   "cell_type": "markdown",
   "id": "c4579d2c",
   "metadata": {},
   "source": [
    "**Exercício:** Tabuada de um número escolhido pelo usuário"
   ]
  },
  {
   "cell_type": "code",
   "execution_count": 42,
   "id": "6da8733b",
   "metadata": {},
   "outputs": [
    {
     "name": "stdout",
     "output_type": "stream",
     "text": [
      "Digite um número para ver sua tabuada: 7\n",
      "7 x 1 = 7\n",
      "7 x 2 = 14\n",
      "7 x 3 = 21\n",
      "7 x 4 = 28\n",
      "7 x 5 = 35\n",
      "7 x 6 = 42\n",
      "7 x 7 = 49\n",
      "7 x 8 = 56\n",
      "7 x 9 = 63\n"
     ]
    }
   ],
   "source": [
    "n = int(input('Digite um número para ver sua tabuada: '))\n",
    "for c in range(1, 10):\n",
    "    print(f'{n} x {c} = {n*c}')"
   ]
  },
  {
   "cell_type": "markdown",
   "id": "bd727c95",
   "metadata": {},
   "source": [
    "**Exercício:** leia 6 números inteiros e mostre a soma apenas daqueles que forem pares"
   ]
  },
  {
   "cell_type": "code",
   "execution_count": 43,
   "id": "ddcce339",
   "metadata": {},
   "outputs": [
    {
     "name": "stdout",
     "output_type": "stream",
     "text": [
      "Digite o 1º número: 2\n",
      "Digite o 2º número: 3\n",
      "Digite o 3º número: 4\n",
      "Digite o 4º número: 5\n",
      "Digite o 5º número: 6\n",
      "Digite o 6º número: 7\n",
      "A soma dos 3 números pares é 12\n"
     ]
    }
   ],
   "source": [
    "soma = 0\n",
    "cont = 0\n",
    "for c in range(1, 7):\n",
    "    n = int(input(f'Digite o {c}º número: '))\n",
    "    if n % 2 == 0:\n",
    "        soma += n\n",
    "        cont += 1\n",
    "print(f'A soma dos {cont} números pares é {soma}')"
   ]
  },
  {
   "cell_type": "markdown",
   "id": "9055fb88",
   "metadata": {},
   "source": [
    "**Exercíco:** leia o primeiro termo e a raíz de uma PA. No final mostre os 10 primeiros termos da progressão."
   ]
  },
  {
   "cell_type": "code",
   "execution_count": 56,
   "id": "720bd23a",
   "metadata": {},
   "outputs": [
    {
     "name": "stdout",
     "output_type": "stream",
     "text": [
      "==============================\n",
      "     10 TERMOS DE UMA PA      \n",
      "==============================\n",
      "Primeiro termo: 5\n",
      "Razão: 5\n",
      "5 ➝ 10 ➝ 15 ➝ 20 ➝ 25 ➝ 30 ➝ 35 ➝ 40 ➝ 45 ➝ 50 ➝ Acabou\n"
     ]
    }
   ],
   "source": [
    "print('='*30)\n",
    "print(f'{\"10 TERMOS DE UMA PA\":^30}')\n",
    "print('='*30)\n",
    "a1 = int(input('Primeiro termo: '))\n",
    "r = int(input('Razão: '))\n",
    "a10 = a1 + (10 - 1) * r #fórmula de an\n",
    "'''\n",
    "for c in range(0, 10):\n",
    "    s = a1 + c*r\n",
    "    print(s)'''\n",
    "for c in range(a1, a10 + r, r): #teve de somar r porque é aberto à direita\n",
    "    print(c, end=' ➝ ')\n",
    "print('Acabou')"
   ]
  },
  {
   "cell_type": "markdown",
   "id": "a447c492",
   "metadata": {},
   "source": [
    "**Exercício:** Leia um número inteiro e diga se é ou não um número primo"
   ]
  },
  {
   "cell_type": "code",
   "execution_count": 67,
   "id": "130f1866",
   "metadata": {},
   "outputs": [
    {
     "name": "stdout",
     "output_type": "stream",
     "text": [
      "Digite um número: 14\n",
      "\u001b[34m 1 \u001b[34m 2 \u001b[31m 3 \u001b[31m 4 \u001b[31m 5 \u001b[31m 6 \u001b[34m 7 \u001b[31m 8 \u001b[31m 9 \u001b[31m 10 \u001b[31m 11 \u001b[31m 12 \u001b[31m 13 \u001b[34m 14 \n",
      "\u001b[mO número 14 foi divisível 4 vezes!\n",
      "O número 14 NÃO É PRIMO!\n"
     ]
    }
   ],
   "source": [
    "n = int(input('Digite um número: '))\n",
    "cont = 0\n",
    "for c in range(1, n+1):\n",
    "    if n % c ==0:\n",
    "        print('\\033[34m', end=' ') #azul\n",
    "        cont += 1\n",
    "    else:\n",
    "        print('\\033[31m', end=' ') #vermelho\n",
    "    print(c, end=' ')\n",
    "print(f'\\n\\033[mO número {n} foi divisível {cont} vezes!')\n",
    "if cont == 2:\n",
    "    print(f'O número {n} é PRIMO!')\n",
    "else:\n",
    "    print(f'O número {n} NÃO É PRIMO!')"
   ]
  },
  {
   "cell_type": "markdown",
   "id": "a5cb7d16",
   "metadata": {},
   "source": [
    "**Exercício:** Leia uma frase e diga se é um palíndromo\n",
    "\n",
    "Exemplo: Apos a sopa (leia de trás pra frente)"
   ]
  },
  {
   "cell_type": "code",
   "execution_count": 83,
   "id": "71924c0d",
   "metadata": {},
   "outputs": [
    {
     "name": "stdout",
     "output_type": "stream",
     "text": [
      "Digite uma frase: socorram me subi no onibus em Marrocos\n",
      "O inverso de SOCORRAMMESUBINOONIBUSEMMARROCOS é SOCORRAMMESUBINOONIBUSEMMARROCOS\n",
      "Temos um palíndromo!\n"
     ]
    }
   ],
   "source": [
    "frase = str(input('Digite uma frase: ')).upper().strip().replace(' ', '')\n",
    "inverso = ''\n",
    "'''\n",
    "for letra in range(len(frase) -1, -1, -1):\n",
    "    inverso += frase[letra]\n",
    "'''\n",
    "inverso = frase[::-1] #fatiamento de string (particularidade do python)\n",
    "print(f'O inverso de {frase} é {inverso}')\n",
    "if inverso == frase:\n",
    "    print('Temos um palíndromo!')\n",
    "else:\n",
    "    print('A frase digitada não é um palíndromo!')"
   ]
  },
  {
   "cell_type": "markdown",
   "id": "48f22a54",
   "metadata": {},
   "source": [
    "**Exercício:** Leia sete anos de nascimento e mostre quantas atingiram a maioridade e quantas não. "
   ]
  },
  {
   "cell_type": "code",
   "execution_count": 85,
   "id": "76b0d19b",
   "metadata": {},
   "outputs": [
    {
     "name": "stdout",
     "output_type": "stream",
     "text": [
      "Em que ano a 1ª pessoa nasceu? 2010\n",
      "Em que ano a 2ª pessoa nasceu? 1960\n",
      "Em que ano a 3ª pessoa nasceu? 2011\n",
      "Em que ano a 4ª pessoa nasceu? 1970\n",
      "Em que ano a 5ª pessoa nasceu? 2015\n",
      "Em que ano a 6ª pessoa nasceu? 1940\n",
      "Em que ano a 7ª pessoa nasceu? 2016\n",
      "Ao todo tivemos 3 pessoas maiores de idade \n",
      "E também tivemos 4 pessoas menores de idade\n"
     ]
    }
   ],
   "source": [
    "from datetime import date\n",
    "maior, menor = 0, 0\n",
    "for c in range(1, 8):\n",
    "    nasc = int(input(f'Em que ano a {c}ª pessoa nasceu? '))\n",
    "    idade = date.today().year - nasc\n",
    "    if idade >= 21:\n",
    "        maior +=1\n",
    "    else:\n",
    "        menor +=1\n",
    "print(f'Ao todo tivemos {maior} pessoas maiores de idade \\nE também tivemos {menor} pessoas menores de idade')"
   ]
  },
  {
   "cell_type": "markdown",
   "id": "c29ca264",
   "metadata": {},
   "source": [
    "**Exercício:** Leia 5 pesos e diga o maior e o menor"
   ]
  },
  {
   "cell_type": "code",
   "execution_count": 5,
   "id": "3bc17ad1",
   "metadata": {},
   "outputs": [
    {
     "name": "stdout",
     "output_type": "stream",
     "text": [
      "Peso(kg) da 1ª pessoa: 32.5\n",
      "Peso(kg) da 2ª pessoa: 69.3\n",
      "Peso(kg) da 3ª pessoa: 54.8\n",
      "Peso(kg) da 4ª pessoa: 86.5\n",
      "Peso(kg) da 5ª pessoa: 42.5\n",
      "O maior peso lido foi de 86.5kg \n",
      "E o menor peso lido foi de 32.5kg\n"
     ]
    }
   ],
   "source": [
    "for c in range(1, 6):\n",
    "    peso = float(input(f'Peso(kg) da {c}ª pessoa: '))\n",
    "    if c == 1:\n",
    "        maior = peso\n",
    "        menor = peso\n",
    "    else:\n",
    "        if peso > maior:\n",
    "            maior = peso\n",
    "        elif peso < menor:\n",
    "            menor = peso\n",
    "print(f'O maior peso lido foi de {maior}kg \\nE o menor peso lido foi de {menor}kg')"
   ]
  },
  {
   "cell_type": "markdown",
   "id": "4c84b486",
   "metadata": {},
   "source": [
    "**Exercício:** Leia nome, idade e sexo de 4 pessoas. Mostre a média de idade, nome do homem mais velho, e quantas mulheres têm menos de 20 anos."
   ]
  },
  {
   "cell_type": "code",
   "execution_count": 11,
   "id": "13887d7b",
   "metadata": {},
   "outputs": [
    {
     "name": "stdout",
     "output_type": "stream",
     "text": [
      "----- 1ª pessoa -----\n",
      "Nome: Jéssica\n",
      "Idade: 23\n",
      "Sexo [M/F]: F\n",
      "----- 2ª pessoa -----\n",
      "Nome: Cláudio\n",
      "Idade: 12\n",
      "Sexo [M/F]: M\n",
      "----- 3ª pessoa -----\n",
      "Nome: Pedro\n",
      "Idade: 75\n",
      "Sexo [M/F]: M\n",
      "----- 4ª pessoa -----\n",
      "Nome: Maria\n",
      "Idade: 15\n",
      "Sexo [M/F]: F\n",
      "A média de idade do grupo é de 31.2 anos\n",
      "O homem mais velho tem 75 anos e se chama Pedro\n",
      "Ao todo são 1 mulheres com menos de 20 anos\n"
     ]
    }
   ],
   "source": [
    "soma_idade = 0\n",
    "maior_idade_homem = 0\n",
    "nome_velho = ''\n",
    "count_mulher_20 = 0\n",
    "for c in range(1, 5):\n",
    "    print('-'*5, f'{c}ª pessoa','-'*5)\n",
    "    nome = str(input('Nome: ')).strip()\n",
    "    idade = int(input('Idade: '))\n",
    "    sexo = str(input('Sexo [M/F]: ')).strip()\n",
    "    soma_idade += idade\n",
    "    if sexo in 'Mm' and idade > maior_idade_homem:\n",
    "        maior_idade_homem = idade\n",
    "        nome_velho = nome\n",
    "    if sexo in 'Ff' and idade < 20:\n",
    "        count_mulher_20 += 1\n",
    "media = soma_idade/c\n",
    "print(f'A média de idade do grupo é de {media:.1f} anos')\n",
    "print(f'O homem mais velho tem {maior_idade_homem} anos e se chama {nome_velho}')\n",
    "print(f'Ao todo são {count_mulher_20} mulheres com menos de 20 anos')"
   ]
  },
  {
   "cell_type": "markdown",
   "id": "d3025099",
   "metadata": {},
   "source": [
    "### Estrutura de Repetição while\n",
    "Estrutura de repetição com teste lógico"
   ]
  },
  {
   "cell_type": "code",
   "execution_count": 2,
   "id": "68468f6b",
   "metadata": {},
   "outputs": [
    {
     "name": "stdout",
     "output_type": "stream",
     "text": [
      "1 2 3 4 5 6 7 8 9 FIM\n",
      "1 2 3 4 5 6 7 8 9 FIM\n"
     ]
    }
   ],
   "source": [
    "for c in range(1, 10):\n",
    "    print(c, end=' ')\n",
    "print('FIM')\n",
    "\n",
    "#Sabendo o limite, também é possível usar while\n",
    "\n",
    "c = 1 #contador\n",
    "while c < 10:\n",
    "    print(c, end=' ')\n",
    "    c += 1\n",
    "print('FIM')"
   ]
  },
  {
   "cell_type": "code",
   "execution_count": 12,
   "id": "c6e54c84",
   "metadata": {},
   "outputs": [
    {
     "name": "stdout",
     "output_type": "stream",
     "text": [
      "Digite um valor: 1\n",
      "Digite um valor: 0\n",
      "Digite um valor: 0\n",
      "Digite um valor: 4\n",
      "FIM\n",
      "Digite um valor: 1\n",
      "Digite um valor: 2\n",
      "Digite um valor: 4\n",
      "Digite um valor: 9\n",
      "FIM\n",
      "Digite um valor: 1\n",
      "Digite um valor: 2\n",
      "Digite um valor: 4\n",
      "Digite um valor: 9\n",
      "Digite um valor: 2\n",
      "Digite um valor: 0\n",
      "FIM\n"
     ]
    }
   ],
   "source": [
    "#Quando não souber o limite, while é mais eficaz\n",
    "#Por exemplo, o deve finalizar quando o usuário digitar 0:\n",
    "for c in range(1, 5):\n",
    "    n = int(input('Digite um valor: '))\n",
    "print('FIM')\n",
    "\n",
    "for c in range(1, 5):\n",
    "    n = int(input('Digite um valor: '))\n",
    "    if n == 0:\n",
    "        break #finaliza quando n = 0.\n",
    "print('FIM')\n",
    "\n",
    "n = 1\n",
    "while n != 0: #flag\n",
    "    n = int(input('Digite um valor: '))\n",
    "print('FIM')"
   ]
  },
  {
   "cell_type": "code",
   "execution_count": 17,
   "id": "14bad77d",
   "metadata": {},
   "outputs": [
    {
     "name": "stdout",
     "output_type": "stream",
     "text": [
      "Digite um valor: 3\n",
      "Quer continuar? [S/N]s\n",
      "Digite um valor: 4\n",
      "Quer continuar? [S/N]s\n",
      "Digite um valor: 6\n",
      "Quer continuar? [S/N]s\n",
      "Digite um valor: 2\n",
      "Quer continuar? [S/N]n\n",
      "FIM\n"
     ]
    }
   ],
   "source": [
    "n = 0\n",
    "r = 'S'\n",
    "while r == 'S': #flag\n",
    "    n = int(input('Digite um valor: '))\n",
    "    r = str(input('Quer continuar? [S/N] ')).upper()\n",
    "print('FIM')"
   ]
  },
  {
   "cell_type": "code",
   "execution_count": 19,
   "id": "6c51308c",
   "metadata": {},
   "outputs": [
    {
     "name": "stdout",
     "output_type": "stream",
     "text": [
      "Digite um valor: 2\n",
      "Digite um valor: 3\n",
      "Digite um valor: 5\n",
      "Digite um valor: 8\n",
      "Digite um valor: 9\n",
      "Digite um valor: 13\n",
      "Digite um valor: 4\n",
      "Digite um valor: 0\n",
      "Você digitou 3 números pares e 4 números ímpares\n"
     ]
    }
   ],
   "source": [
    "n =1\n",
    "par = impar = 0\n",
    "while n != 0: #flag\n",
    "    n = int(input('Digite um valor: '))\n",
    "    if n != 0:\n",
    "        if n % 2 ==0:\n",
    "            par += 1\n",
    "        else:\n",
    "            impar += 1\n",
    "print(f'Você digitou {par} números pares e {impar} números ímpares')"
   ]
  },
  {
   "cell_type": "markdown",
   "id": "d9b0e44e",
   "metadata": {},
   "source": [
    "**Exercício:** Faça um programa que leia sexo e só aceite M ou F. Caso esteja errado, peça novamente até ter valor correto."
   ]
  },
  {
   "cell_type": "code",
   "execution_count": 5,
   "id": "68a863f9",
   "metadata": {},
   "outputs": [
    {
     "name": "stdout",
     "output_type": "stream",
     "text": [
      "Informe seu sexo [M/F]: n\n",
      "Dados inválidos. Por favor, informe seu sexo [M/F]:    l\n",
      "Dados inválidos. Por favor, informe seu sexo [M/F]: k   \n",
      "Dados inválidos. Por favor, informe seu sexo [M/F]:   Feminino\n",
      "Sexo F registrado com sucesso\n"
     ]
    }
   ],
   "source": [
    "sexo = str(input('Informe seu sexo [M/F]: ')).strip().upper()[0]\n",
    "#validação\n",
    "while sexo not in 'MmFf':\n",
    "    sexo = str(input('Dados inválidos. Por favor, informe seu sexo [M/F]: ')).strip().upper()[0]\n",
    "print(f'Sexo {sexo} registrado com sucesso')"
   ]
  },
  {
   "cell_type": "markdown",
   "id": "e3c8ff52",
   "metadata": {},
   "source": [
    "**Exercício:** Computador vai \"pensar\" em um número entre 0 e 10. O jogador vai digitar até acertar, mostrando o número de tentativas."
   ]
  },
  {
   "cell_type": "code",
   "execution_count": 14,
   "id": "64f5e43f",
   "metadata": {},
   "outputs": [
    {
     "name": "stdout",
     "output_type": "stream",
     "text": [
      "Sou seu computador...\n",
      "Acabei de pensar em um número entre 0 e 10.\n",
      "Será que você consegue advinhar qual foi?\n",
      "Qual é o seu palpite? 2\n",
      "Mais... tente mais uma vez.\n",
      "Qual é o seu palpite? 9\n",
      "Menos... tente mais uma vez.\n",
      "Qual é o seu palpite? 5\n",
      "Menos... tente mais uma vez.\n",
      "Qual é o seu palpite? 4\n",
      "Acertou com 4 tentativas. Parabéns!\n"
     ]
    }
   ],
   "source": [
    "from random import randint\n",
    "computador = randint(0, 10)\n",
    "print('''Sou seu computador...\n",
    "Acabei de pensar em um número entre 0 e 10.\n",
    "Será que você consegue advinhar qual foi?''')\n",
    "acertou = False\n",
    "palpites = 0\n",
    "#validação\n",
    "while not acertou:\n",
    "    jogador = int(input('Qual é o seu palpite? '))\n",
    "    palpites += 1\n",
    "    if jogador == computador:\n",
    "        acertou = True\n",
    "    else:\n",
    "        if jogador < computador:\n",
    "            print('Mais... tente mais uma vez.')\n",
    "        else:\n",
    "            print('Menos... tente mais uma vez.')\n",
    "print(f'Acertou com {palpites} tentativas. Parabéns!')"
   ]
  },
  {
   "cell_type": "markdown",
   "id": "0032c5b1",
   "metadata": {},
   "source": [
    "**Exercício:** Crie um programa que leia 2 valores e mostre um menu na tela\n",
    "1. Somar\n",
    "2. multiplicar\n",
    "3. maior\n",
    "4. novos números\n",
    "5. sair"
   ]
  },
  {
   "cell_type": "code",
   "execution_count": 22,
   "id": "ce022263",
   "metadata": {},
   "outputs": [
    {
     "name": "stdout",
     "output_type": "stream",
     "text": [
      "Primeiro valor: 6\n",
      "Segundo valor: 0\n",
      "O que deseja fazer?\n",
      "    [ 1 ] Somar\n",
      "    [ 2 ] Multiplicar\n",
      "    [ 3 ] Maior\n",
      "    [ 4 ] Novos números\n",
      "    [ 5 ] Sair\n",
      ">>> Qual é a sua opção? 1\n",
      "A soma de 6 + 0 é 6\n",
      "=-==-==-==-==-==-==-==-==-==-=\n",
      "O que deseja fazer?\n",
      "    [ 1 ] Somar\n",
      "    [ 2 ] Multiplicar\n",
      "    [ 3 ] Maior\n",
      "    [ 4 ] Novos números\n",
      "    [ 5 ] Sair\n",
      ">>> Qual é a sua opção? 2\n",
      "O produto entre 6 x 0 é 0\n",
      "=-==-==-==-==-==-==-==-==-==-=\n",
      "O que deseja fazer?\n",
      "    [ 1 ] Somar\n",
      "    [ 2 ] Multiplicar\n",
      "    [ 3 ] Maior\n",
      "    [ 4 ] Novos números\n",
      "    [ 5 ] Sair\n",
      ">>> Qual é a sua opção? 3\n",
      "O maior valor entre 6 e 0 é 6\n",
      "=-==-==-==-==-==-==-==-==-==-=\n",
      "O que deseja fazer?\n",
      "    [ 1 ] Somar\n",
      "    [ 2 ] Multiplicar\n",
      "    [ 3 ] Maior\n",
      "    [ 4 ] Novos números\n",
      "    [ 5 ] Sair\n",
      ">>> Qual é a sua opção? 4\n",
      "Informe os números novamente:\n",
      "Primeiro valor: 3\n",
      "Segundo valor: 5\n",
      "=-==-==-==-==-==-==-==-==-==-=\n",
      "O que deseja fazer?\n",
      "    [ 1 ] Somar\n",
      "    [ 2 ] Multiplicar\n",
      "    [ 3 ] Maior\n",
      "    [ 4 ] Novos números\n",
      "    [ 5 ] Sair\n",
      ">>> Qual é a sua opção? 5\n",
      "Saindo...\n",
      "=-==-==-==-==-==-==-==-==-==-=\n",
      "Fim do programa. Volte sempre.\n"
     ]
    }
   ],
   "source": [
    "from time import sleep\n",
    "n1 = int(input('Primeiro valor: '))\n",
    "n2 = int(input('Segundo valor: '))\n",
    "opcao = 0\n",
    "while opcao != 5:\n",
    "    print('''O que deseja fazer?\n",
    "    [ 1 ] Somar\n",
    "    [ 2 ] Multiplicar\n",
    "    [ 3 ] Maior\n",
    "    [ 4 ] Novos números\n",
    "    [ 5 ] Sair''')\n",
    "    opcao = int(input('>>> Qual é a sua opção? '))\n",
    "    if opcao == 1:\n",
    "        soma = n1 + n2\n",
    "        print(f'A soma de {n1} + {n2} é {soma}')\n",
    "    elif opcao == 2:\n",
    "        produto = n1 * n2\n",
    "        print(f'O produto entre {n1} x {n2} é {produto}')\n",
    "    elif opcao == 3:\n",
    "        if n1 > n2:\n",
    "            maior = n1\n",
    "        else:\n",
    "            maior = n2\n",
    "        print(f'O maior valor entre {n1} e {n2} é {maior}')\n",
    "    elif opcao == 4:\n",
    "        print('Informe os números novamente:')\n",
    "        n1 = int(input('Primeiro valor: '))\n",
    "        n2 = int(input('Segundo valor: '))\n",
    "    elif menu == 5:\n",
    "        print('Saindo...')\n",
    "    else:\n",
    "        print('Opção inválida. Tente novamente.')\n",
    "    print('=-='*10)\n",
    "    sleep(2)\n",
    "print('Fim do programa. Volte sempre.')"
   ]
  },
  {
   "cell_type": "markdown",
   "id": "880eaecf",
   "metadata": {},
   "source": [
    "**Exercício:** Lei um número qualquer e mostre seu fatorial"
   ]
  },
  {
   "cell_type": "code",
   "execution_count": 26,
   "id": "97dd385f",
   "metadata": {},
   "outputs": [
    {
     "name": "stdout",
     "output_type": "stream",
     "text": [
      "Digite um número para \n",
      "calcular seu fatorial: 5\n",
      "O fatorial de 5 é 120\n"
     ]
    }
   ],
   "source": [
    "from math import factorial\n",
    "n = int(input('Digite um número para \\ncalcular seu fatorial: '))\n",
    "f = factorial(n)\n",
    "print(f'O fatorial de {n} é {f}')"
   ]
  },
  {
   "cell_type": "code",
   "execution_count": 48,
   "id": "09754667",
   "metadata": {},
   "outputs": [
    {
     "name": "stdout",
     "output_type": "stream",
     "text": [
      "Digite um número para \n",
      "calcular seu fatorial: 5\n",
      "Calculando 5! = 5 x 4 x 3 x 2 x 1 = 120\n"
     ]
    }
   ],
   "source": [
    "from time import sleep\n",
    "n = c = int(input('Digite um número para \\ncalcular seu fatorial: '))\n",
    "f =1\n",
    "print(f'Calculando {n}! = ', end='')\n",
    "sleep(2)\n",
    "while c > 0:\n",
    "    print(c, end=' ')\n",
    "    print('x ' if c > 1 else '= ', end='')\n",
    "    f *= c\n",
    "    c -= 1\n",
    "print(f)"
   ]
  },
  {
   "cell_type": "markdown",
   "id": "55a82f8c",
   "metadata": {},
   "source": [
    "**Exercício:** Leia o primeiro termo e a razão de uma PA, mostrando os 10 primeiros termos."
   ]
  },
  {
   "cell_type": "code",
   "execution_count": 53,
   "id": "447dd3ab",
   "metadata": {},
   "outputs": [
    {
     "name": "stdout",
     "output_type": "stream",
     "text": [
      "==============================\n",
      "     10 TERMOS DE UMA PA      \n",
      "==============================\n",
      "Primeiro termo: 2\n",
      "Razão: 4\n",
      "2 ➝ 6 ➝ 10 ➝ 14 ➝ 18 ➝ 22 ➝ 26 ➝ 30 ➝ 34 ➝ 38 ➝ Acabou\n"
     ]
    }
   ],
   "source": [
    "print('='*30)\n",
    "print(f'{\"10 TERMOS DE UMA PA\":^30}')\n",
    "print('='*30)\n",
    "a1 = int(input('Primeiro termo: '))\n",
    "r = int(input('Razão: '))\n",
    "termo = a1 #inicializando\n",
    "cont = 1 #contador\n",
    "while cont <= 10:\n",
    "    print(termo, end=' ➝ ')\n",
    "    termo += r\n",
    "    cont +=1\n",
    "print('Acabou')"
   ]
  },
  {
   "cell_type": "markdown",
   "id": "2530b0b4",
   "metadata": {},
   "source": [
    "**Exercício:** Repita o exercício anterior, permitindo ao usuário poder escolher mais termos a mostrar"
   ]
  },
  {
   "cell_type": "code",
   "execution_count": 60,
   "id": "4bbea134",
   "metadata": {},
   "outputs": [
    {
     "name": "stdout",
     "output_type": "stream",
     "text": [
      "==============================\n",
      "        GERADOR DE PA         \n",
      "==============================\n",
      "Primeiro termo: 0\n",
      "Razão: 5\n",
      "0 ➝ 5 ➝ 10 ➝ 15 ➝ 20 ➝ 25 ➝ 30 ➝ 35 ➝ 40 ➝ 45 ➝ PAUSA\n",
      "Quantos termos você quer mostrar a mais? 5\n",
      "50 ➝ 55 ➝ 60 ➝ 65 ➝ 70 ➝ PAUSA\n",
      "Quantos termos você quer mostrar a mais? 10\n",
      "75 ➝ 80 ➝ 85 ➝ 90 ➝ 95 ➝ 100 ➝ 105 ➝ 110 ➝ 115 ➝ 120 ➝ PAUSA\n",
      "Quantos termos você quer mostrar a mais? 2\n",
      "125 ➝ 130 ➝ PAUSA\n",
      "Quantos termos você quer mostrar a mais? 0\n",
      "A progressão foi finalizada com 27 termos mostrados.\n"
     ]
    }
   ],
   "source": [
    "print('='*30)\n",
    "print(f'{\"GERADOR DE PA\":^30}')\n",
    "print('='*30)\n",
    "a1 = int(input('Primeiro termo: '))\n",
    "r = int(input('Razão: '))\n",
    "termo = a1 #inicializando\n",
    "cont = 1 #contador\n",
    "mais = 10\n",
    "total = 0\n",
    "while mais != 0:\n",
    "    total += mais\n",
    "    while cont <= total:\n",
    "        print(termo, end=' ➝ ')\n",
    "        termo += r\n",
    "        cont +=1\n",
    "    print('PAUSA')\n",
    "    mais = int(input('Quantos termos você quer mostrar a mais? '))\n",
    "print(f'A progressão foi finalizada com {total} termos mostrados.')"
   ]
  },
  {
   "cell_type": "markdown",
   "id": "fe0cb6f3",
   "metadata": {},
   "source": [
    "**Exercício:** Leia um número n inteiro e mostre na tela os n primeiros elementos de uma sequência de fibonacci"
   ]
  },
  {
   "cell_type": "code",
   "execution_count": 11,
   "id": "f98da882",
   "metadata": {},
   "outputs": [
    {
     "name": "stdout",
     "output_type": "stream",
     "text": [
      "------------------------------\n",
      "Sequência de Fibonacci\n",
      "------------------------------\n",
      "Quantos termos deseja mostrar? 8\n",
      "~~~~~~~~~~~~~~~~~~~~~~~~~~~~~~\n",
      "0 ➝ 1 ➝ 1 ➝ 2 ➝ 3 ➝ 5 ➝ 8 ➝ 13 ➝ FIM\n",
      "~~~~~~~~~~~~~~~~~~~~~~~~~~~~~~\n"
     ]
    }
   ],
   "source": [
    "print('-'*30)\n",
    "print('Sequência de Fibonacci')\n",
    "print('-'*30)\n",
    "n = int(input('Quantos termos deseja mostrar? '))\n",
    "cont = 0\n",
    "a1 = 0\n",
    "a2 = 1\n",
    "fibo = a1 #inicializando\n",
    "cont = 1 #contador\n",
    "print('~'*30)\n",
    "while cont <= n:\n",
    "    print(fibo, end=' ➝ ')\n",
    "    a1 = a2\n",
    "    a2 = fibo\n",
    "    fibo = a1 + a2\n",
    "    cont += 1\n",
    "print('FIM')\n",
    "print('~'*30)"
   ]
  },
  {
   "cell_type": "markdown",
   "id": "37bdd3b0",
   "metadata": {},
   "source": [
    "**Exercício:** Leia vários números inteiros, parando apenas quando digitar 999. Mostre quantos números foram digitados e a soma entre eles, desconsiderando o flag"
   ]
  },
  {
   "cell_type": "code",
   "execution_count": 22,
   "id": "0bbab533",
   "metadata": {},
   "outputs": [
    {
     "name": "stdout",
     "output_type": "stream",
     "text": [
      "Digite um número [999 para parar]: 8\n",
      "Digite um número [999 para parar]: 2\n",
      "Digite um número [999 para parar]: 1\n",
      "Digite um número [999 para parar]: 7\n",
      "Digite um número [999 para parar]: 999\n",
      "Você digitou 4 números e a soma entre eles foi 18\n"
     ]
    }
   ],
   "source": [
    "soma = cont = 0\n",
    "num = int(input('Digite um número [999 para parar]: '))\n",
    "while num != 999:\n",
    "    soma += num\n",
    "    cont +=1\n",
    "    num = int(input('Digite um número [999 para parar]: '))\n",
    "print(f'Você digitou {cont} números e a soma entre eles foi {soma}')"
   ]
  },
  {
   "cell_type": "markdown",
   "id": "11c350f7",
   "metadata": {},
   "source": [
    "**Exercício:** Leia vários números inteiros pelo teclado. Mostre a média, o maior e menor valor. O programa deve perguntar se o usuário quer ou não continuar a digitar os valores."
   ]
  },
  {
   "cell_type": "code",
   "execution_count": 27,
   "id": "a7f150f9",
   "metadata": {},
   "outputs": [
    {
     "name": "stdout",
     "output_type": "stream",
     "text": [
      "Digite um número: 4\n",
      "Deseja continuar? [S/N]s\n",
      "Digite um número: 2\n",
      "Deseja continuar? [S/N]s\n",
      "Digite um número: 8\n",
      "Deseja continuar? [S/N]s\n",
      "Digite um número: 9\n",
      "Deseja continuar? [S/N]n\n",
      "Você digitou 4 números e a média foi de 5.75\n",
      "O maior valor foi 9 e o menor foi 2\n"
     ]
    }
   ],
   "source": [
    "soma = cont = 0\n",
    "resp = 'S'\n",
    "while resp in 'Ss':\n",
    "    num = int(input('Digite um número: '))\n",
    "    soma += num\n",
    "    cont += 1\n",
    "    #media = soma/cont\n",
    "    if cont == 1:\n",
    "        maior = menor = num\n",
    "    else:\n",
    "        if num > maior:\n",
    "            maior = num\n",
    "        if num < menor:\n",
    "            menor = num\n",
    "    resp = str(input('Deseja continuar? [S/N]')).upper().strip()[0]\n",
    "media = soma/cont #calcular media no final para não ficar calculando na repetição\n",
    "print(f'Você digitou {cont} números e a média foi de {media:.2f}')\n",
    "print(f'O maior valor foi {maior} e o menor foi {menor}')"
   ]
  },
  {
   "cell_type": "markdown",
   "id": "da46000f",
   "metadata": {},
   "source": [
    "### Estrutura de Repetição do while"
   ]
  },
  {
   "cell_type": "code",
   "execution_count": 5,
   "id": "4c05154c",
   "metadata": {},
   "outputs": [
    {
     "name": "stdout",
     "output_type": "stream",
     "text": [
      "1 -> 2 -> 3 -> 4 -> 5 -> 6 -> 7 -> 8 -> 9 -> 10 -> Acabou\n",
      "Digite um número: 4\n",
      "Digite um número: 5\n",
      "Digite um número: 8\n"
     ]
    }
   ],
   "source": [
    "cont = 1 #contador\n",
    "while cont <=10:\n",
    "    print(cont, '-> ', end='')\n",
    "    cont += 1\n",
    "print('Acabou')\n",
    "\n",
    "num = cont = 0 #contador\n",
    "while cont < 3:\n",
    "    num = int(input('Digite um número: '))\n",
    "    cont += 1"
   ]
  },
  {
   "cell_type": "code",
   "execution_count": 13,
   "id": "26213978",
   "metadata": {},
   "outputs": [
    {
     "name": "stdout",
     "output_type": "stream",
     "text": [
      "Digite um número: 4\n",
      "Digite um número: 5\n",
      "Digite um número: 8\n",
      "Digite um número: 999\n",
      "A soma vale 17\n",
      "Digite um número: 4\n",
      "Digite um número: 5\n",
      "Digite um número: 8\n",
      "Digite um número: 999\n",
      "A soma vale 17\n"
     ]
    }
   ],
   "source": [
    "num = soma = 0\n",
    "while num != 999: #flag\n",
    "    num = int(input('Digite um número: '))\n",
    "    soma += num\n",
    "soma -= 999 #gambiarra\n",
    "print(f'A soma vale {soma}')\n",
    "\n",
    "num = soma = 0\n",
    "while num != 999: #flag\n",
    "    num = int(input('Digite um número: '))\n",
    "    if num != 999: #flag\n",
    "        soma += num\n",
    "print(f'A soma vale {soma}')"
   ]
  },
  {
   "cell_type": "code",
   "execution_count": 17,
   "id": "0d732b99",
   "metadata": {},
   "outputs": [
    {
     "name": "stdout",
     "output_type": "stream",
     "text": [
      "Digite um número: 4\n",
      "Digite um número: 5\n",
      "Digite um número: 8\n",
      "Digite um número: 999\n",
      "A soma vale 17\n"
     ]
    }
   ],
   "source": [
    "#utilizando a instrução break\n",
    "s = 0\n",
    "while True:\n",
    "    n = int(input('Digite um número: '))\n",
    "    if n == 999: #flag\n",
    "        break #sai do loop neste ponto\n",
    "    s += n\n",
    "print(f'A soma vale {s}')"
   ]
  },
  {
   "cell_type": "markdown",
   "id": "f20f4866",
   "metadata": {},
   "source": [
    "**Exercício:** Leia vários números inteiros e quando digitar 999, mostre quantos números foram digitados e a soma entre eles"
   ]
  },
  {
   "cell_type": "code",
   "execution_count": 2,
   "id": "7f0be8c1",
   "metadata": {},
   "outputs": [
    {
     "name": "stdout",
     "output_type": "stream",
     "text": [
      "Digite um valor [999 para parar]: 3\n",
      "Digite um valor [999 para parar]: 8\n",
      "Digite um valor [999 para parar]: 1\n",
      "Digite um valor [999 para parar]: 7\n",
      "Digite um valor [999 para parar]: 999\n",
      "A soma dos 4 valores foi 19\n"
     ]
    }
   ],
   "source": [
    "cont = soma = 0\n",
    "while True:\n",
    "    num = int(input('Digite um valor [999 para parar]: '))\n",
    "    if num == 999: #flag\n",
    "        break\n",
    "    cont += 1\n",
    "    soma += num\n",
    "print(f'A soma dos {cont} valores foi {soma}')"
   ]
  },
  {
   "cell_type": "markdown",
   "id": "1343dda2",
   "metadata": {},
   "source": [
    "**Exercício:** Mostre a tabuada de vários números, um de cada vez para cada valor digitado. O programa será interrompido quando o valor for negativo."
   ]
  },
  {
   "cell_type": "code",
   "execution_count": 11,
   "id": "ed69e9ca",
   "metadata": {},
   "outputs": [
    {
     "name": "stdout",
     "output_type": "stream",
     "text": [
      "Quer ver a tabuada de qual valor? 6\n",
      "--------------------\n",
      "6 x 1 = 6\n",
      "6 x 2 = 12\n",
      "6 x 3 = 18\n",
      "6 x 4 = 24\n",
      "6 x 5 = 30\n",
      "6 x 6 = 36\n",
      "6 x 7 = 42\n",
      "6 x 8 = 48\n",
      "6 x 9 = 54\n",
      "6 x 10 = 60\n",
      "--------------------\n",
      "Quer ver a tabuada de qual valor? 9\n",
      "--------------------\n",
      "9 x 1 = 9\n",
      "9 x 2 = 18\n",
      "9 x 3 = 27\n",
      "9 x 4 = 36\n",
      "9 x 5 = 45\n",
      "9 x 6 = 54\n",
      "9 x 7 = 63\n",
      "9 x 8 = 72\n",
      "9 x 9 = 81\n",
      "9 x 10 = 90\n",
      "--------------------\n",
      "Quer ver a tabuada de qual valor? -9\n",
      "--------------------\n",
      "PROGRAMA DE TABUADA ENCERRADO. Volte sempre!\n"
     ]
    }
   ],
   "source": [
    "while True:\n",
    "    num = int(input('Quer ver a tabuada de qual valor? '))\n",
    "    print('-'*20)\n",
    "    if num < 0: #flag\n",
    "        break\n",
    "    for c in range(1, 11):\n",
    "        print(f'{num} x {c} = {num*c}')\n",
    "    print('-'*20)\n",
    "print('PROGRAMA DE TABUADA ENCERRADO. Volte sempre!')"
   ]
  },
  {
   "cell_type": "markdown",
   "id": "d41bd297",
   "metadata": {},
   "source": [
    "**Exercício:** Jogue par ou ímpar com o computador. Interrompa quando perder. Mostre o número de vitórias consecutivas."
   ]
  },
  {
   "cell_type": "code",
   "execution_count": 17,
   "id": "21c244c6",
   "metadata": {},
   "outputs": [
    {
     "name": "stdout",
     "output_type": "stream",
     "text": [
      "=-=-=-=-=-=-=-=-=-=-=-=-=-=-=-=-=-=-=-=-\n",
      "VAMOS JOGAR PAR OU ÍMPAR\n",
      "=-=-=-=-=-=-=-=-=-=-=-=-=-=-=-=-=-=-=-=-\n",
      "Diga um valor: 2\n",
      "Par ou Ímpar? [P/I] p\n",
      "Você jogou 2 e o computador 1. A soma é 3 DEU ÍMPAR\n",
      "Você PERDEU!\n",
      "GAME OVER! Você venceu 0 vezes\n"
     ]
    }
   ],
   "source": [
    "from random import randint\n",
    "print('=-'*20)\n",
    "print('VAMOS JOGAR PAR OU ÍMPAR')\n",
    "print('=-'*20)\n",
    "v = 0\n",
    "while True:\n",
    "    jogador = int(input('Diga um valor: '))\n",
    "    computador = randint(0, 10)\n",
    "    soma = jogador + computador\n",
    "    escolha = ' '\n",
    "    while escolha not in 'PI':\n",
    "        escolha = str(input('Par ou Ímpar? [P/I] ')).upper().strip()[0]\n",
    "    print(f'Você jogou {jogador} e o computador {computador}. A soma é {soma}. ', end ='')\n",
    "    print('DEU PAR' if soma % 2 == 0 else 'DEU ÍMPAR')\n",
    "    if escolha == 'P':\n",
    "        if soma % 2 == 0:\n",
    "            print('Você VENCEU!')\n",
    "            v += 1\n",
    "        else:\n",
    "            print('Você PERDEU!')\n",
    "            break\n",
    "    elif escolha == 'I':\n",
    "        if soma % 2 == 1:\n",
    "            print('Você VENCEU!')\n",
    "            v += 1\n",
    "        else:\n",
    "            print('Você PERDEU!')\n",
    "            break\n",
    "    print('Vamos jogar novamente...')\n",
    "print(f'GAME OVER! Você venceu {v} vezes')"
   ]
  },
  {
   "cell_type": "markdown",
   "id": "8764e2a1",
   "metadata": {},
   "source": [
    "**Exercício:** Leia a idade e o sexo de várias pessoas. A cada pessoa cadastrada, o programa deverá perguntar se o usuário quer ou não continuar. No final, mostre:\n",
    "1. Quantas pessoas tem mais de 18 anos.\n",
    "2. Quantos homens foram cadastrados.\n",
    "3. Quantas mulheres tem menos de 20 anos."
   ]
  },
  {
   "cell_type": "code",
   "execution_count": 23,
   "id": "c1077a1c",
   "metadata": {},
   "outputs": [
    {
     "name": "stdout",
     "output_type": "stream",
     "text": [
      "------------------------------\n",
      "     CADASTRE UMA PESSOA      \n",
      "------------------------------\n",
      "Idade: 22\n",
      "Sexo: [M/F] m\n",
      "------------------------------\n",
      "Quer continuar? [S/N] s\n",
      "------------------------------\n",
      "     CADASTRE UMA PESSOA      \n",
      "------------------------------\n",
      "Idade: 16\n",
      "Sexo: [M/F] f\n",
      "------------------------------\n",
      "Quer continuar? [S/N] s\n",
      "------------------------------\n",
      "     CADASTRE UMA PESSOA      \n",
      "------------------------------\n",
      "Idade: 45\n",
      "Sexo: [M/F] f\n",
      "------------------------------\n",
      "Quer continuar? [S/N] s\n",
      "------------------------------\n",
      "     CADASTRE UMA PESSOA      \n",
      "------------------------------\n",
      "Idade: 12\n",
      "Sexo: [M/F] m\n",
      "------------------------------\n",
      "Quer continuar? [S/N] n\n",
      "O total de pessoas com mais de 18 anos é 2.\n",
      "Ao todo temos 2 homens cadastrados.\n",
      "E temos 1 mulheres com menos de 20 anos.\n"
     ]
    }
   ],
   "source": [
    "tot18 = toth = totm20 = 0\n",
    "while True:\n",
    "    print('-'*30)\n",
    "    print(f'{\"CADASTRE UMA PESSOA\":^30}')\n",
    "    print('-'*30)\n",
    "    idade = int(input('Idade: '))\n",
    "    sexo = ' '\n",
    "    while sexo not in 'MF':\n",
    "        sexo = str(input('Sexo: [M/F] ')).strip().upper()[0]\n",
    "    print('-'*30)\n",
    "    if idade >= 18:\n",
    "        tot18 += 1\n",
    "    if sexo == 'M':\n",
    "        toth += 1\n",
    "    if sexo == 'F' and idade < 20:\n",
    "        totm20 += 1\n",
    "    resp = ' '\n",
    "    while resp not in 'SN':\n",
    "        resp = str(input('Quer continuar? [S/N] ')).strip().upper()[0]\n",
    "    if resp == 'N':\n",
    "        break\n",
    "print(f'O total de pessoas com mais de 18 anos é {tot18}.')\n",
    "print(f'Ao todo temos {toth} homens cadastrados.')\n",
    "print(f'E temos {totm20} mulheres com menos de 20 anos.')"
   ]
  },
  {
   "cell_type": "markdown",
   "id": "80c8b5a4",
   "metadata": {},
   "source": [
    "**Exercício:** Leia o nome e o preço de vários produtos. O programa deverá perguntar se o usuário vai continuar ou não. No final, mostre:\n",
    "1. Qual é o total gasto na compra.\n",
    "2. Quantos produtos custam mais de 1000.\n",
    "3. Qual é o nome do produto mais barato."
   ]
  },
  {
   "cell_type": "code",
   "execution_count": 31,
   "id": "1253ec04",
   "metadata": {},
   "outputs": [
    {
     "name": "stdout",
     "output_type": "stream",
     "text": [
      "------------------------------\n",
      "      LOJA SUPER BARATÃO      \n",
      "------------------------------\n",
      "Nome do Produto: Lapiseira\n",
      "Preço: R$6\n",
      "Quer continuar? [S/N]s\n",
      "Nome do Produto: Caderno\n",
      "Preço: R$25\n",
      "Quer continuar? [S/N]s\n",
      "Nome do Produto: Computador\n",
      "Preço: R$12000\n",
      "Quer continuar? [S/N]s\n",
      "Nome do Produto: Impressora\n",
      "Preço: R$750\n",
      "Quer continuar? [S/N]n\n",
      "----------- FIM DO PROGRAMA ------------\n",
      "O total da compra foi R$12781.00\n",
      "Temos 1 produtos custando mais de R$1000\n",
      "O produto mais barato foi Lapiseira que custa R$6.00\n"
     ]
    }
   ],
   "source": [
    "total = totmil = cont = 0\n",
    "print('-'*30)\n",
    "print(f'{\"LOJA SUPER BARATÃO\":^30}')\n",
    "print('-'*30)\n",
    "while True:\n",
    "    produto = str(input('Nome do Produto: ')).strip()\n",
    "    preco = float(input('Preço: R$'))\n",
    "    cont += 1\n",
    "    total += preco\n",
    "    if preco > 1000:\n",
    "        totmil += 1\n",
    "    if cont == 1 or preco < menor: #usa o or para simplificar e não ter 2 blocos iguais\n",
    "        menor = preco\n",
    "        barato = produto\n",
    "    resp = ' '\n",
    "    while resp not in 'SN':\n",
    "        resp = str(input('Quer continuar? [S/N]')).upper().strip()[0]\n",
    "    if resp == 'N':\n",
    "        break\n",
    "print(f'{\" FIM DO PROGRAMA \":-^40}')\n",
    "print(f'O total da compra foi R${total:.2f}')\n",
    "print(f'Temos {totmil} produtos custando mais de R$1000')\n",
    "print(f'O produto mais barato foi {barato} que custa R${menor:.2f}')"
   ]
  },
  {
   "cell_type": "markdown",
   "id": "6c49b7fe",
   "metadata": {},
   "source": [
    "**Exercício:** Simule o funcionamento de um caixa eletrônico. No início, pergunte ao usuário qual será o valor a ser sacado (número inteiro) e o programa vai informar quantas cédulas de cada valor serão entregues. Considere que o caixa possui cédulas de RS50, RS20, RS10 e RS1."
   ]
  },
  {
   "cell_type": "code",
   "execution_count": 10,
   "id": "0556fb82",
   "metadata": {},
   "outputs": [
    {
     "name": "stdout",
     "output_type": "stream",
     "text": [
      "==============================\n",
      "          BANCO CEV           \n",
      "==============================\n",
      "Que valor você quer sacar? R$134\n",
      "Total de 2 cédulas de R$50\n",
      "Total de 1 cédulas de R$20\n",
      "Total de 1 cédulas de R$10\n",
      "Total de 4 cédulas de R$1\n",
      "==============================\n",
      "Volte sempre ao BANCO CEV! Tenha um bom dia!\n"
     ]
    }
   ],
   "source": [
    "print('='*30)\n",
    "print(f'{\"BANCO CEV\":^30}')\n",
    "print('='*30)\n",
    "valor = int(input('Que valor você quer sacar? R$'))\n",
    "total = valor\n",
    "cedula = 50\n",
    "total_cedula = 0\n",
    "while True:\n",
    "    if total >= cedula:\n",
    "        total -= cedula\n",
    "        total_cedula += 1\n",
    "    else:\n",
    "        if total_cedula > 0:\n",
    "            print(f'Total de {total_cedula} cédulas de R${cedula}')\n",
    "        if cedula == 50:\n",
    "            cedula = 20\n",
    "        elif cedula == 20:\n",
    "            cedula = 10\n",
    "        elif cedula == 10:\n",
    "            cedula = 1\n",
    "        total_cedula = 0\n",
    "        if total == 0:\n",
    "            break\n",
    "print('='*30)\n",
    "print('Volte sempre ao BANCO CEV! Tenha um bom dia!')    "
   ]
  },
  {
   "cell_type": "code",
   "execution_count": 9,
   "id": "d1069fa0",
   "metadata": {},
   "outputs": [
    {
     "name": "stdout",
     "output_type": "stream",
     "text": [
      "==============================\n",
      "          BANCO CEV           \n",
      "==============================\n",
      "Que valor você quer sacar? R$134\n",
      "Total de 2 cédulas de R$50\n",
      "Total de 1 cédulas de R$20\n",
      "Total de 1 cédulas de R$10\n",
      "Total de 4 cédulas de R$1\n",
      "==============================\n",
      "Volte sempre ao BANCO CEV! Tenha um bom dia!\n"
     ]
    }
   ],
   "source": [
    "print('='*30)\n",
    "print(f'{\"BANCO CEV\":^30}')\n",
    "print('='*30)\n",
    "valor = int(input('Que valor você quer sacar? R$'))\n",
    "cedula = 50\n",
    "while True:\n",
    "    if valor >= cedula:\n",
    "        total_cedula = valor // cedula\n",
    "        valor %= cedula\n",
    "        print(f'Total de {total_cedula} cédulas de R${cedula}')\n",
    "        if valor == 0:\n",
    "            break\n",
    "    else:\n",
    "        if cedula == 50:\n",
    "            cedula = 20\n",
    "        elif cedula == 20:\n",
    "            cedula = 10\n",
    "        elif cedula == 10:\n",
    "            cedula = 1\n",
    "print('='*30)\n",
    "print('Volte sempre ao BANCO CEV! Tenha um bom dia!')"
   ]
  },
  {
   "cell_type": "code",
   "execution_count": 13,
   "id": "08d12699",
   "metadata": {},
   "outputs": [
    {
     "name": "stdout",
     "output_type": "stream",
     "text": [
      "==============================\n",
      "          BANCO CEV           \n",
      "==============================\n",
      "Que valor você quer sacar? R$134\n",
      "Total de 2 cédulas de R$50\n",
      "Total de 1 cédulas de R$20\n",
      "Total de 1 cédulas de R$10\n",
      "Total de 4 cédulas de R$1\n",
      "==============================\n",
      "Volte sempre ao BANCO CEV! Tenha um bom dia!\n"
     ]
    }
   ],
   "source": [
    "#utilizando for\n",
    "print('='*30)\n",
    "print(f'{\"BANCO CEV\":^30}')\n",
    "print('='*30)\n",
    "valor = int(input('Que valor você quer sacar? R$'))\n",
    "for cedula in [50, 20, 10, 1]: #percorrendo lista\n",
    "    if valor >= cedula:\n",
    "        total_cedula = valor // cedula\n",
    "        valor %= cedula\n",
    "        print(f'Total de {total_cedula} cédulas de R${cedula}')\n",
    "        if valor == 0:\n",
    "            break\n",
    "print('='*30)\n",
    "print('Volte sempre ao BANCO CEV! Tenha um bom dia!')"
   ]
  },
  {
   "cell_type": "markdown",
   "id": "93c31345",
   "metadata": {},
   "source": [
    "### Instrução break e continue"
   ]
  },
  {
   "cell_type": "code",
   "execution_count": 33,
   "id": "d333206d",
   "metadata": {},
   "outputs": [
    {
     "name": "stdout",
     "output_type": "stream",
     "text": [
      "Entrando no laço...\n",
      "0 1 2 3 4 5 \n",
      "Saindo do laço...\n"
     ]
    }
   ],
   "source": [
    "print(\"Entrando no laço...\")\n",
    "for i in range(10):\n",
    "    print(i, end = ' ')\n",
    "    if i == 5:\n",
    "        break #para\n",
    "print(\"\\nSaindo do laço...\")"
   ]
  },
  {
   "cell_type": "code",
   "execution_count": 34,
   "id": "be8f417a",
   "metadata": {},
   "outputs": [
    {
     "name": "stdout",
     "output_type": "stream",
     "text": [
      "Entrando no laço...\n",
      "1 3 5 7 9 \n",
      "Saindo do laço...\n"
     ]
    }
   ],
   "source": [
    "print(\"Entrando no laço...\")\n",
    "i = 0\n",
    "while(i<10):\n",
    "    i += 1\n",
    "    if (i%2 == 0): #número par\n",
    "        continue #ignora e continua seguindo, ou seja, salta.\n",
    "    print(i, end =' ')\n",
    "print(\"\\nSaindo do laço...\")"
   ]
  },
  {
   "cell_type": "markdown",
   "id": "75e0cc57",
   "metadata": {},
   "source": [
    "## Variáveis compostas"
   ]
  },
  {
   "cell_type": "markdown",
   "id": "20cdafbd",
   "metadata": {},
   "source": [
    "### Estrutura de Tuplas\n",
    "Obs.: As tuplas são imutáveis!"
   ]
  },
  {
   "cell_type": "code",
   "execution_count": 35,
   "id": "3c042eea",
   "metadata": {},
   "outputs": [
    {
     "name": "stdout",
     "output_type": "stream",
     "text": [
      "<class 'str'>\n",
      "<class 'int'>\n",
      "<class 'tuple'>\n",
      "<class 'tuple'>\n",
      "<class 'tuple'>\n",
      "<class 'tuple'>\n"
     ]
    }
   ],
   "source": [
    "x1 = ('abc')\n",
    "x2 = (123)\n",
    "y1 = ('a', 'b', 'c') #tupla\n",
    "y2 = (1, 2, 3)\n",
    "z1 = 'a', 'b', 'c' #a partir do python 3.5 não precisa de parênteses\n",
    "z2 = 1, 2, 3\n",
    "print(type(x1))\n",
    "print(type(x2))\n",
    "print(type(y1))\n",
    "print(type(y2))\n",
    "print(type(z1))\n",
    "print(type(z2))"
   ]
  },
  {
   "cell_type": "code",
   "execution_count": 29,
   "id": "3f623e22",
   "metadata": {},
   "outputs": [
    {
     "name": "stdout",
     "output_type": "stream",
     "text": [
      "aBc\n"
     ]
    }
   ],
   "source": [
    "x1 = x1.replace('b', 'B') #string não é tupla\n",
    "print(x1)"
   ]
  },
  {
   "cell_type": "code",
   "execution_count": 37,
   "id": "a5888a12",
   "metadata": {},
   "outputs": [
    {
     "ename": "AttributeError",
     "evalue": "'tuple' object has no attribute 'replace'",
     "output_type": "error",
     "traceback": [
      "\u001b[1;31m---------------------------------------------------------------------------\u001b[0m",
      "\u001b[1;31mAttributeError\u001b[0m                            Traceback (most recent call last)",
      "\u001b[1;32m~\\AppData\\Local\\Temp\\ipykernel_18236\\3481490646.py\u001b[0m in \u001b[0;36m<module>\u001b[1;34m\u001b[0m\n\u001b[1;32m----> 1\u001b[1;33m \u001b[0my1\u001b[0m \u001b[1;33m=\u001b[0m \u001b[0my1\u001b[0m\u001b[1;33m.\u001b[0m\u001b[0mreplace\u001b[0m\u001b[1;33m(\u001b[0m\u001b[1;34m'b'\u001b[0m\u001b[1;33m,\u001b[0m \u001b[1;34m'B'\u001b[0m\u001b[1;33m)\u001b[0m \u001b[1;31m#erro, pois tuplas são imutáveis\u001b[0m\u001b[1;33m\u001b[0m\u001b[1;33m\u001b[0m\u001b[0m\n\u001b[0m\u001b[0;32m      2\u001b[0m \u001b[0mprint\u001b[0m\u001b[1;33m(\u001b[0m\u001b[0my1\u001b[0m\u001b[1;33m)\u001b[0m\u001b[1;33m\u001b[0m\u001b[1;33m\u001b[0m\u001b[0m\n",
      "\u001b[1;31mAttributeError\u001b[0m: 'tuple' object has no attribute 'replace'"
     ]
    }
   ],
   "source": [
    "y1 = y1.replace('b', 'B') #erro, pois tuplas são imutáveis\n",
    "print(y1)"
   ]
  },
  {
   "cell_type": "code",
   "execution_count": 122,
   "id": "9146a8fb",
   "metadata": {},
   "outputs": [
    {
     "name": "stdout",
     "output_type": "stream",
     "text": [
      "('Icaro', 39, 'M', 83.5)\n",
      "<class 'tuple'>\n",
      "Icaro\n",
      "<class 'str'>\n",
      "39\n",
      "<class 'int'>\n"
     ]
    }
   ],
   "source": [
    "#As tuplas são semelhantes a vetores, porém no python uma tupla pode conter tipos diferentes\n",
    "pessoa = ('Icaro', 39, 'M', 83.5)\n",
    "print(pessoa)\n",
    "print(type(pessoa))\n",
    "print(pessoa[0])\n",
    "print(type(pessoa[0]))\n",
    "print(pessoa[1])\n",
    "print(type(pessoa[1]))"
   ]
  },
  {
   "cell_type": "code",
   "execution_count": 78,
   "id": "82ee8c5c",
   "metadata": {},
   "outputs": [
    {
     "name": "stdout",
     "output_type": "stream",
     "text": [
      "('Hambúrguer', 'Suco', 'Pizza', 'Pudim')\n",
      "Suco\n",
      "Suco\n",
      "('Suco', 'Pizza')\n",
      "('Suco', 'Pizza')\n",
      "('Pizza', 'Pudim')\n",
      "('Suco', 'Pizza', 'Pudim')\n",
      "('Hambúrguer', 'Suco')\n",
      "('Hambúrguer', 'Suco')\n",
      "('Hambúrguer', 'Suco', 'Pizza', 'Pudim')\n",
      "('Suco',)\n",
      "('Suco', 'Pudim')\n",
      "('Suco', 'Pudim')\n",
      "('Pudim', 'Suco')\n"
     ]
    }
   ],
   "source": [
    "#index         0           1       2        3\n",
    "#index        -4          -3      -2       -1\n",
    "lanche = ('Hambúrguer', 'Suco', 'Pizza', 'Pudim')\n",
    "print(lanche)\n",
    "#fatiamento\n",
    "print(lanche[1])\n",
    "print(lanche[-3])\n",
    "print(lanche[1:3]) #intervalo aberto à direita\n",
    "print(lanche[-3:-1]) #intervalo aberto à direita\n",
    "print(lanche[2:])\n",
    "print(lanche[-3:])\n",
    "print(lanche[:2]) #intervalo aberto à direita\n",
    "print(lanche[:-2])\n",
    "print(lanche[-4:]) #não funciona [:0] nem [-4:0]\n",
    "print(lanche[1::2]) #incremento = 2\n",
    "print(lanche[1:3:2]) #intervalo aberto à direita\n",
    "print(lanche[-3::2])\n",
    "print(lanche[-1::-2]) #decremento = -2, logo -1 e -3"
   ]
  },
  {
   "cell_type": "code",
   "execution_count": 55,
   "id": "76ceb14b",
   "metadata": {},
   "outputs": [
    {
     "ename": "TypeError",
     "evalue": "'tuple' object does not support item assignment",
     "output_type": "error",
     "traceback": [
      "\u001b[1;31m---------------------------------------------------------------------------\u001b[0m",
      "\u001b[1;31mTypeError\u001b[0m                                 Traceback (most recent call last)",
      "\u001b[1;32m~\\AppData\\Local\\Temp\\ipykernel_18236\\1378763276.py\u001b[0m in \u001b[0;36m<module>\u001b[1;34m\u001b[0m\n\u001b[1;32m----> 1\u001b[1;33m \u001b[0mlanche\u001b[0m\u001b[1;33m[\u001b[0m\u001b[1;36m1\u001b[0m\u001b[1;33m]\u001b[0m \u001b[1;33m=\u001b[0m \u001b[1;34m'Refrigerante'\u001b[0m \u001b[1;31m#erro, pois tuplas são imutáveis\u001b[0m\u001b[1;33m\u001b[0m\u001b[1;33m\u001b[0m\u001b[0m\n\u001b[0m\u001b[0;32m      2\u001b[0m \u001b[0mprint\u001b[0m\u001b[1;33m(\u001b[0m\u001b[0mlanche\u001b[0m\u001b[1;33m[\u001b[0m\u001b[1;36m1\u001b[0m\u001b[1;33m]\u001b[0m\u001b[1;33m)\u001b[0m\u001b[1;33m\u001b[0m\u001b[1;33m\u001b[0m\u001b[0m\n",
      "\u001b[1;31mTypeError\u001b[0m: 'tuple' object does not support item assignment"
     ]
    }
   ],
   "source": [
    "lanche[1] = 'Refrigerante' #erro, pois tuplas são imutáveis\n",
    "print(lanche[1])"
   ]
  },
  {
   "cell_type": "code",
   "execution_count": 73,
   "id": "720efd7a",
   "metadata": {},
   "outputs": [
    {
     "name": "stdout",
     "output_type": "stream",
     "text": [
      "Eu vou comer Hambúrguer\n",
      "Eu vou comer Suco\n",
      "Eu vou comer Pizza\n",
      "Eu vou comer Pudim\n",
      "Fim\n",
      "Hambúrguer Suco Pizza Pudim \n",
      "Fim\n",
      "Hambúrguer Suco Pizza \n",
      "Fim\n",
      "Pudim Pizza Suco Hambúrguer \n",
      "Fim\n"
     ]
    }
   ],
   "source": [
    "for comida in lanche:\n",
    "    print(f'Eu vou comer {comida}')\n",
    "print('Fim')\n",
    "for comida in lanche:\n",
    "    print(f'{comida} ', end='')\n",
    "print('\\nFim')\n",
    "for comida in lanche[0:3]:\n",
    "    print(f'{comida} ', end='')\n",
    "print('\\nFim')\n",
    "for comida in lanche[::-1]:\n",
    "    print(f'{comida} ', end='')\n",
    "print('\\nFim')"
   ]
  },
  {
   "cell_type": "code",
   "execution_count": 96,
   "id": "13d898ab",
   "metadata": {},
   "outputs": [
    {
     "name": "stdout",
     "output_type": "stream",
     "text": [
      "A tupla tem 4 elementos:\n",
      "0 1 2 3 \n",
      "Fim\n",
      "Hambúrguer Suco Pizza Pudim "
     ]
    }
   ],
   "source": [
    "print(f'A tupla tem {len(lanche)} elementos:')\n",
    "for cont in range(0, len(lanche)):\n",
    "    print(cont, end=' ') #mostrar index\n",
    "print('\\nFim')\n",
    "for cont in range(0, len(lanche)):\n",
    "    print(f'{lanche[cont]} ', end='') #mostrar valores"
   ]
  },
  {
   "cell_type": "code",
   "execution_count": 95,
   "id": "32d88d1c",
   "metadata": {},
   "outputs": [
    {
     "name": "stdout",
     "output_type": "stream",
     "text": [
      "0 - Hambúrguer\n",
      "1 - Suco\n",
      "2 - Pizza\n",
      "3 - Pudim\n",
      "Fim\n",
      "0 - Hambúrguer\n",
      "1 - Suco\n",
      "2 - Pizza\n",
      "3 - Pudim\n"
     ]
    }
   ],
   "source": [
    "for cont in range(0, len(lanche)):\n",
    "    print(f'{cont} - {lanche[cont]}')\n",
    "print('Fim')\n",
    "for pos, comida in enumerate(lanche): #enumerate mostra index e valor\n",
    "    print(f'{pos} - {comida}')"
   ]
  },
  {
   "cell_type": "markdown",
   "id": "07c6079b",
   "metadata": {},
   "source": [
    "### Operações com Tuplas"
   ]
  },
  {
   "cell_type": "code",
   "execution_count": 100,
   "id": "79bc9c7d",
   "metadata": {},
   "outputs": [
    {
     "name": "stdout",
     "output_type": "stream",
     "text": [
      "['Hambúrguer', 'Pizza', 'Pudim', 'Suco']\n",
      "('Hambúrguer', 'Suco', 'Pizza', 'Pudim')\n"
     ]
    }
   ],
   "source": [
    "print(sorted(lanche)) #mostra ordenado em uma lista, mas não muda a tupla\n",
    "print(lanche)"
   ]
  },
  {
   "cell_type": "code",
   "execution_count": 108,
   "id": "38b8ee58",
   "metadata": {},
   "outputs": [
    {
     "name": "stdout",
     "output_type": "stream",
     "text": [
      "(2, 5, 4, 5, 8, 1, 2)\n",
      "((2, 5, 4), (5, 8, 1, 2))\n",
      "4\n"
     ]
    }
   ],
   "source": [
    "a = (2, 5, 4)\n",
    "b = (5, 8, 1, 2)\n",
    "c = a + b #apenas junta, e não é igual a: b + a\n",
    "d = a , b #tuplas dentro de tupla\n",
    "print(c)\n",
    "print(d)"
   ]
  },
  {
   "cell_type": "code",
   "execution_count": 128,
   "id": "2bcaf21a",
   "metadata": {},
   "outputs": [
    {
     "name": "stdout",
     "output_type": "stream",
     "text": [
      "2\n",
      "3\n",
      "2\n",
      "4\n",
      "6\n",
      "6\n"
     ]
    }
   ],
   "source": [
    "print(c.count(5)) #método interno no objeto da tupla\n",
    "#index      0        1         2        3        4        5        6\n",
    "nomes = ('Icaro', 'Carlos', 'Maria', 'Pedro', 'Maria', 'Joana', 'Maria')\n",
    "print(nomes.count('Maria'))\n",
    "print(nomes.index('Maria')) #mostra a primeira ocorrência\n",
    "print(nomes.index('Maria', 3)) #mostra a primeira ocorrência a partir da posição 3\n",
    "print(nomes.index('Maria', 5)) #deslocamento\n",
    "print(c.index(2, 1))"
   ]
  },
  {
   "cell_type": "code",
   "execution_count": 123,
   "id": "376728bd",
   "metadata": {},
   "outputs": [
    {
     "ename": "TypeError",
     "evalue": "'tuple' object doesn't support item deletion",
     "output_type": "error",
     "traceback": [
      "\u001b[1;31m---------------------------------------------------------------------------\u001b[0m",
      "\u001b[1;31mTypeError\u001b[0m                                 Traceback (most recent call last)",
      "\u001b[1;32m~\\AppData\\Local\\Temp\\ipykernel_18236\\888222988.py\u001b[0m in \u001b[0;36m<module>\u001b[1;34m\u001b[0m\n\u001b[1;32m----> 1\u001b[1;33m \u001b[1;32mdel\u001b[0m\u001b[1;33m(\u001b[0m\u001b[0mnomes\u001b[0m\u001b[1;33m[\u001b[0m\u001b[1;36m0\u001b[0m\u001b[1;33m]\u001b[0m\u001b[1;33m)\u001b[0m \u001b[1;31m#erro, pois tuplas são imutáveis\u001b[0m\u001b[1;33m\u001b[0m\u001b[1;33m\u001b[0m\u001b[0m\n\u001b[0m",
      "\u001b[1;31mTypeError\u001b[0m: 'tuple' object doesn't support item deletion"
     ]
    }
   ],
   "source": [
    "del(nomes[0]) #erro, pois tuplas são imutáveis"
   ]
  },
  {
   "cell_type": "code",
   "execution_count": 127,
   "id": "cb6cb910",
   "metadata": {},
   "outputs": [
    {
     "ename": "NameError",
     "evalue": "name 'compras' is not defined",
     "output_type": "error",
     "traceback": [
      "\u001b[1;31m---------------------------------------------------------------------------\u001b[0m",
      "\u001b[1;31mNameError\u001b[0m                                 Traceback (most recent call last)",
      "\u001b[1;32m~\\AppData\\Local\\Temp\\ipykernel_18236\\2042087081.py\u001b[0m in \u001b[0;36m<module>\u001b[1;34m\u001b[0m\n\u001b[0;32m      1\u001b[0m \u001b[0mcompras\u001b[0m \u001b[1;33m=\u001b[0m \u001b[1;33m(\u001b[0m\u001b[1;34m'lápis'\u001b[0m\u001b[1;33m,\u001b[0m \u001b[1;34m'caneta'\u001b[0m\u001b[1;33m,\u001b[0m \u001b[1;34m'caderno'\u001b[0m\u001b[1;33m,\u001b[0m \u001b[1;34m'calculadora'\u001b[0m\u001b[1;33m)\u001b[0m\u001b[1;33m\u001b[0m\u001b[1;33m\u001b[0m\u001b[0m\n\u001b[0;32m      2\u001b[0m \u001b[1;32mdel\u001b[0m \u001b[1;33m(\u001b[0m\u001b[0mcompras\u001b[0m\u001b[1;33m)\u001b[0m \u001b[1;31m#apaga a tupla\u001b[0m\u001b[1;33m\u001b[0m\u001b[1;33m\u001b[0m\u001b[0m\n\u001b[1;32m----> 3\u001b[1;33m \u001b[0mprint\u001b[0m\u001b[1;33m(\u001b[0m\u001b[0mcompras\u001b[0m\u001b[1;33m)\u001b[0m\u001b[1;33m\u001b[0m\u001b[1;33m\u001b[0m\u001b[0m\n\u001b[0m",
      "\u001b[1;31mNameError\u001b[0m: name 'compras' is not defined"
     ]
    }
   ],
   "source": [
    "compras = ('lápis', 'caneta', 'caderno', 'calculadora')\n",
    "del (compras) #apaga a tupla\n",
    "print(compras)"
   ]
  },
  {
   "cell_type": "code",
   "execution_count": 8,
   "id": "05e46dee",
   "metadata": {},
   "outputs": [
    {
     "data": {
      "text/plain": [
       "True"
      ]
     },
     "execution_count": 8,
     "metadata": {},
     "output_type": "execute_result"
    }
   ],
   "source": [
    "cidades = ('São Paulo', 'Belo Horisonte', 'Brasília')\n",
    "'Brasília' in cidades #funciona assim como em listas"
   ]
  },
  {
   "cell_type": "markdown",
   "id": "58c50f90",
   "metadata": {},
   "source": [
    "**Exercício:** Tupla com contagem de 0 a 20 por extenso. O usuário digita um número entre 0 e 20 e o programa mostra o valor por extenso."
   ]
  },
  {
   "cell_type": "code",
   "execution_count": 63,
   "id": "86fcfe0b",
   "metadata": {},
   "outputs": [
    {
     "name": "stdout",
     "output_type": "stream",
     "text": [
      "Digite um número entre 0 e 20: 90\n",
      "Tente novamente. Digite um número entre 0 e 20: 13\n",
      "Você digitou o número treze\n"
     ]
    }
   ],
   "source": [
    "cont = ('zero', 'um', 'dois', 'três', 'quatro', 'cinco',\n",
    "        'seis', 'sete', 'oito', 'nove', 'dez',\n",
    "        'onze', 'doze', 'treze', 'catorze', 'quinze',\n",
    "        'dezesseis', 'dezessete', 'dezoito', 'dezenove', 'vinte')\n",
    "while True:\n",
    "    num = int(input('Digite um número entre 0 e 20: '))\n",
    "    if 0 <= num <= 20:\n",
    "        break\n",
    "    print('Tente novamente. ', end='')\n",
    "print(f'Você digitou o número {cont[num]}')"
   ]
  },
  {
   "cell_type": "code",
   "execution_count": 77,
   "id": "582ed453",
   "metadata": {},
   "outputs": [
    {
     "name": "stdout",
     "output_type": "stream",
     "text": [
      "Digite um número entre 0 e 20: 21\n",
      "Tente novamente. Digite um número entre 0 e 20: 19\n",
      "Você digitou o número dezenove\n",
      "Quer continuar? [S/N] n\n"
     ]
    }
   ],
   "source": [
    "cont = ('zero', 'um', 'dois', 'três', 'quatro', 'cinco',\n",
    "        'seis', 'sete', 'oito', 'nove', 'dez',\n",
    "        'onze', 'doze', 'treze', 'catorze', 'quinze',\n",
    "        'dezesseis', 'dezessete', 'dezoito', 'dezenove', 'vinte')\n",
    "while True:\n",
    "    while True:\n",
    "        num = int(input('Digite um número entre 0 e 20: '))\n",
    "        if 0 <= num < len(cont):\n",
    "            break\n",
    "        print('Tente novamente. ', end='')\n",
    "    print(f'Você digitou o número {cont[num]}')\n",
    "    resp = str(input('Quer continuar? [S/N] ')).strip().upper()[0]\n",
    "    if resp == 'N':\n",
    "        break"
   ]
  },
  {
   "cell_type": "markdown",
   "id": "eb40e08c",
   "metadata": {},
   "source": [
    "**Exercício:** Tupla com os 20 primeiros colocados no campeonato, na ordem de colocação.\n",
    "1. Apenas os 5 primeiros\n",
    "2. O 4 últimos\n",
    "3. Lista em ordem alfabética\n",
    "4. Em que posição está o São Paulo"
   ]
  },
  {
   "cell_type": "code",
   "execution_count": 81,
   "id": "c678d021",
   "metadata": {},
   "outputs": [
    {
     "name": "stdout",
     "output_type": "stream",
     "text": [
      "-=-=-=-=-=-=-=-=-=-=-=-=-=-=-=-=-=-=-=-=\n",
      "Lista de times do Brasileirão: ('Palmeiras', 'Internacional', 'Fluminense', 'Corinthians', 'Flamengo', 'Athletico-PR', 'Atlético-MG', 'Fortaleza', 'São Paulo', 'América-MG', 'Botafogo', 'Santos', 'Goiás', 'Bragantino', 'Coritiba', 'Cuiabá', 'Ceará', 'Atlético-GO', 'Avaí', 'Juventude')\n",
      "-=-=-=-=-=-=-=-=-=-=-=-=-=-=-=-=-=-=-=-=\n",
      "Os 5 primeiros são: ('Palmeiras', 'Internacional', 'Fluminense', 'Corinthians', 'Flamengo')\n",
      "-=-=-=-=-=-=-=-=-=-=-=-=-=-=-=-=-=-=-=-=\n",
      "Os 4 últimos são: ('Ceará', 'Atlético-GO', 'Avaí', 'Juventude')\n",
      "-=-=-=-=-=-=-=-=-=-=-=-=-=-=-=-=-=-=-=-=\n",
      "Times em ordem alfabética: ['América-MG', 'Athletico-PR', 'Atlético-GO', 'Atlético-MG', 'Avaí', 'Botafogo', 'Bragantino', 'Ceará', 'Corinthians', 'Coritiba', 'Cuiabá', 'Flamengo', 'Fluminense', 'Fortaleza', 'Goiás', 'Internacional', 'Juventude', 'Palmeiras', 'Santos', 'São Paulo']\n",
      "-=-=-=-=-=-=-=-=-=-=-=-=-=-=-=-=-=-=-=-=\n",
      "O São Paulo está na 9ª posição\n"
     ]
    }
   ],
   "source": [
    "times = ('Palmeiras', 'Internacional', 'Fluminense', 'Corinthians', 'Flamengo',\n",
    "         'Athletico-PR', 'Atlético-MG', 'Fortaleza', 'São Paulo', 'América-MG',\n",
    "         'Botafogo', 'Santos', 'Goiás', 'Bragantino', 'Coritiba',\n",
    "         'Cuiabá', 'Ceará', 'Atlético-GO', 'Avaí', 'Juventude')\n",
    "print('-='*20)\n",
    "print(f'Lista de times do Brasileirão: {times}')\n",
    "print('-='*20)\n",
    "print(f'Os 5 primeiros são: {times[0:5]}')\n",
    "print('-='*20)\n",
    "print(f'Os 4 últimos são: {times[-4:]}')\n",
    "print('-='*20)\n",
    "print(f'Times em ordem alfabética: {sorted(times)}')\n",
    "print('-='*20)\n",
    "print(f'O São Paulo está na {times.index(\"São Paulo\")+1}ª posição')"
   ]
  },
  {
   "cell_type": "code",
   "execution_count": 78,
   "id": "f11f67aa",
   "metadata": {},
   "outputs": [
    {
     "name": "stdout",
     "output_type": "stream",
     "text": [
      "-=-=-=-=-=-=-=-=-=-=-=-=-=-=-=-=-=-=-=-=\n",
      "Lista de times do Brasileirão: 1 Palmeiras 2 Internacional 3 Fluminense 4 Corinthians 5 Flamengo 6 Athletico-PR 7 Atlético-MG 8 Fortaleza 9 São Paulo 10 América-MG 11 Botafogo 12 Santos 13 Goiás 14 Bragantino 15 Coritiba 16 Cuiabá 17 Ceará 18 Atlético-GO 19 Avaí 20 Juventude \n",
      " -=-=-=-=-=-=-=-=-=-=-=-=-=-=-=-=-=-=-=-=\n",
      "Os 5 primeiros são: 1 Palmeiras 2 Internacional 3 Fluminense 4 Corinthians 5 Flamengo \n",
      " -=-=-=-=-=-=-=-=-=-=-=-=-=-=-=-=-=-=-=-=\n",
      "Os 4 últimos são: 17 Ceará 18 Atlético-GO 19 Avaí 20 Juventude \n",
      " -=-=-=-=-=-=-=-=-=-=-=-=-=-=-=-=-=-=-=-=\n",
      "Times em ordem alfabética: ['América-MG', 'Athletico-PR', 'Atlético-GO', 'Atlético-MG', 'Avaí', 'Botafogo', 'Bragantino', 'Ceará', 'Corinthians', 'Coritiba', 'Cuiabá', 'Flamengo', 'Fluminense', 'Fortaleza', 'Goiás', 'Internacional', 'Juventude', 'Palmeiras', 'Santos', 'São Paulo']\n",
      "-=-=-=-=-=-=-=-=-=-=-=-=-=-=-=-=-=-=-=-=\n",
      "O São Paulo está na 9ª posição\n"
     ]
    }
   ],
   "source": [
    "times = ('Palmeiras', 'Internacional', 'Fluminense', 'Corinthians', 'Flamengo',\n",
    "         'Athletico-PR', 'Atlético-MG', 'Fortaleza', 'São Paulo', 'América-MG',\n",
    "         'Botafogo', 'Santos', 'Goiás', 'Bragantino', 'Coritiba',\n",
    "         'Cuiabá', 'Ceará', 'Atlético-GO', 'Avaí', 'Juventude')\n",
    "print('-='*20)\n",
    "print('Lista de times do Brasileirão: ', end='')\n",
    "for pos, time in enumerate(times):\n",
    "    print(pos+1, time, end=' ')\n",
    "print('\\n', '-='*20)\n",
    "print('Os 5 primeiros são: ', end='')\n",
    "for pos, time in enumerate(times[0:5]):\n",
    "    print(pos+1, time, end =' ')\n",
    "print('\\n', '-='*20)\n",
    "print('Os 4 últimos são: ', end='')\n",
    "for pos in range(16, len(times)):\n",
    "    print(pos+1, times[pos], end=' ')\n",
    "print('\\n', '-='*20)\n",
    "print('Times em ordem alfabética:', sorted(times))\n",
    "print('-='*20)\n",
    "print(f'O São Paulo está na {times.index(\"São Paulo\")+1}ª posição')"
   ]
  },
  {
   "cell_type": "markdown",
   "id": "03583ce2",
   "metadata": {},
   "source": [
    "**Exercício:** Crie um programa que vai gerar 5 números aleatórios e colocar em uma tupla. Depois disso, mostre a listagem de números gerados e indique o maior e o menor"
   ]
  },
  {
   "cell_type": "code",
   "execution_count": 93,
   "id": "3befee69",
   "metadata": {},
   "outputs": [
    {
     "name": "stdout",
     "output_type": "stream",
     "text": [
      "Os valores sorteados foram: 4 1 1 6 4 \n",
      "O maior valor sorteado foi 6\n",
      "O menor valor sorteado foi 1\n"
     ]
    }
   ],
   "source": [
    "from random import randint\n",
    "tupla = (randint(1, 10), randint(1, 10), randint(1, 10),\n",
    "         randint(1, 10), randint(1, 10))\n",
    "print('Os valores sorteados foram: ', end='')\n",
    "for c in range(0, len(tupla)):\n",
    "    print(tupla[c], end =' ')\n",
    "    if c == 0:\n",
    "        maior = tupla[c]\n",
    "        menor = tupla[c]\n",
    "    if tupla[c] >= maior:\n",
    "        maior = tupla[c]\n",
    "    if tupla[c] <= menor:\n",
    "        menor = tupla[c]\n",
    "print(f'\\nO maior valor sorteado foi {maior}\\nO menor valor sorteado foi {menor}')"
   ]
  },
  {
   "cell_type": "code",
   "execution_count": 99,
   "id": "61589359",
   "metadata": {},
   "outputs": [
    {
     "name": "stdout",
     "output_type": "stream",
     "text": [
      "Os valores sorteados foram: 7 4 10 3 2 \n",
      "O maior valor sorteado foi 10\n",
      "O menor valor sorteado foi 2\n"
     ]
    }
   ],
   "source": [
    "from random import randint\n",
    "numeros = (randint(1, 10), randint(1, 10), randint(1, 10),\n",
    "         randint(1, 10), randint(1, 10))\n",
    "print('Os valores sorteados foram: ', end='')\n",
    "for num in numeros:\n",
    "    print(f'{num} ', end ='')\n",
    "print(f'\\nO maior valor sorteado foi {max(numeros)}') #método para tuplas\n",
    "print(f'O menor valor sorteado foi {min(numeros)}')"
   ]
  },
  {
   "cell_type": "markdown",
   "id": "3ea345fe",
   "metadata": {},
   "source": [
    "**Exercício:** Leia 4 valores e guarde-os em uma tupla. Mostre:\n",
    "1. Quantas vezes apareceu o valor 9\n",
    "2. Em que posição foi digitado o primeiro valor 3\n",
    "3. Quais foram os números pares"
   ]
  },
  {
   "cell_type": "code",
   "execution_count": 25,
   "id": "33a11ced",
   "metadata": {},
   "outputs": [
    {
     "name": "stdout",
     "output_type": "stream",
     "text": [
      "Digite um número: 9\n",
      "Digite outro número: 3\n",
      "Digite mais um número: 2\n",
      "Digite o último número: 9\n",
      "Você digitou os valores (9, 3, 2, 9)\n",
      "O valor 9 apareceu 2 vezes\n",
      "O valor 3 apareceu na 2ª posição\n",
      "Os valores pares digitados foram 2 "
     ]
    }
   ],
   "source": [
    "numeros = (\n",
    "    int(input('Digite um número: ')),\n",
    "    int(input('Digite outro número: ')),\n",
    "    int(input('Digite mais um número: ')),\n",
    "    int(input('Digite o último número: '))\n",
    ")\n",
    "print(f'Você digitou os valores {numeros}')\n",
    "print(f'O valor 9 apareceu {numeros.count(9)} vezes')\n",
    "if 3 in numeros:\n",
    "    print(f'O valor 3 apareceu na {numeros.index(3)+1}ª posição')\n",
    "else:\n",
    "    print('O valor 3 não foi digitado em nenhuma posição')\n",
    "print('Os valores pares digitados foram ', end='')\n",
    "for pares in numeros:\n",
    "    if pares % 2 == 0:\n",
    "        print(f'{pares} ', end='')"
   ]
  },
  {
   "cell_type": "markdown",
   "id": "ebd8cb8c",
   "metadata": {},
   "source": [
    "**Exercício:** Crie uma tupla única com nomes de produtos e seus respectivos preços. Mostre a listagem de preços organizando os dados de forma tabular."
   ]
  },
  {
   "cell_type": "code",
   "execution_count": 19,
   "id": "f95d6c42",
   "metadata": {},
   "outputs": [
    {
     "name": "stdout",
     "output_type": "stream",
     "text": [
      "----------------------------------------\n",
      "            LISTA DE PREÇOS             \n",
      "----------------------------------------\n",
      "Lápis.........................R$   1.75\n",
      "Borracha......................R$   2.00\n",
      "Caderno.......................R$  15.90\n",
      "Estojo........................R$  25.00\n",
      "Transferidor..................R$   4.20\n",
      "Compasso......................R$   9.99\n",
      "Mochila.......................R$ 120.32\n",
      "Canetas.......................R$  22.30\n",
      "Livro.........................R$  34.90\n",
      "----------------------------------------\n"
     ]
    }
   ],
   "source": [
    "lista = ('Lápis', 1.75, 'Borracha', 2, 'Caderno', 15.90,\n",
    "         'Estojo', 25, 'Transferidor', 4.20, 'Compasso', 9.99,\n",
    "         'Mochila', 120.32, 'Canetas', 22.30, 'Livro', 34.90)\n",
    "print('-'*40)\n",
    "print(f'{\"LISTA DE PREÇOS\":^40}')\n",
    "print('-'*40)\n",
    "for i in range(0, len(lista)):\n",
    "    if i % 2 == 0:\n",
    "        print(f'{lista[i]:.<30}R${lista[i+1]:>7.2f}')\n",
    "print('-'*40)"
   ]
  },
  {
   "cell_type": "markdown",
   "id": "26aab6f2",
   "metadata": {},
   "source": [
    "**Exercício:** Crie uma tupla com várias palavras. Mostre para cada palavra, quais são as suas vogais."
   ]
  },
  {
   "cell_type": "code",
   "execution_count": 26,
   "id": "db0d7606",
   "metadata": {},
   "outputs": [
    {
     "name": "stdout",
     "output_type": "stream",
     "text": [
      "\n",
      "Na palavra APRENDER temos a e e \n",
      "Na palavra PROGRAMAR temos o a a \n",
      "Na palavra LINGUAGEM temos i u a e \n",
      "Na palavra PYTHON temos o \n",
      "Na palavra CURSO temos u o \n",
      "Na palavra GRATIS temos a i \n",
      "Na palavra ESTUDAR temos e u a \n",
      "Na palavra PRATICAR temos a i a \n",
      "Na palavra TRABALHAR temos a a a \n",
      "Na palavra MERCADO temos e a o \n",
      "Na palavra PROGRAMADOR temos o a a o \n",
      "Na palavra FUTURO temos u u o "
     ]
    }
   ],
   "source": [
    "palavras = ('aprender', 'programar', 'linguagem', 'python',\n",
    "            'curso', 'gratis', 'estudar', 'praticar',\n",
    "            'trabalhar', 'mercado', 'programador', 'futuro')\n",
    "for palavra in palavras:\n",
    "    print(f'\\nNa palavra {palavra.upper()} temos ', end='')\n",
    "    for vogal in palavra:\n",
    "        if vogal.lower() in 'aeiou':\n",
    "            print(f'{vogal} ', end='')"
   ]
  },
  {
   "cell_type": "markdown",
   "id": "8c01a79d",
   "metadata": {},
   "source": [
    "### Estrutura de Listas\n",
    "Obs.: Semelhante às tuplas, porém as listas podem ser mutáveis"
   ]
  },
  {
   "cell_type": "code",
   "execution_count": 36,
   "id": "856f3554",
   "metadata": {},
   "outputs": [
    {
     "ename": "TypeError",
     "evalue": "'tuple' object does not support item assignment",
     "output_type": "error",
     "traceback": [
      "\u001b[1;31m---------------------------------------------------------------------------\u001b[0m",
      "\u001b[1;31mTypeError\u001b[0m                                 Traceback (most recent call last)",
      "\u001b[1;32m~\\AppData\\Local\\Temp\\ipykernel_1576\\3101389867.py\u001b[0m in \u001b[0;36m<module>\u001b[1;34m\u001b[0m\n\u001b[0;32m      1\u001b[0m \u001b[0mnum\u001b[0m \u001b[1;33m=\u001b[0m \u001b[1;33m(\u001b[0m\u001b[1;36m2\u001b[0m\u001b[1;33m,\u001b[0m \u001b[1;36m5\u001b[0m\u001b[1;33m,\u001b[0m \u001b[1;36m9\u001b[0m\u001b[1;33m,\u001b[0m \u001b[1;36m1\u001b[0m\u001b[1;33m)\u001b[0m\u001b[1;33m\u001b[0m\u001b[1;33m\u001b[0m\u001b[0m\n\u001b[1;32m----> 2\u001b[1;33m \u001b[0mnum\u001b[0m\u001b[1;33m[\u001b[0m\u001b[1;36m2\u001b[0m\u001b[1;33m]\u001b[0m \u001b[1;33m=\u001b[0m \u001b[1;36m3\u001b[0m\u001b[1;33m\u001b[0m\u001b[1;33m\u001b[0m\u001b[0m\n\u001b[0m\u001b[0;32m      3\u001b[0m \u001b[0mprint\u001b[0m\u001b[1;33m(\u001b[0m\u001b[0mnum\u001b[0m\u001b[1;33m)\u001b[0m\u001b[1;33m\u001b[0m\u001b[1;33m\u001b[0m\u001b[0m\n",
      "\u001b[1;31mTypeError\u001b[0m: 'tuple' object does not support item assignment"
     ]
    }
   ],
   "source": [
    "num = (2, 5, 9, 1)\n",
    "num[2] = 3 #erro, pois tupla é imutável\n",
    "print(num)"
   ]
  },
  {
   "cell_type": "code",
   "execution_count": 63,
   "id": "2ea5be25",
   "metadata": {},
   "outputs": [
    {
     "name": "stdout",
     "output_type": "stream",
     "text": [
      "[2, 5, 9, 1]\n",
      "[2, 5, 3, 1]\n",
      "[2, 5, 3, 1, 7]\n",
      "[2, 5, 0, 3, 1, 7]\n",
      "[2, 5, 0, 3, 1]\n",
      "[2, 5, 3, 1]\n",
      "[1, 2, 3, 5]\n",
      "[5, 3, 2, 1]\n",
      "[1, 2, 3, 5]\n",
      "[5, 3, 2, 1]\n",
      "Esta lista tem 4 elementos\n"
     ]
    }
   ],
   "source": [
    "num = [2, 5, 9, 1]\n",
    "print(num)\n",
    "num[2] = 3 #lista é mutável\n",
    "print(num)\n",
    "\n",
    "#num[4] = 7 #não adiciona (erro)\n",
    "#para adicionar:\n",
    "num.append(7) #adiciona no final\n",
    "print(num)\n",
    "num.insert(2, 0) #na posição 2 insere o valor 0\n",
    "print(num)\n",
    "\n",
    "#para retirar:\n",
    "num.pop() #remove o último\n",
    "print(num)\n",
    "num.pop(2) #remove na posição 2\n",
    "print(num)\n",
    "\n",
    "num.sort() #altera a lista colocando em ordem\n",
    "print(num)\n",
    "\n",
    "num.sort(reverse=True) #altera a lista para ordem decrescente\n",
    "print(num)\n",
    "num.sort()\n",
    "print(num)\n",
    "num.reverse() #reverte. se ordenada, para ordem decrescente\n",
    "print(num)\n",
    "\n",
    "print(f'Esta lista tem {len(num)} elementos')"
   ]
  },
  {
   "cell_type": "code",
   "execution_count": 59,
   "id": "2923db9c",
   "metadata": {},
   "outputs": [
    {
     "name": "stdout",
     "output_type": "stream",
     "text": [
      "[7, 5, 2, 9, 2, 1]\n",
      "[7, 5, 9, 2, 1]\n"
     ]
    }
   ],
   "source": [
    "num = [7, 5, 2, 9, 2, 1]\n",
    "print(num)\n",
    "num.remove(2) #remove o 1º valor encontrado da esquerda pra direita\n",
    "print(num)"
   ]
  },
  {
   "cell_type": "code",
   "execution_count": 75,
   "id": "3c2489e3",
   "metadata": {},
   "outputs": [
    {
     "name": "stdout",
     "output_type": "stream",
     "text": [
      "<class 'list'>\n",
      "<class 'list'>\n",
      "[5, 9, 4]\n",
      "5..9..4..\n",
      "Na posição 0, encontrei o valor 5\n",
      "Na posição 1, encontrei o valor 9\n",
      "Na posição 2, encontrei o valor 4\n"
     ]
    }
   ],
   "source": [
    "#criando lista vazia:\n",
    "lista1 = []\n",
    "lista2 = list()\n",
    "print(type(lista1))\n",
    "print(type(lista2))\n",
    "\n",
    "lista1.append(5)\n",
    "lista1.append(9)\n",
    "lista1.append(4)\n",
    "print(lista1)\n",
    "for v in lista1:\n",
    "    print(f'{v}..', end='')\n",
    "print('')\n",
    "for c, v in enumerate(lista1):\n",
    "    print(f'Na posição {c}, encontrei o valor {v}')"
   ]
  },
  {
   "cell_type": "code",
   "execution_count": 77,
   "id": "90b0349d",
   "metadata": {},
   "outputs": [
    {
     "name": "stdout",
     "output_type": "stream",
     "text": [
      "Digite um valor: 4\n",
      "Digite um valor: 8\n",
      "Digite um valor: 9\n",
      "Digite um valor: 1\n",
      "Digite um valor: 3\n",
      "[4, 8, 9, 1, 3]\n"
     ]
    }
   ],
   "source": [
    "valores = []\n",
    "for cont in range(0, 5):\n",
    "    valores.append(int(input('Digite um valor: ')))\n",
    "print(valores)"
   ]
  },
  {
   "cell_type": "code",
   "execution_count": 79,
   "id": "e82b3ce6",
   "metadata": {},
   "outputs": [
    {
     "name": "stdout",
     "output_type": "stream",
     "text": [
      "Lista A: [2, 3, 4, 7]\n",
      "Lista B: [2, 3, 4, 7]\n",
      "Lista A: [2, 3, 8, 7]\n",
      "Lista B: [2, 3, 8, 7]\n"
     ]
    }
   ],
   "source": [
    "#igualando listas\n",
    "a = [2, 3, 4, 7]\n",
    "b = a #não faz cópia, faz ligação !!!!\n",
    "print(f'Lista A: {a}')\n",
    "print(f'Lista B: {b}')\n",
    "b[2] = 8\n",
    "print(f'Lista A: {a}') #também se alterou\n",
    "print(f'Lista B: {b}')"
   ]
  },
  {
   "cell_type": "code",
   "execution_count": 81,
   "id": "30c9eafb",
   "metadata": {},
   "outputs": [
    {
     "name": "stdout",
     "output_type": "stream",
     "text": [
      "Lista A: [2, 3, 4, 7]\n",
      "Lista B: [2, 3, 4, 7]\n",
      "Lista A: [2, 3, 4, 7]\n",
      "Lista B: [2, 3, 8, 7]\n"
     ]
    }
   ],
   "source": [
    "#Fazendo cópia:\n",
    "a = [2, 3, 4, 7]\n",
    "b = a[:] #b recebe todos os elementos de a. Não tem ligação.\n",
    "print(f'Lista A: {a}')\n",
    "print(f'Lista B: {b}')\n",
    "b[2] = 8\n",
    "print(f'Lista A: {a}') #não se alterou\n",
    "print(f'Lista B: {b}')"
   ]
  },
  {
   "cell_type": "markdown",
   "id": "6d588525",
   "metadata": {},
   "source": [
    "**Exercícios:** Leia 5 valores e guarde uma lista. Mostre o maior e o menor e suas respectivas posições."
   ]
  },
  {
   "cell_type": "code",
   "execution_count": 117,
   "id": "6cb78d21",
   "metadata": {},
   "outputs": [
    {
     "name": "stdout",
     "output_type": "stream",
     "text": [
      "Digite um valor para a posição 0: 1\n",
      "Digite um valor para a posição 1: 2\n",
      "Digite um valor para a posição 2: 1\n",
      "Digite um valor para a posição 3: 5\n",
      "Digite um valor para a posição 4: 5\n",
      "=-=-=-=-=-=-=-=-=-=-=-=-=-=-=-=-=-=-=-=-=-=-=-=-=-=-=-=-=-=-\n",
      "Você digitou os valores [1, 2, 1, 5, 5]\n",
      "O maior valor digitado foi 5 nas posições 3.. 4.. \n",
      "O menor valor digitado foi 1 nas posições 0.. 2.. "
     ]
    }
   ],
   "source": [
    "valores = []\n",
    "for v in range(0, 5):\n",
    "    valores.append(int(input(f'Digite um valor para a posição {v}: ')))\n",
    "print('=-'*30)\n",
    "print(f'Você digitou os valores {valores}')\n",
    "maior = max(valores)\n",
    "menor = min(valores)\n",
    "print(f'O maior valor digitado foi {maior} nas posições ', end='')\n",
    "for pos, valor in enumerate(valores):\n",
    "    if valor == maior:\n",
    "        print(f'{pos}.. ', end='')\n",
    "print(f'\\nO menor valor digitado foi {menor} nas posições ', end='')\n",
    "for pos, valor in enumerate(valores):\n",
    "    if valor == menor:\n",
    "        print(f'{pos}.. ', end='')"
   ]
  },
  {
   "cell_type": "code",
   "execution_count": 118,
   "id": "5b179439",
   "metadata": {},
   "outputs": [
    {
     "name": "stdout",
     "output_type": "stream",
     "text": [
      "Digite um valor para a posição 0: 1\n",
      "Digite um valor para a posição 1: 2\n",
      "Digite um valor para a posição 2: 1\n",
      "Digite um valor para a posição 3: 5\n",
      "Digite um valor para a posição 4: 5\n",
      "=-=-=-=-=-=-=-=-=-=-=-=-=-=-=-=-=-=-=-=-=-=-=-=-=-=-=-=-=-=-\n",
      "Você digitou os valores [1, 2, 1, 5, 5]\n",
      "O maior valor digitado foi 5 nas posições 3.. 4.. \n",
      "O menor valor digitado foi 1 nas posições 0.. 2.. "
     ]
    }
   ],
   "source": [
    "valores = []\n",
    "maior = menor = 0\n",
    "for v in range(0, 5):\n",
    "    valores.append(int(input(f'Digite um valor para a posição {v}: ')))\n",
    "    if v == 0:\n",
    "        maior = menor = valores[v]\n",
    "    else:\n",
    "        if valores[v] > maior:\n",
    "            maior = valores[v]\n",
    "        if valores[v] < menor:\n",
    "            menor = valores[v]\n",
    "print('=-'*30)\n",
    "print(f'Você digitou os valores {valores}')\n",
    "print(f'O maior valor digitado foi {maior} nas posições ', end='')\n",
    "for pos, valor in enumerate(valores):\n",
    "    if valor == maior:\n",
    "        print(f'{pos}.. ', end='')\n",
    "print(f'\\nO menor valor digitado foi {menor} nas posições ', end='')\n",
    "for pos, valor in enumerate(valores):\n",
    "    if valor == menor:\n",
    "        print(f'{pos}.. ', end='')"
   ]
  },
  {
   "cell_type": "markdown",
   "id": "e6748030",
   "metadata": {},
   "source": [
    "**Exercícios:** programa onde o usuário possa digitar vários valores e cadastre-os em uma lista."
   ]
  },
  {
   "cell_type": "code",
   "execution_count": 106,
   "id": "03f287f0",
   "metadata": {},
   "outputs": [
    {
     "name": "stdout",
     "output_type": "stream",
     "text": [
      "Digite um valor: 5\n",
      "Valor adicionado com sucesso...\n",
      "Quer continuar? [S/N]s\n",
      "Digite um valor: 9\n",
      "Valor adicionado com sucesso...\n",
      "Quer continuar? [S/N]s\n",
      "Digite um valor: 3\n",
      "Valor adicionado com sucesso...\n",
      "Quer continuar? [S/N]s\n",
      "Digite um valor: 9\n",
      "Valor duplicado! Não vou adicionar...\n",
      "Quer continuar? [S/N]s\n",
      "Digite um valor: 3\n",
      "Valor duplicado! Não vou adicionar...\n",
      "Quer continuar? [S/N]s\n",
      "Digite um valor: 7\n",
      "Valor adicionado com sucesso...\n",
      "Quer continuar? [S/N]n\n",
      "-=-=-=-=-=-=-=-=-=-=-=-=-=-=-=-=-=-=-=-=\n",
      "Você digitou os valores [3, 5, 7, 9]\n"
     ]
    }
   ],
   "source": [
    "valores = []\n",
    "cont = -1\n",
    "while True:\n",
    "    valores.append(int(input('Digite um valor: ')))\n",
    "    \n",
    "    cont += 1\n",
    "    if valores.count(valores[cont]) > 1:\n",
    "        valores.pop()\n",
    "        cont -= 1\n",
    "        print('Valor duplicado! Não vou adicionar...')\n",
    "    else:\n",
    "        print('Valor adicionado com sucesso...')\n",
    "    \n",
    "    resp = ' '\n",
    "    while resp not in 'SN':\n",
    "        resp = str(input('Quer continuar? [S/N]')).upper().strip()[0]\n",
    "    if resp == 'N':\n",
    "        break\n",
    "valores.sort()\n",
    "print('-='*20)\n",
    "print(f'Você digitou os valores {valores}')"
   ]
  },
  {
   "cell_type": "code",
   "execution_count": 120,
   "id": "2fb97503",
   "metadata": {},
   "outputs": [
    {
     "name": "stdout",
     "output_type": "stream",
     "text": [
      "Digite um valor: 5\n",
      "Valor adicionado com sucesso...\n",
      "Quer continuar? [S/N]s\n",
      "Digite um valor: 9\n",
      "Valor adicionado com sucesso...\n",
      "Quer continuar? [S/N]s\n",
      "Digite um valor: 3\n",
      "Valor adicionado com sucesso...\n",
      "Quer continuar? [S/N]9\n",
      "Quer continuar? [S/N]s\n",
      "Digite um valor: 9\n",
      "Valor duplicado! Não vou adicionar...\n",
      "Quer continuar? [S/N]s\n",
      "Digite um valor: 3\n",
      "Valor duplicado! Não vou adicionar...\n",
      "Quer continuar? [S/N]s\n",
      "Digite um valor: 7\n",
      "Valor adicionado com sucesso...\n",
      "Quer continuar? [S/N]n\n",
      "-=-=-=-=-=-=-=-=-=-=-=-=-=-=-=-=-=-=-=-=\n",
      "Você digitou os valores [3, 5, 7, 9]\n"
     ]
    }
   ],
   "source": [
    "valores = []\n",
    "while True:\n",
    "    n = int(input('Digite um valor: '))\n",
    "    if n not in valores:\n",
    "        valores.append(n)\n",
    "        print('Valor adicionado com sucesso...')\n",
    "    else:\n",
    "        print('Valor duplicado! Não vou adicionar...')\n",
    "    resp = ' '\n",
    "    while resp not in 'SN':\n",
    "        resp = str(input('Quer continuar? [S/N]')).upper().strip()[0]\n",
    "    if resp == 'N':\n",
    "        break\n",
    "valores.sort()\n",
    "print('-='*20)\n",
    "print(f'Você digitou os valores {valores}')"
   ]
  },
  {
   "cell_type": "markdown",
   "id": "2a23e7fa",
   "metadata": {},
   "source": [
    "**Exercícios:** Leia 5 valores e cadastre-os em uma lista, já na posição correta de inserção sem usar o sort()."
   ]
  },
  {
   "cell_type": "code",
   "execution_count": 134,
   "id": "f4d9de35",
   "metadata": {},
   "outputs": [
    {
     "name": "stdout",
     "output_type": "stream",
     "text": [
      "Digite um valor: 4\n",
      "Adicionado ao final da lista...\n",
      "Digite um valor: 2\n",
      "Adicionado na posição 0...\n",
      "Digite um valor: 6\n",
      "Adicionado ao final da lista...\n",
      "Digite um valor: 7\n",
      "Adicionado ao final da lista...\n",
      "Digite um valor: 3\n",
      "Adicionado na posição 1...\n",
      "-=-=-=-=-=-=-=-=-=-=-=-=-=-=-=-=-=-=-=-=-=-=-=-=-=-=-=-=-=-=\n",
      "Os valores digitados em oordem foram [2, 3, 4, 6, 7]\n"
     ]
    }
   ],
   "source": [
    "lista = []\n",
    "for c in range(0, 5):\n",
    "    n = int(input(f'Digite um valor: '))\n",
    "    if c == 0 or n > lista[-1]:\n",
    "        lista.append(n)\n",
    "        print('Adicionado ao final da lista...')\n",
    "    else:\n",
    "        pos = 0\n",
    "        while pos < len(lista):\n",
    "            if n <= lista[pos]:\n",
    "                lista.insert(pos, n)\n",
    "                print(f'Adicionado na posição {pos}...')\n",
    "                break\n",
    "            pos +=1\n",
    "print('-='*30)\n",
    "print(f'Os valores digitados em ordem foram {lista}')"
   ]
  },
  {
   "cell_type": "code",
   "execution_count": 139,
   "id": "b0f22f34",
   "metadata": {},
   "outputs": [
    {
     "name": "stdout",
     "output_type": "stream",
     "text": [
      "Digite um valor: 9\n",
      "Adicionado ao final da lista...\n",
      "Digite um valor: 1\n",
      "Adicionado na posição 0...\n",
      "Digite um valor: 8\n",
      "Adicionado na posição 1...\n",
      "Digite um valor: 2\n",
      "Adicionado na posição 1...\n",
      "Digite um valor: 5\n",
      "Adicionado na posição 2...\n",
      "-=-=-=-=-=-=-=-=-=-=-=-=-=-=-=-=-=-=-=-=-=-=-=-=-=-=-=-=-=-=\n",
      "Os valores digitados em ordem foram [1, 2, 5, 8, 9]\n"
     ]
    }
   ],
   "source": [
    "valores = []\n",
    "for i in range(0, 5):\n",
    "    n = int(input(f'Digite um valor: '))\n",
    "    if i == 0 or n > valores[-1]:\n",
    "        valores.append(n)\n",
    "        print('Adicionado ao final da lista...')\n",
    "    else:\n",
    "        for pos, valor in enumerate(valores):\n",
    "            if n <= valor:\n",
    "                valores.insert(pos, n)\n",
    "                print(f'Adicionado na posição {pos}...')\n",
    "                break\n",
    "print('-='*30)\n",
    "print(f'Os valores digitados em ordem foram {valores}')"
   ]
  },
  {
   "cell_type": "markdown",
   "id": "493414cd",
   "metadata": {},
   "source": [
    " **Exercícios:** Leia vários números e coloque-os em uma lista. Mostre:\n",
    " 1. Quantos números foram digitados.\n",
    " 2. Lista de valores, ordenada de forma decrescente. \n",
    " 3. Se o valor 5 foi digitado e está ou não na lista."
   ]
  },
  {
   "cell_type": "code",
   "execution_count": 4,
   "id": "0bc768c1",
   "metadata": {},
   "outputs": [
    {
     "name": "stdout",
     "output_type": "stream",
     "text": [
      "Digite um valor: 9\n",
      "Quer continuar? [S/N] s\n",
      "Digite um valor: 3\n",
      "Quer continuar? [S/N] s\n",
      "Digite um valor: 2\n",
      "Quer continuar? [S/N] n\n",
      "-=-=-=-=-=-=-=-=-=-=-=-=-=-=-=-=-=-=-=-=-=-=-=-=-=-=-=-=-=-=\n",
      "Você digitou 3 elementos\n",
      "Os valores em ordem descrescente são [9, 3, 2]\n",
      "O valor 5 não foi encontrado na lista!\n"
     ]
    }
   ],
   "source": [
    "lista = []\n",
    "cont = 0\n",
    "while True:\n",
    "    lista.append(int(input('Digite um valor: ')))\n",
    "    resp = ' '\n",
    "    while resp not in 'SN':\n",
    "        resp = str(input('Quer continuar? [S/N] ')).upper().strip()[0]\n",
    "    if resp == 'N':\n",
    "        break\n",
    "print('-='*30)\n",
    "print(f'Você digitou {len(lista)} elementos')\n",
    "lista.sort(reverse=True)\n",
    "print(f'Os valores em ordem descrescente são {lista}')\n",
    "if 5 in lista:\n",
    "    print('O valor 5 faz parte da lista!')\n",
    "else:\n",
    "    print('O valor 5 não foi encontrado na lista!')"
   ]
  },
  {
   "cell_type": "markdown",
   "id": "a657eaa6",
   "metadata": {},
   "source": [
    "**Exercícios:** Leia vários números e coloque-os em uma lista. Crie duas listas extras que vão conter apenas os valores pares e os valores ímpares."
   ]
  },
  {
   "cell_type": "code",
   "execution_count": 8,
   "id": "d906c0dc",
   "metadata": {},
   "outputs": [
    {
     "name": "stdout",
     "output_type": "stream",
     "text": [
      "Digite um valor: 5\n",
      "Quer continuar? [S/N] s\n",
      "Digite um valor: 9\n",
      "Quer continuar? [S/N] s\n",
      "Digite um valor: 2\n",
      "Quer continuar? [S/N] s\n",
      "Digite um valor: 6\n",
      "Quer continuar? [S/N] s\n",
      "Digite um valor: 13\n",
      "Quer continuar? [S/N] n\n",
      "-=-=-=-=-=-=-=-=-=-=-=-=-=-=-=-=-=-=-=-=-=-=-=-=-=-=-=-=-=-=\n",
      "A lista completa é [5, 9, 2, 6, 13]\n",
      "A lista de pares é [2, 6]\n",
      "A lista de ímpares é [5, 9, 13]\n"
     ]
    }
   ],
   "source": [
    "valores = []\n",
    "pares = []\n",
    "impares = []\n",
    "while True:\n",
    "    valores.append(int(input('Digite um valor: ')))\n",
    "    resp = ' '\n",
    "    while resp not in 'SN':\n",
    "        resp = str(input('Quer continuar? [S/N] ')).upper().strip()[0]\n",
    "    if resp == 'N':\n",
    "        break\n",
    "for v in range(0, len(valores)):\n",
    "    if valores[v] % 2 == 0:\n",
    "        pares.append(valores[v])\n",
    "    elif valores[v] % 2 == 1:\n",
    "        impares.append(valores[v])\n",
    "print('-='*30)\n",
    "print(f'A lista completa é {valores}')\n",
    "print(f'A lista de pares é {pares}')\n",
    "print(f'A lista de ímpares é {impares}')"
   ]
  },
  {
   "cell_type": "markdown",
   "id": "701e8c56",
   "metadata": {},
   "source": [
    "**Exercícios:** Crie um programa onde o usuário digite uma expressão qualquer que use parênteses. Seu aplicativo deverá analisar se a expressão passada está com os parênteses abertos e fechados na ordem correta."
   ]
  },
  {
   "cell_type": "code",
   "execution_count": 13,
   "id": "87d7ca97",
   "metadata": {},
   "outputs": [
    {
     "name": "stdout",
     "output_type": "stream",
     "text": [
      "Digite uma expressão: (a-a)*(A)/(b+c)\n",
      "Sua expressão está válida!\n"
     ]
    }
   ],
   "source": [
    "exp = str(input('Digite uma expressão: '))\n",
    "pilha = []\n",
    "for s in exp:\n",
    "    if s == '(':\n",
    "        pilha.append('(')\n",
    "    elif s == ')':\n",
    "        if len(pilha) > 0:\n",
    "            pilha.pop()\n",
    "        else:\n",
    "            pilha.append(')')\n",
    "            break\n",
    "if len(pilha) == 0:\n",
    "    print('Sua expressão está válida!')\n",
    "else:\n",
    "    print('Sua expressão está errada!')"
   ]
  },
  {
   "cell_type": "code",
   "execution_count": 9,
   "id": "cf3e0968",
   "metadata": {},
   "outputs": [
    {
     "name": "stdout",
     "output_type": "stream",
     "text": [
      "Digite uma expressão: (a-a)*(A)/(b+c)\n",
      "Sua expressão está válida!\n"
     ]
    }
   ],
   "source": [
    "exp = str(input('Digite uma expressão: '))\n",
    "aberto = fechado = 0\n",
    "for s in exp:\n",
    "    if s == '(':\n",
    "        aberto += 1\n",
    "    elif s == ')':\n",
    "        fechado += 1\n",
    "    if fechado > aberto:\n",
    "        break\n",
    "if aberto == fechado:\n",
    "    print('Sua expressão está válida!')\n",
    "else:\n",
    "    print('Sua expressão está errada!')"
   ]
  },
  {
   "cell_type": "markdown",
   "id": "c481c05e",
   "metadata": {},
   "source": [
    "### Listas Compostas"
   ]
  },
  {
   "cell_type": "code",
   "execution_count": 4,
   "id": "efb90a39",
   "metadata": {},
   "outputs": [
    {
     "name": "stdout",
     "output_type": "stream",
     "text": [
      "['Icaro', 38]\n",
      "[['Icaro', 38]]\n",
      "[['Maria', 22], ['Maria', 22]]\n"
     ]
    }
   ],
   "source": [
    "teste = []\n",
    "teste.append('Icaro')\n",
    "teste.append(38)\n",
    "galera = []\n",
    "galera.append(teste) #faz ligação entre as estruturas, então se mudar a primeira, muda a segunda\n",
    "print(teste)\n",
    "print(galera)\n",
    "teste[0] = 'Maria'\n",
    "teste[1] = 22\n",
    "galera.append(teste) #faz apenpend da mesma coisa pela 2ª vez\n",
    "print(galera)"
   ]
  },
  {
   "cell_type": "code",
   "execution_count": 5,
   "id": "4bd4cee3",
   "metadata": {},
   "outputs": [
    {
     "name": "stdout",
     "output_type": "stream",
     "text": [
      "['Icaro', 38]\n",
      "[['Icaro', 38]]\n",
      "[['Icaro', 38], ['Maria', 22]]\n"
     ]
    }
   ],
   "source": [
    "teste = []\n",
    "teste.append('Icaro')\n",
    "teste.append(38)\n",
    "galera = []\n",
    "galera.append(teste[:]) #faz uma cópia\n",
    "print(teste)\n",
    "print(galera)\n",
    "teste[0] = 'Maria'\n",
    "teste[1] = 22\n",
    "galera.append(teste) #faz uma cópia da estrutura modificada\n",
    "print(galera)"
   ]
  },
  {
   "cell_type": "code",
   "execution_count": 8,
   "id": "bd5a95c7",
   "metadata": {},
   "outputs": [
    {
     "name": "stdout",
     "output_type": "stream",
     "text": [
      "[['João', 19], ['Ana', 33], ['Joaquim', 13], ['Maria', 45]]\n",
      "['João', 19]\n",
      "João\n",
      "13\n"
     ]
    }
   ],
   "source": [
    "galera = [['João', 19], ['Ana', 33], ['Joaquim', 13], ['Maria', 45]]\n",
    "print(galera)\n",
    "print(galera[0])\n",
    "print(galera[0][0]) #lê de fora pra dentro\n",
    "print(galera[2][1])"
   ]
  },
  {
   "cell_type": "code",
   "execution_count": 19,
   "id": "c176f0e0",
   "metadata": {},
   "outputs": [
    {
     "name": "stdout",
     "output_type": "stream",
     "text": [
      "['João', 19]\n",
      "['Ana', 33]\n",
      "['Joaquim', 13]\n",
      "['Maria', 45]\n",
      "João Ana Joaquim Maria \n",
      "19 33 13 45 "
     ]
    }
   ],
   "source": [
    "galera = [['João', 19], ['Ana', 33], ['Joaquim', 13], ['Maria', 45]]\n",
    "for p in galera:\n",
    "    print(p)\n",
    "for p in galera:\n",
    "    print(f'{p[0]} ', end='')\n",
    "print('')\n",
    "for p in galera:\n",
    "    print(f'{p[1]} ', end='')"
   ]
  },
  {
   "cell_type": "code",
   "execution_count": 20,
   "id": "0c9880fa",
   "metadata": {},
   "outputs": [
    {
     "name": "stdout",
     "output_type": "stream",
     "text": [
      "João tem 19 anos de idade\n",
      "Ana tem 33 anos de idade\n",
      "Joaquim tem 13 anos de idade\n",
      "Maria tem 45 anos de idade\n"
     ]
    }
   ],
   "source": [
    "galera = [['João', 19], ['Ana', 33], ['Joaquim', 13], ['Maria', 45]]\n",
    "for p in galera:\n",
    "    print(f'{p[0]} tem {p[1]} anos de idade')"
   ]
  },
  {
   "cell_type": "code",
   "execution_count": 25,
   "id": "d3c4c882",
   "metadata": {},
   "outputs": [
    {
     "name": "stdout",
     "output_type": "stream",
     "text": [
      "Nome: Cleiton\n",
      "Idade: 23\n",
      "Nome: Eliane\n",
      "Idade: 11\n",
      "Nome: Caio\n",
      "Idade: 35\n",
      "Nome: Ana\n",
      "Idade: 45\n",
      "Nome: Rafael\n",
      "Idade: 18\n",
      "------------------------------\n",
      "[['Cleiton', 23], ['Eliane', 11], ['Caio', 35], ['Ana', 45], ['Rafael', 18]]\n",
      "------------------------------\n",
      "Cleiton é maior de idade\n",
      "Eliane é menor de idade\n",
      "Caio é maior de idade\n",
      "Ana é maior de idade\n",
      "Rafael é menor de idade\n",
      "-=-=-=-=-=-=-=-=-=-=-=-=-=-=-=-=-=-=-=-=-=-=-=-=-=-=-=-=-=-=\n",
      "Temos 3 maiores e 2 menores de idade\n"
     ]
    }
   ],
   "source": [
    "galera = list()\n",
    "dado = list()\n",
    "totmaior = totmenor = 0\n",
    "for c in range(0, 5):\n",
    "    dado.append(str(input('Nome: ')).strip())\n",
    "    dado.append(int(input('Idade: ')))\n",
    "    galera.append(dado[:]) #se não fizer cópia, vai apagar tudo\n",
    "    dado.clear() #exclui o dado\n",
    "print('-'*30)\n",
    "print(galera)\n",
    "print('-'*30)\n",
    "for p in galera:\n",
    "    if p[1] >= 21:\n",
    "        print(f'{p[0]} é maior de idade')\n",
    "        totmaior += 1\n",
    "    else:\n",
    "        print(f'{p[0]} é menor de idade')\n",
    "        totmenor += 1\n",
    "print('-='*30)\n",
    "print(f'Temos {totmaior} maiores e {totmenor} menores de idade')"
   ]
  },
  {
   "cell_type": "markdown",
   "id": "73baf008",
   "metadata": {},
   "source": [
    "**Exercício:** Leia nome e peso de várias pessoas, guardando tudo em uma lista. Mostre:\n",
    "1. Quantas pessoas foram cadastradas\n",
    "2. Uma lista com as pessoas mais pesadas\n",
    "3. Uma lista com as pessoas mais leves"
   ]
  },
  {
   "cell_type": "code",
   "execution_count": 38,
   "id": "809471ec",
   "metadata": {},
   "outputs": [
    {
     "name": "stdout",
     "output_type": "stream",
     "text": [
      "Nome: Ana\n",
      "Peso (Kg): 75.5\n",
      "Quer continuar? [S/N] s\n",
      "Nome: Pedro\n",
      "Peso (Kg): 89.2\n",
      "Quer continuar? [S/N] s\n",
      "Nome: Joana\n",
      "Peso (Kg): 89.2\n",
      "Quer continuar? [S/N] s\n",
      "Nome: Carol\n",
      "Peso (Kg): 42.3\n",
      "Quer continuar? [S/N] s\n",
      "Nome: Maria\n",
      "Peso (Kg): 50.4\n",
      "Quer continuar? [S/N] s\n",
      "Nome: Bianca\n",
      "Peso (Kg): 42.3\n",
      "Quer continuar? [S/N] s\n",
      "Nome: Artur\n",
      "Peso (Kg): 75.5\n",
      "Quer continuar? [S/N] n\n",
      "-=-=-=-=-=-=-=-=-=-=-=-=-=-=-=-=-=-=-=-=-=-=-=-=-=-=-=-=-=-=\n",
      "Ao todo, você cadastrou 7 pessoas\n",
      "O maior peso foi de 89.2Kg. Peso de Pedro Joana \n",
      "O menor peso foi de 42.3Kg. Peso de Carol Bianca "
     ]
    }
   ],
   "source": [
    "dado = list()\n",
    "pessoas = list()\n",
    "while True:\n",
    "    dado.append(str(input('Nome: ')).strip())\n",
    "    dado.append(float(input('Peso (Kg): ')))\n",
    "    if len(pessoas) == 0:\n",
    "        maior = menor = dado[1]\n",
    "    else:\n",
    "        if dado[1] > maior:\n",
    "            maior = dado[1]\n",
    "        if dado[1] < menor:\n",
    "            menor = dado[1]\n",
    "    pessoas.append(dado[:])\n",
    "    dado.clear()\n",
    "    resp = ' '\n",
    "    while resp not in 'SN':\n",
    "        resp = str(input('Quer continuar? [S/N] ')).upper().strip()[0]\n",
    "    if resp == 'N':\n",
    "        break\n",
    "print('-='*30)\n",
    "print(f'Ao todo, você cadastrou {len(pessoas)} pessoas')\n",
    "print(f'O maior peso foi de {maior:.1f}Kg. Peso de ', end='')\n",
    "for p in pessoas:\n",
    "    if p[1] == maior:\n",
    "        print(f'[{p[0]}] ', end='')\n",
    "print()\n",
    "print(f'O menor peso foi de {menor:.1f}Kg. Peso de ', end='')\n",
    "for p in pessoas:\n",
    "    if p[1] == menor:\n",
    "        print(f'[{p[0]}] ', end='')"
   ]
  },
  {
   "cell_type": "markdown",
   "id": "0eab8db2",
   "metadata": {},
   "source": [
    "**Exercício:** Leia sete valores numéricos e cadastre-os em uma lista única que mantenha separados os valores pares e ímpares. Mostre os valores pares e ímpares em ordem crescente."
   ]
  },
  {
   "cell_type": "code",
   "execution_count": 51,
   "id": "947c4f27",
   "metadata": {},
   "outputs": [
    {
     "name": "stdout",
     "output_type": "stream",
     "text": [
      "Digite o 7º valor: 9\n",
      "Digite o 7º valor: 1\n",
      "Digite o 7º valor: 5\n",
      "Digite o 7º valor: 6\n",
      "Digite o 7º valor: 8\n",
      "Digite o 7º valor: 3\n",
      "Digite o 7º valor: 2\n",
      "Pares: [2, 6, 8]\n",
      "Ímpares: [1, 3, 5, 9]\n"
     ]
    }
   ],
   "source": [
    "num = [[], []]\n",
    "for c in range(0, 7):\n",
    "    x = int(input(f'Digite o {n+1}º valor: '))\n",
    "    if x % 2 == 0:\n",
    "        num[0].append(x)\n",
    "    else:\n",
    "        num[1].append(x)\n",
    "num[0].sort()\n",
    "num[1].sort()\n",
    "print(f'Pares: {num[0]}')\n",
    "print(f'Ímpares: {num[1]}')"
   ]
  },
  {
   "cell_type": "markdown",
   "id": "a8298488",
   "metadata": {},
   "source": [
    "**Exercício:** Crie um programa que declare uma matriz de dimensão 3×3 e preencha com valores lidos pelo teclado. No final, mostre a matriz na tela, com a formatação correta."
   ]
  },
  {
   "cell_type": "code",
   "execution_count": 13,
   "id": "f9a84c5d",
   "metadata": {},
   "outputs": [
    {
     "name": "stdout",
     "output_type": "stream",
     "text": [
      "Digite um valor para [0, 0]: 1\n",
      "Digite um valor para [0, 1]: 2\n",
      "Digite um valor para [0, 2]: 3\n",
      "Digite um valor para [1, 0]: 4\n",
      "Digite um valor para [1, 1]: 5\n",
      "Digite um valor para [1, 2]: 6\n",
      "Digite um valor para [2, 0]: 7\n",
      "Digite um valor para [2, 1]: 8\n",
      "Digite um valor para [2, 2]: 9\n",
      "-=-=-=-=-=-=-=-=-=-=-=-=-=-=-=-=-=-=-=-=-=-=-=-=-=-=-=-=-=-=\n",
      "[  1  ] [  2  ] [  3  ] \n",
      "[  4  ] [  5  ] [  6  ] \n",
      "[  7  ] [  8  ] [  9  ] \n"
     ]
    }
   ],
   "source": [
    "matriz = [[], [], []]\n",
    "for l in range(0, 3):\n",
    "    for c in range(0, 3):\n",
    "        num = int(input(f'Digite um valor para [{l}, {c}]: '))\n",
    "        matriz[l].append(num)\n",
    "print('-='*30)\n",
    "for l in range(0, 3):\n",
    "    for c in range(0, 3):\n",
    "        print(f'[{matriz[l][c]:^5}] ', end='')\n",
    "    print()"
   ]
  },
  {
   "cell_type": "markdown",
   "id": "0564a3ee",
   "metadata": {},
   "source": [
    "**Exercício:** Aprimore o desafio anterior, mostrando no final:\n",
    "1. A soma de todos os valores pares digitados.\n",
    "2. A soma dos valores da terceira coluna.\n",
    "3. O maior valor da segunda linha."
   ]
  },
  {
   "cell_type": "code",
   "execution_count": 30,
   "id": "0cd1d6c4",
   "metadata": {},
   "outputs": [
    {
     "name": "stdout",
     "output_type": "stream",
     "text": [
      "Digite o valor para [0, 0]: 1\n",
      "Digite o valor para [0, 1]: 2\n",
      "Digite o valor para [0, 2]: 3\n",
      "Digite o valor para [1, 0]: 4\n",
      "Digite o valor para [1, 1]: 5\n",
      "Digite o valor para [1, 2]: 6\n",
      "Digite o valor para [2, 0]: 7\n",
      "Digite o valor para [2, 1]: 8\n",
      "Digite o valor para [2, 2]: 9\n",
      "-=-=-=-=-=-=-=-=-=-=-=-=-=-=-=-=-=-=-=-=-=-=-=-=-=-=-=-=-=-=\n",
      "[  1  ] [  2  ] [  3  ] \n",
      "[  4  ] [  5  ] [  6  ] \n",
      "[  7  ] [  8  ] [  9  ] \n",
      "-=-=-=-=-=-=-=-=-=-=-=-=-=-=-=-=-=-=-=-=-=-=-=-=-=-=-=-=-=-=\n",
      "A soma dos valores pares é 20\n",
      "A soma dos valores da terceira coluna é 18\n",
      "O maior valor da segunda linha é 6\n"
     ]
    }
   ],
   "source": [
    "matriz = [[], [], []]\n",
    "somapar = somacol = 0\n",
    "for l in range(0, 3):\n",
    "    for c in range(0, 3):\n",
    "        num = int(input(f'Digite o valor para [{l}, {c}]: '))\n",
    "        matriz[l].append(num)\n",
    "        if num % 2 == 0:\n",
    "            somapar += num\n",
    "        if c == 2:\n",
    "            somacol += num\n",
    "        if l == 1 and c == 0:\n",
    "            maior = matriz[l][c]\n",
    "        else:\n",
    "            if l == 1 and matriz[l][c] > maior:\n",
    "                maior = matriz[l][c]\n",
    "print('-='*30)\n",
    "for l in range(0, 3):\n",
    "    for c in range(0,3):\n",
    "        print(f'[{matriz[l][c]:^5}] ', end='')\n",
    "    print()\n",
    "print('-='*30)\n",
    "print(f'A soma dos valores pares é {somapar}')\n",
    "print(f'A soma dos valores da terceira coluna é {somacol}')\n",
    "print(f'O maior valor da segunda linha é {maior}')"
   ]
  },
  {
   "cell_type": "code",
   "execution_count": 27,
   "id": "35f9d8d6",
   "metadata": {},
   "outputs": [
    {
     "name": "stdout",
     "output_type": "stream",
     "text": [
      "Digite um valor para [0, 0]: 1\n",
      "Digite um valor para [0, 1]: 2\n",
      "Digite um valor para [0, 2]: 3\n",
      "Digite um valor para [1, 0]: 4\n",
      "Digite um valor para [1, 1]: 5\n",
      "Digite um valor para [1, 2]: 6\n",
      "Digite um valor para [2, 0]: 7\n",
      "Digite um valor para [2, 1]: 8\n",
      "Digite um valor para [2, 2]: 9\n",
      "-=-=-=-=-=-=-=-=-=-=-=-=-=-=-=-=-=-=-=-=-=-=-=-=-=-=-=-=-=-=\n",
      "[  1  ] [  2  ] [  3  ] \n",
      "[  4  ] [  5  ] [  6  ] \n",
      "[  7  ] [  8  ] [  9  ] \n",
      "-=-=-=-=-=-=-=-=-=-=-=-=-=-=-=-=-=-=-=-=-=-=-=-=-=-=-=-=-=-=\n",
      "A soma dos valores pares é 20\n",
      "A soma dos valores da terceira coluna é 18\n",
      "O maior valor da segunda linha é 6\n"
     ]
    }
   ],
   "source": [
    "matriz = [[], [], []]\n",
    "somapar = somacol = 0\n",
    "for l in range(0, 3):\n",
    "    for c in range(0, 3):\n",
    "        num = int(input(f'Digite um valor para [{l}, {c}]: '))\n",
    "        matriz[l].append(num)\n",
    "print('-='*30)\n",
    "for l in range(0, 3):\n",
    "    for c in range(0, 3):\n",
    "        print(f'[{matriz[l][c]:^5}] ', end='')\n",
    "        if matriz[l][c] % 2 == 0:\n",
    "            somapar += matriz[l][c]\n",
    "        if c == 2:\n",
    "            somacol += matriz[l][c]\n",
    "        if l == 1 and c == 0:\n",
    "            maior = matriz[l][c]\n",
    "        else:\n",
    "            if matriz[1][c] > maior:\n",
    "                maior = matriz[l][c]\n",
    "    print()\n",
    "print('-='*30)\n",
    "print(f'A soma dos valores pares é {somapar}')\n",
    "print(f'A soma dos valores da terceira coluna é {somacol}')\n",
    "print(f'O maior valor da segunda linha é {maior}')"
   ]
  },
  {
   "cell_type": "code",
   "execution_count": 31,
   "id": "d9349075",
   "metadata": {},
   "outputs": [
    {
     "name": "stdout",
     "output_type": "stream",
     "text": [
      "Digite um valor para [0, 0]: 1\n",
      "Digite um valor para [0, 1]: 2\n",
      "Digite um valor para [0, 2]: 3\n",
      "Digite um valor para [1, 0]: 4\n",
      "Digite um valor para [1, 1]: 5\n",
      "Digite um valor para [1, 2]: 6\n",
      "Digite um valor para [2, 0]: 7\n",
      "Digite um valor para [2, 1]: 8\n",
      "Digite um valor para [2, 2]: 9\n",
      "-=-=-=-=-=-=-=-=-=-=-=-=-=-=-=-=-=-=-=-=-=-=-=-=-=-=-=-=-=-=\n",
      "[  1  ] [  2  ] [  3  ] \n",
      "[  4  ] [  5  ] [  6  ] \n",
      "[  7  ] [  8  ] [  9  ] \n",
      "-=-=-=-=-=-=-=-=-=-=-=-=-=-=-=-=-=-=-=-=-=-=-=-=-=-=-=-=-=-=\n",
      "A soma dos valores pares é 20\n",
      "A soma dos valores da terceira coluna é 18\n",
      "O maior valor da segunda linha é 6\n"
     ]
    }
   ],
   "source": [
    "matriz = [[], [], []]\n",
    "somapar = somacol = 0\n",
    "for l in range(0, 3):\n",
    "    for c in range(0, 3):\n",
    "        num = int(input(f'Digite um valor para [{l}, {c}]: '))\n",
    "        matriz[l].append(num)\n",
    "print('-='*30)\n",
    "for l in range(0, 3):\n",
    "    for c in range(0, 3):\n",
    "        print(f'[{matriz[l][c]:^5}] ', end='')\n",
    "        if matriz[l][c] % 2 == 0:\n",
    "            somapar += matriz[l][c]\n",
    "    print()\n",
    "print('-='*30)\n",
    "print(f'A soma dos valores pares é {somapar}')\n",
    "for l in range(0, 3):\n",
    "    somacol += matriz[l][2]\n",
    "print(f'A soma dos valores da terceira coluna é {somacol}')\n",
    "for c in range(0, 3):\n",
    "    if c == 0:\n",
    "        maior = matriz[1][c]\n",
    "    else:\n",
    "        if matriz[1][c] > maior:\n",
    "            maior = matriz[1][c]\n",
    "print(f'O maior valor da segunda linha é {maior}')"
   ]
  },
  {
   "cell_type": "markdown",
   "id": "dfd0936a",
   "metadata": {},
   "source": [
    "**Exercício:** Mega-Sena : Leia quantos jogos serão gerados e sorteie 6 números entre 1 e 60 para cada jogo, cadastrando tudo em uma linha composta."
   ]
  },
  {
   "cell_type": "code",
   "execution_count": 34,
   "id": "b63684c2",
   "metadata": {},
   "outputs": [
    {
     "name": "stdout",
     "output_type": "stream",
     "text": [
      "------------------------------\n",
      "      JOGAR NA MEGA SENA      \n",
      "------------------------------\n",
      "Quantos jogos você quer que eu sorteie? 5\n",
      "-=-=-= SORTEANDO 5 JOGOS -=-=-=\n",
      "Jogo 1: [10, 18, 20, 22, 34, 43]\n",
      "Jogo 2: [3, 8, 14, 21, 32, 42]\n",
      "Jogo 3: [10, 14, 18, 37, 39, 50]\n",
      "Jogo 4: [28, 29, 34, 36, 44, 54]\n",
      "Jogo 5: [21, 24, 36, 50, 57, 58]\n",
      "-=-=-=-=-= < BOA SORTE > -=-=-=-=-=\n"
     ]
    }
   ],
   "source": [
    "from random import randint\n",
    "from time import sleep\n",
    "lista = []\n",
    "temp = []\n",
    "print('-'*30)\n",
    "print(f'{\"JOGAR NA MEGA SENA\":^30}')\n",
    "print('-'*30)\n",
    "jogos = int(input('Quantos jogos você quer que eu sorteie? '))\n",
    "print('-='*3, f'SORTEANDO {jogos} JOGOS', '-='*3)\n",
    "for c in range(0, jogos):\n",
    "    for num in range(0, 6):\n",
    "        while True:\n",
    "            temp.append(randint(1, 60))\n",
    "            if temp.count(temp[num]) > 1:\n",
    "                temp.pop()\n",
    "            else:\n",
    "                break\n",
    "    temp.sort()\n",
    "    lista.append(temp[:])\n",
    "    temp.clear()\n",
    "    sleep(1)\n",
    "    print(f'Jogo {c+1}: {lista[c]}')\n",
    "print('-='*5, '< BOA SORTE >', '-='*5)"
   ]
  },
  {
   "cell_type": "code",
   "execution_count": 31,
   "id": "035db5cb",
   "metadata": {},
   "outputs": [
    {
     "name": "stdout",
     "output_type": "stream",
     "text": [
      "------------------------------\n",
      "      JOGAR NA MEGA SENA      \n",
      "------------------------------\n",
      "Quantos jogos você quer que eu sorteie? 5\n",
      "-=-=-= SORTEANDO 5 JOGOS -=-=-=\n",
      "Jogo 1: [1, 3, 21, 40, 46, 54]\n",
      "Jogo 2: [4, 16, 43, 44, 54, 59]\n",
      "Jogo 3: [17, 20, 31, 33, 52, 60]\n",
      "Jogo 4: [5, 9, 18, 21, 25, 43]\n",
      "Jogo 5: [8, 13, 22, 33, 39, 55]\n",
      "-=-=-=-=-= < BOA SORTE > -=-=-=-=-=\n"
     ]
    }
   ],
   "source": [
    "from random import randint\n",
    "from time import sleep\n",
    "lista = list()\n",
    "jogos = list()\n",
    "print('-'*30)\n",
    "print(f'{\"JOGAR NA MEGA SENA\":^30}')\n",
    "print('-'*30)\n",
    "quant = int(input('Quantos jogos você quer que eu sorteie? '))\n",
    "tot = 0\n",
    "print('-='*3, f'SORTEANDO {quant} JOGOS', '-='*3)\n",
    "while tot < quant:\n",
    "    cont = 0\n",
    "    while True:\n",
    "        num = randint(1, 60)\n",
    "        if num not in lista:\n",
    "            lista.append(num)\n",
    "            cont += 1\n",
    "        if cont >= 6:\n",
    "            break\n",
    "    lista.sort()\n",
    "    jogos.append(lista[:])\n",
    "    lista.clear()\n",
    "    tot += 1\n",
    "for i, l in enumerate(jogos):\n",
    "    print(f'Jogo {i+1}: {l}')\n",
    "    sleep(1)\n",
    "print('-='*5, '< BOA SORTE >', '-='*5)"
   ]
  },
  {
   "cell_type": "code",
   "execution_count": 36,
   "id": "7a7761d0",
   "metadata": {},
   "outputs": [
    {
     "name": "stdout",
     "output_type": "stream",
     "text": [
      "------------------------------\n",
      "      JOGAR NA MEGA SENA      \n",
      "------------------------------\n",
      "Quantos jogos você quer que eu sorteie? 5\n",
      "-=-=-= SORTEANDO 5 JOGOS -=-=-=\n",
      "Jogo 1: [46, 54, 41, 50, 31, 12]\n",
      "Jogo 2: [15, 24, 53, 22, 47, 13]\n",
      "Jogo 3: [1, 42, 45, 10, 47, 50]\n",
      "Jogo 4: [58, 38, 55, 56, 16, 27]\n",
      "Jogo 5: [48, 11, 53, 44, 3, 39]\n",
      "-=-=-=-=-= < BOA SORTE > -=-=-=-=-=\n"
     ]
    }
   ],
   "source": [
    "from random import sample\n",
    "from time import sleep\n",
    "print('-'*30)\n",
    "print(f'{\"JOGAR NA MEGA SENA\":^30}')\n",
    "print('-'*30)\n",
    "quant = int(input('Quantos jogos você quer que eu sorteie? '))\n",
    "print('-='*3, f'SORTEANDO {quant} JOGOS', '-='*3)\n",
    "for c in range(quant):\n",
    "    jogo = sample(range(1, 60), 6)\n",
    "    print(f'Jogo {c+1}: {jogo}')\n",
    "    sleep(1)\n",
    "print('-='*5, '< BOA SORTE >', '-='*5)"
   ]
  },
  {
   "cell_type": "markdown",
   "id": "569d1c2b",
   "metadata": {},
   "source": [
    "**Exercício:** Leia nome e duas notas de vários alunos e guarde em uma lista composta. Mostre um boletim contendo a média de cada um e permita que o usuário possa mostrar as notas de cada aluno individualmente."
   ]
  },
  {
   "cell_type": "code",
   "execution_count": 55,
   "id": "1211cdb1",
   "metadata": {},
   "outputs": [
    {
     "name": "stdout",
     "output_type": "stream",
     "text": [
      "Nome: Ana\n",
      "Nota 1: 10\n",
      "Nota 2: 9.5\n",
      "Quer continuar? [S/N]s\n",
      "Nome: Gustavo\n",
      "Nota 1: 2.5\n",
      "Nota 2: 4\n",
      "Quer continuar? [S/N]s\n",
      "Nome: Pedro\n",
      "Nota 1: 5.5\n",
      "Nota 2: 8\n",
      "Quer continuar? [S/N]s\n",
      "Nome: João\n",
      "Nota 1: 8\n",
      "Nota 2: 3\n",
      "Quer continuar? [S/N]n\n",
      "-=-=-=-=-=-=-=-=-=-=-=-=-=-=-=-=-=-=-=-=-=-=-=-=-=-=-=-=-=-=\n",
      "Nº  NOME         MÉDIA\n",
      "--------------------------\n",
      "0   Ana            9.8\n",
      "1   Gustavo        3.2\n",
      "2   Pedro          6.8\n",
      "3   João           5.5\n",
      "-----------------------------------\n",
      "Mostrar notas de qual aluno? (999 interrompe)0\n",
      "As notas de Ana são [10.0, 9.5]\n",
      "-----------------------------------\n",
      "Mostrar notas de qual aluno? (999 interrompe)1\n",
      "As notas de Gustavo são [2.5, 4.0]\n",
      "-----------------------------------\n",
      "Mostrar notas de qual aluno? (999 interrompe)3\n",
      "As notas de João são [8.0, 3.0]\n",
      "-----------------------------------\n",
      "Mostrar notas de qual aluno? (999 interrompe)999\n",
      "FINALIZANDO...\n",
      "<<< VOLTE SEMPRE >>>\n"
     ]
    }
   ],
   "source": [
    "lista = []\n",
    "ficha = []\n",
    "temp = []\n",
    "while True:\n",
    "    ficha.append(str(input('Nome: ')).strip())\n",
    "    for n in range(0, 2):\n",
    "        temp.append(float(input(f'Nota {n+1}: ')))\n",
    "    ficha.append(temp[:])\n",
    "    media = (temp[0] + temp[1])/2\n",
    "    ficha.append(media)\n",
    "    lista.append(ficha[:])\n",
    "    temp.clear()\n",
    "    ficha.clear()\n",
    "    resp = ' '\n",
    "    while resp not in 'SN':\n",
    "        resp = str(input('Quer continuar? [S/N]')).upper().strip()[0]\n",
    "    if resp == 'N':\n",
    "        break\n",
    "print('-='*30)\n",
    "print(f'{\"Nº\":<4}{\"NOME\":<10}{\"MÉDIA\":>8}')\n",
    "print('-'*26)\n",
    "for c in range(0, len(lista)):\n",
    "    print(f'{c:<4}{lista[c][0]:<10}{lista[c][2]:>8.1f}')\n",
    "while True:\n",
    "    print('-'*35)\n",
    "    opc = int(input('Mostrar notas de qual aluno? (999 interrompe)'))\n",
    "    if opc == 999: #flag\n",
    "        print('FINALIZANDO...')\n",
    "        break\n",
    "    if opc <= len(lista) - 1:\n",
    "        print(f'As notas de {lista[opc][0]} são {lista[opc][1]}')\n",
    "print('<<< VOLTE SEMPRE >>>')"
   ]
  },
  {
   "cell_type": "code",
   "execution_count": 56,
   "id": "b5a514e0",
   "metadata": {},
   "outputs": [
    {
     "name": "stdout",
     "output_type": "stream",
     "text": [
      "Nome: Ana\n",
      "Nota 1: 10\n",
      "Nota 2: 9.5\n",
      "Quer continuar? [S/N]s\n",
      "Nome: Gustavo\n",
      "Nota 1: 2.5\n",
      "Nota 2: 4\n",
      "Quer continuar? [S/N]s\n",
      "Nome: Pedro\n",
      "Nota 1: 5.5\n",
      "Nota 2: 8\n",
      "Quer continuar? [S/N]s\n",
      "Nome: João\n",
      "Nota 1: 8\n",
      "Nota 2: 3\n",
      "Quer continuar? [S/N]n\n",
      "-=-=-=-=-=-=-=-=-=-=-=-=-=-=-=-=-=-=-=-=-=-=-=-=-=-=-=-=-=-=\n",
      "Nº  NOME         MÉDIA\n",
      "--------------------------\n",
      "0   Ana            9.8\n",
      "1   Gustavo        3.2\n",
      "2   Pedro          6.8\n",
      "3   João           5.5\n",
      "-----------------------------------\n",
      "Mostrar notas de qual aluno? (999 interrompe)0\n",
      "As notas de Ana são [10.0, 9.5]\n",
      "-----------------------------------\n",
      "Mostrar notas de qual aluno? (999 interrompe)1\n",
      "As notas de Gustavo são [2.5, 4.0]\n",
      "-----------------------------------\n",
      "Mostrar notas de qual aluno? (999 interrompe)3\n",
      "As notas de João são [8.0, 3.0]\n",
      "-----------------------------------\n",
      "Mostrar notas de qual aluno? (999 interrompe)999\n",
      "FINALIZANDO...\n",
      "<<< VOLTE SEMPRE >>>\n"
     ]
    }
   ],
   "source": [
    "ficha = list()\n",
    "while True:\n",
    "    nome = str(input('Nome: '))\n",
    "    nota1 = float(input('Nota 1: '))\n",
    "    nota2 = float(input('Nota 2: '))\n",
    "    media = (nota1 + nota2)/2\n",
    "    ficha.append([nome, [nota1, nota2], media])\n",
    "    resp = ' '\n",
    "    while resp not in 'SN':\n",
    "        resp = str(input('Quer continuar? [S/N]')).upper().strip()[0]\n",
    "    if resp == 'N':\n",
    "        break\n",
    "print('-='*30)\n",
    "print(f'{\"Nº\":<4}{\"NOME\":<10}{\"MÉDIA\":>8}')\n",
    "print('-'*26)\n",
    "for i, a in enumerate(ficha):\n",
    "    print(f'{i:<4}{a[0]:<10}{a[2]:>8.1f}')\n",
    "while True:\n",
    "    print('-'*35)\n",
    "    opc = int(input('Mostrar notas de qual aluno? (999 interrompe)'))\n",
    "    if opc == 999: #flag\n",
    "        print('FINALIZANDO...')\n",
    "        break\n",
    "    if opc <= len(ficha) - 1:\n",
    "        print(f'As notas de {ficha[opc][0]} são {ficha[opc][1]}')\n",
    "print('<<< VOLTE SEMPRE >>>')"
   ]
  },
  {
   "cell_type": "markdown",
   "id": "4c5f0335",
   "metadata": {},
   "source": [
    "### Comparando strings"
   ]
  },
  {
   "cell_type": "code",
   "execution_count": 77,
   "id": "a87cd029",
   "metadata": {},
   "outputs": [
    {
     "name": "stdout",
     "output_type": "stream",
     "text": [
      "False\n",
      "True\n",
      "True\n",
      "True\n"
     ]
    }
   ],
   "source": [
    "print('a' == 'b')\n",
    "print('b' != 'a')\n",
    "print('a' > 'X')\n",
    "print('a' > '1')\n",
    "\n",
    "# o Python se baseia na tabela ASCII"
   ]
  },
  {
   "cell_type": "code",
   "execution_count": 70,
   "id": "bdfc674e",
   "metadata": {},
   "outputs": [
    {
     "name": "stdout",
     "output_type": "stream",
     "text": [
      "0-\u0000\n",
      "1-\u0001\n",
      "2-\u0002\n",
      "3-\u0003\n",
      "4-\u0004\n",
      "5-\u0005\n",
      "6-\u0006\n",
      "7-\u0007\n",
      "8-\b\n",
      "9-\t\n",
      "10-\n",
      "\n",
      "11-\u000b",
      "\n",
      "12-\f",
      "\n",
      "13-\r\n",
      "14-\u000e\n",
      "15-\u000f\n",
      "16-\u0010\n",
      "17-\u0011\n",
      "18-\u0012\n",
      "19-\u0013\n",
      "20-\u0014\n",
      "21-\u0015\n",
      "22-\u0016\n",
      "23-\u0017\n",
      "24-\u0018\n",
      "25-\u0019\n",
      "26-\u001a\n",
      "27-\u001b\n",
      "28-\u001c",
      "\n",
      "29-\u001d",
      "\n",
      "30-\u001e",
      "\n",
      "31-\u001f\n",
      "32- \n",
      "33-!\n",
      "34-\"\n",
      "35-#\n",
      "36-$\n",
      "37-%\n",
      "38-&\n",
      "39-'\n",
      "40-(\n",
      "41-)\n",
      "42-*\n",
      "43-+\n",
      "44-,\n",
      "45--\n",
      "46-.\n",
      "47-/\n",
      "48-0\n",
      "49-1\n",
      "50-2\n",
      "51-3\n",
      "52-4\n",
      "53-5\n",
      "54-6\n",
      "55-7\n",
      "56-8\n",
      "57-9\n",
      "58-:\n",
      "59-;\n",
      "60-<\n",
      "61-=\n",
      "62->\n",
      "63-?\n",
      "64-@\n",
      "65-A\n",
      "66-B\n",
      "67-C\n",
      "68-D\n",
      "69-E\n",
      "70-F\n",
      "71-G\n",
      "72-H\n",
      "73-I\n",
      "74-J\n",
      "75-K\n",
      "76-L\n",
      "77-M\n",
      "78-N\n",
      "79-O\n",
      "80-P\n",
      "81-Q\n",
      "82-R\n",
      "83-S\n",
      "84-T\n",
      "85-U\n",
      "86-V\n",
      "87-W\n",
      "88-X\n",
      "89-Y\n",
      "90-Z\n",
      "91-[\n",
      "92-\\\n",
      "93-]\n",
      "94-^\n",
      "95-_\n",
      "96-`\n",
      "97-a\n",
      "98-b\n",
      "99-c\n",
      "100-d\n",
      "101-e\n",
      "102-f\n",
      "103-g\n",
      "104-h\n",
      "105-i\n",
      "106-j\n",
      "107-k\n",
      "108-l\n",
      "109-m\n",
      "110-n\n",
      "111-o\n",
      "112-p\n",
      "113-q\n",
      "114-r\n",
      "115-s\n",
      "116-t\n",
      "117-u\n",
      "118-v\n",
      "119-w\n",
      "120-x\n",
      "121-y\n"
     ]
    }
   ],
   "source": [
    "for i in range(122):\n",
    "    print(str(i) + '-' + chr(i)) #pode usar \"+\" para concatenar strings"
   ]
  },
  {
   "cell_type": "markdown",
   "id": "81c66b0b",
   "metadata": {},
   "source": [
    "### Percorrendo strings"
   ]
  },
  {
   "cell_type": "code",
   "execution_count": 69,
   "id": "e89b4b7c",
   "metadata": {},
   "outputs": [
    {
     "name": "stdout",
     "output_type": "stream",
     "text": [
      "p\n",
      "y\n",
      "t\n",
      "h\n",
      "o\n",
      "n\n"
     ]
    }
   ],
   "source": [
    "nome = 'python'\n",
    "for i in nome:\n",
    "    print(i)"
   ]
  },
  {
   "cell_type": "code",
   "execution_count": 8,
   "id": "ab9145a6",
   "metadata": {},
   "outputs": [
    {
     "name": "stdout",
     "output_type": "stream",
     "text": [
      "p\n",
      "y\n",
      "t\n",
      "h\n",
      "o\n",
      "n\n"
     ]
    }
   ],
   "source": [
    "i = 0 #contador\n",
    "while i < len(nome): #i < 6\n",
    "    print(nome[i])\n",
    "    i += 1"
   ]
  },
  {
   "cell_type": "code",
   "execution_count": 76,
   "id": "23c53036",
   "metadata": {},
   "outputs": [
    {
     "name": "stdout",
     "output_type": "stream",
     "text": [
      "0 p\n",
      "1 y\n",
      "2 t\n",
      "3 h\n",
      "4 o\n",
      "5 n\n"
     ]
    }
   ],
   "source": [
    "for k, v in enumerate(nome):\n",
    "    print(k, v)"
   ]
  },
  {
   "cell_type": "markdown",
   "id": "4fb6f910",
   "metadata": {},
   "source": [
    "**Exercício:**\n",
    "\n",
    "Crie uma string contendo o alfabeto com letras maiúsculas separado por espaços.\n",
    "\n",
    "Percorra e imprima essa string com enumerate.\n",
    "\n",
    "Substitua os espaços por traço. “-” e imprima para o usuário."
   ]
  },
  {
   "cell_type": "code",
   "execution_count": 79,
   "id": "cbb6f69d",
   "metadata": {},
   "outputs": [
    {
     "name": "stdout",
     "output_type": "stream",
     "text": [
      "0 A\n",
      "1  \n",
      "2 B\n",
      "3  \n",
      "4 C\n",
      "5  \n",
      "6 D\n",
      "7  \n",
      "8 E\n",
      "9  \n",
      "10 F\n",
      "11  \n",
      "12 G\n",
      "13  \n",
      "14 H\n",
      "15  \n",
      "16 I\n",
      "17  \n",
      "18 J\n",
      "19  \n",
      "20 K\n",
      "21  \n",
      "22 L\n",
      "23  \n",
      "24 M\n",
      "25  \n",
      "26 N\n",
      "27  \n",
      "28 O\n",
      "29  \n",
      "30 P\n",
      "31  \n",
      "32 Q\n",
      "33  \n",
      "34 R\n",
      "35  \n",
      "36 S\n",
      "37  \n",
      "38 T\n",
      "39  \n",
      "40 U\n",
      "41  \n",
      "42 V\n",
      "43  \n",
      "44 W\n",
      "45  \n",
      "46 X\n",
      "47  \n",
      "48 Y\n",
      "49  \n",
      "50 Z\n"
     ]
    }
   ],
   "source": [
    "alfabeto = 'A B C D E F G H I J K L M N O P Q R S T U V W X Y Z'\n",
    "for k, v in enumerate(alfabeto):\n",
    "    print(k, v)"
   ]
  },
  {
   "cell_type": "code",
   "execution_count": 80,
   "id": "952d4834",
   "metadata": {},
   "outputs": [
    {
     "name": "stdout",
     "output_type": "stream",
     "text": [
      "A-B-C-D-E-F-G-H-I-J-K-L-M-N-O-P-Q-R-S-T-U-V-W-X-Y-Z\n"
     ]
    }
   ],
   "source": [
    "print(alfabeto.replace(' ', '-'))"
   ]
  },
  {
   "cell_type": "markdown",
   "id": "40f55632",
   "metadata": {},
   "source": [
    "### Estrutura de Dicionários"
   ]
  },
  {
   "cell_type": "code",
   "execution_count": 1,
   "id": "cad31b49",
   "metadata": {},
   "outputs": [
    {
     "name": "stdout",
     "output_type": "stream",
     "text": [
      "{'nome': 'Icaro', 'sexo': 'M', 'idade': 38}\n"
     ]
    }
   ],
   "source": [
    "pessoas = {'nome':'Icaro', 'sexo':'M', 'idade':38}\n",
    "print(pessoas)"
   ]
  },
  {
   "cell_type": "code",
   "execution_count": 2,
   "id": "00bc5926",
   "metadata": {},
   "outputs": [
    {
     "ename": "KeyError",
     "evalue": "0",
     "output_type": "error",
     "traceback": [
      "\u001b[1;31m---------------------------------------------------------------------------\u001b[0m",
      "\u001b[1;31mKeyError\u001b[0m                                  Traceback (most recent call last)",
      "\u001b[1;32m~\\AppData\\Local\\Temp\\ipykernel_14840\\961032218.py\u001b[0m in \u001b[0;36m<module>\u001b[1;34m\u001b[0m\n\u001b[0;32m      1\u001b[0m \u001b[0mpessoas\u001b[0m \u001b[1;33m=\u001b[0m \u001b[1;33m{\u001b[0m\u001b[1;34m'nome'\u001b[0m\u001b[1;33m:\u001b[0m\u001b[1;34m'Icaro'\u001b[0m\u001b[1;33m,\u001b[0m \u001b[1;34m'sexo'\u001b[0m\u001b[1;33m:\u001b[0m\u001b[1;34m'M'\u001b[0m\u001b[1;33m,\u001b[0m \u001b[1;34m'idade'\u001b[0m\u001b[1;33m:\u001b[0m\u001b[1;36m38\u001b[0m\u001b[1;33m}\u001b[0m\u001b[1;33m\u001b[0m\u001b[1;33m\u001b[0m\u001b[0m\n\u001b[1;32m----> 2\u001b[1;33m \u001b[0mprint\u001b[0m\u001b[1;33m(\u001b[0m\u001b[0mpessoas\u001b[0m\u001b[1;33m[\u001b[0m\u001b[1;36m0\u001b[0m\u001b[1;33m]\u001b[0m\u001b[1;33m)\u001b[0m \u001b[1;31m#erro\u001b[0m\u001b[1;33m\u001b[0m\u001b[1;33m\u001b[0m\u001b[0m\n\u001b[0m",
      "\u001b[1;31mKeyError\u001b[0m: 0"
     ]
    }
   ],
   "source": [
    "pessoas = {'nome':'Icaro', 'sexo':'M', 'idade':38}\n",
    "print(pessoas[0]) #erro, pois o elemento 0 é o 'nome'"
   ]
  },
  {
   "cell_type": "code",
   "execution_count": 11,
   "id": "3b866a37",
   "metadata": {},
   "outputs": [
    {
     "name": "stdout",
     "output_type": "stream",
     "text": [
      "Icaro\n",
      "O Icaro tem 38 anos\n",
      "dict_keys(['nome', 'sexo', 'idade'])\n",
      "dict_values(['Icaro', 'M', 38])\n",
      "dict_items([('nome', 'Icaro'), ('sexo', 'M'), ('idade', 38)])\n"
     ]
    }
   ],
   "source": [
    "pessoas = {'nome':'Icaro', 'sexo':'M', 'idade':38}\n",
    "print(pessoas['nome'])\n",
    "print(f'O {pessoas[\"nome\"]} tem {pessoas[\"idade\"]} anos')\n",
    "print(pessoas.keys()) #chaves\n",
    "print(pessoas.values()) #valores\n",
    "print(pessoas.items())"
   ]
  },
  {
   "cell_type": "code",
   "execution_count": 22,
   "id": "9b6b5553",
   "metadata": {},
   "outputs": [
    {
     "name": "stdout",
     "output_type": "stream",
     "text": [
      "nome sexo idade \n",
      "Icaro M 38 \n",
      "nome: Icaro\n",
      "sexo: M\n",
      "idade: 38\n"
     ]
    }
   ],
   "source": [
    "pessoas = {'nome':'Icaro', 'sexo':'M', 'idade':38}\n",
    "for k in pessoas.keys():\n",
    "    print(k, end=' ')\n",
    "print()\n",
    "for v in pessoas.values():\n",
    "    print(v, end=' ')\n",
    "print()\n",
    "for k, v in pessoas.items(): #não tem enumerate em dicionários\n",
    "    print(f'{k}: {v}')"
   ]
  },
  {
   "cell_type": "code",
   "execution_count": 27,
   "id": "99b7c94f",
   "metadata": {},
   "outputs": [
    {
     "name": "stdout",
     "output_type": "stream",
     "text": [
      "nome: Gustavo\n",
      "sexo: M\n",
      "idade: 40\n",
      "nome: Gustavo\n",
      "sexo: M\n",
      "idade: 40\n",
      "peso: 98.5\n"
     ]
    }
   ],
   "source": [
    "pessoas = {'nome':'Icaro', 'sexo':'M', 'idade':38}\n",
    "pessoas['nome'] = 'Gustavo'\n",
    "pessoas['idade'] = 40\n",
    "for k, v in pessoas.items():\n",
    "    print(f'{k}: {v}')\n",
    "pessoas['peso'] = 98.5 #não precisa de append\n",
    "for k, v in pessoas.items():\n",
    "    print(f'{k}: {v}')"
   ]
  },
  {
   "cell_type": "code",
   "execution_count": 15,
   "id": "6a8cec0d",
   "metadata": {},
   "outputs": [
    {
     "name": "stdout",
     "output_type": "stream",
     "text": [
      "Icaro\n",
      "valor não encontrado.\n"
     ]
    }
   ],
   "source": [
    "pessoas = {'nome':'Icaro', 'sexo':'M', 'idade':38}\n",
    "print(pessoas.get('nome', 'valor não encontrado.'))\n",
    "print(pessoas.get('naturalidade', 'valor não encontrado.')) #imprime mensagem ao invés de erro"
   ]
  },
  {
   "cell_type": "markdown",
   "id": "bdff50b6",
   "metadata": {},
   "source": [
    "### Funções com Dicionários"
   ]
  },
  {
   "cell_type": "code",
   "execution_count": 28,
   "id": "4ada7617",
   "metadata": {},
   "outputs": [
    {
     "name": "stdout",
     "output_type": "stream",
     "text": [
      "nome: Icaro\n",
      "idade: 38\n"
     ]
    }
   ],
   "source": [
    "pessoas = {'nome':'Icaro', 'sexo':'M', 'idade':38}\n",
    "del pessoas['sexo']\n",
    "for k, v in pessoas.items():\n",
    "    print(f'{k}: {v}')"
   ]
  },
  {
   "cell_type": "code",
   "execution_count": 31,
   "id": "d6fdfc8f",
   "metadata": {},
   "outputs": [
    {
     "name": "stdout",
     "output_type": "stream",
     "text": [
      "[{'uf': 'Rio de Janeiro', 'sigla': 'RJ'}, {'uf': 'São Paulo', 'sigla': 'SP'}]\n",
      "Rio de Janeiro\n",
      "SP\n"
     ]
    }
   ],
   "source": [
    "brasil = []\n",
    "estado1 = {'uf':'Rio de Janeiro', 'sigla':'RJ'}\n",
    "estado2 = {'uf':'São Paulo', 'sigla':'SP'}\n",
    "brasil.append(estado1)\n",
    "brasil.append(estado2)\n",
    "print(brasil)\n",
    "print(brasil[0]['uf'])\n",
    "print(brasil[1]['sigla'])"
   ]
  },
  {
   "cell_type": "code",
   "execution_count": 39,
   "id": "20b1cf44",
   "metadata": {},
   "outputs": [
    {
     "name": "stdout",
     "output_type": "stream",
     "text": [
      "Unidade Federativa: rio de janeiro\n",
      "Sigla do Estado: rj\n",
      "Unidade Federativa: são paulo\n",
      "Sigla do Estado: sp\n",
      "Unidade Federativa: distrito federal\n",
      "Sigla do Estado: df\n",
      "Rio De Janeiro RJ \n",
      "São Paulo SP \n",
      "Distrito Federal DF \n"
     ]
    }
   ],
   "source": [
    "estado = dict()\n",
    "brasil = list()\n",
    "for c in range(0, 3):\n",
    "    estado['uf'] = str(input('Unidade Federativa: ')).title().strip()\n",
    "    estado['sigla'] = str(input('Sigla do Estado: ')).upper().strip()\n",
    "    brasil.append(estado.copy()) #não é estado[:]\n",
    "for e in brasil:\n",
    "    for v in e.values():\n",
    "        print(v, end=' ')\n",
    "    print()"
   ]
  },
  {
   "cell_type": "markdown",
   "id": "0a45085d",
   "metadata": {},
   "source": [
    "**Exercício:** Leia nome e média de um aluno, guardando também a situação (média >= 7, aprovado) em um dicionário. Mostre o conteúdo da estrutura."
   ]
  },
  {
   "cell_type": "code",
   "execution_count": 16,
   "id": "9428594e",
   "metadata": {},
   "outputs": [
    {
     "name": "stdout",
     "output_type": "stream",
     "text": [
      "Nome: Icaro\n",
      "Média de Icaro: 5.5\n",
      "-=-=-=-=-=-=-=-=-=-=-=-=-=-=-=-=-=-=-=-=-=-=-=-=-=-=-=-=-=-=\n",
      "  - nome é igual a Icaro\n",
      "  - media é igual a 5.5\n",
      "  - situacao é igual a Recuperação\n"
     ]
    }
   ],
   "source": [
    "ficha = dict()\n",
    "ficha['nome'] = str(input('Nome: ')).strip()\n",
    "ficha['media'] = float(input(f'Média de {ficha[\"nome\"]}: '))\n",
    "if ficha['media'] >= 7:\n",
    "    ficha['situacao'] = 'Aprovado'\n",
    "elif ficha['media'] >= 5:\n",
    "    ficha['situacao'] = 'Recuperação'\n",
    "else:\n",
    "    ficha['situacao'] = 'Reprovado'\n",
    "print('-='*30)\n",
    "for k, v in ficha.items():\n",
    "    print(f'  - {k} é igual a {v}')"
   ]
  },
  {
   "cell_type": "markdown",
   "id": "bb2cd218",
   "metadata": {},
   "source": [
    "**Exercício:** Crie um programa onde 4 jogadores joguem um dado. Guarde os resultados em um dicionário. Coloque o dicionário em ordem, sabendo que o vencedor tirou o maior."
   ]
  },
  {
   "cell_type": "code",
   "execution_count": 37,
   "id": "8d168d42",
   "metadata": {},
   "outputs": [
    {
     "name": "stdout",
     "output_type": "stream",
     "text": [
      "Valores sorteados:\n",
      "O jogador1 tirou 1 no dado.\n",
      "O jogador2 tirou 5 no dado.\n",
      "O jogador3 tirou 1 no dado.\n",
      "O jogador4 tirou 5 no dado.\n",
      "-=-=-=-=-=-=-=-=-=-=-=-=-=-=-=-=-=-=-=-=-=-=-=-=-=-=-=-=-=-=\n",
      " == RANKING DOS JOGADORES ==\n",
      "  1º lugar: jogador2 com 5.\n",
      "  2º lugar: jogador4 com 5.\n",
      "  3º lugar: jogador1 com 1.\n",
      "  4º lugar: jogador3 com 1.\n"
     ]
    }
   ],
   "source": [
    "from random import randint\n",
    "from time import sleep\n",
    "from operator import itemgetter #função do módulo itemgetter para ordenar dicionários\n",
    "jogo = dict()\n",
    "ranking = list()\n",
    "for j in range(0, 4):\n",
    "    jogo[f'jogador{j+1}'] = randint(1, 6)\n",
    "print('Valores sorteados:')\n",
    "for k, v in jogo.items():\n",
    "    print(f'O {k} tirou {v} no dado.')\n",
    "    sleep(1)\n",
    "ranking = sorted(jogo.items(), key = itemgetter(1), reverse = True) #0 para chave e 1 para valor\n",
    "print('-='*30)\n",
    "print(f' == RANKING DOS JOGADORES ==')\n",
    "for i, v in enumerate(ranking):\n",
    "    print(f'  {i+1}º lugar: {v[0]} com {v[1]}.')\n",
    "    sleep(1)"
   ]
  },
  {
   "cell_type": "code",
   "execution_count": 38,
   "id": "fe7cc0fa",
   "metadata": {},
   "outputs": [
    {
     "name": "stdout",
     "output_type": "stream",
     "text": [
      "Valores sorteados:\n",
      "O jogador1 tirou 3 no dado.\n",
      "O jogador2 tirou 5 no dado.\n",
      "O jogador3 tirou 6 no dado.\n",
      "O jogador4 tirou 2 no dado.\n",
      "-=-=-=-=-=-=-=-=-=-=-=-=-=-=-=-=-=-=-=-=-=-=-=-=-=-=-=-=-=-=\n",
      " == RANKING DOS JOGADORES ==\n",
      "  1º lugar: jogador3 com 6.\n",
      "  2º lugar: jogador2 com 5.\n",
      "  3º lugar: jogador1 com 3.\n",
      "  4º lugar: jogador4 com 2.\n"
     ]
    }
   ],
   "source": [
    "from random import randint\n",
    "from time import sleep\n",
    "jogo = dict()\n",
    "ranking = list()\n",
    "for j in range(0, 4):\n",
    "    jogo[f'jogador{j+1}'] = randint(1, 6)\n",
    "print('Valores sorteados:')\n",
    "for k, v in jogo.items():\n",
    "    print(f'O {k} tirou {v} no dado.')\n",
    "    sleep(1)\n",
    "ranking = sorted(jogo.items(), key = lambda item: item[1], reverse = True) #Python 3.7: não há necessidade do itemgetter\n",
    "print('-='*30)\n",
    "print(f' == RANKING DOS JOGADORES ==')\n",
    "for i, v in enumerate(ranking):\n",
    "    print(f'  {i+1}º lugar: {v[0]} com {v[1]}.')\n",
    "    sleep(1)"
   ]
  },
  {
   "cell_type": "markdown",
   "id": "5da7f17d",
   "metadata": {},
   "source": [
    "**Exercício:** Leia nome, ano de nascimento e carteira de trabalho e cadastre-o (com idade) em um dicionário. Se por acaso a CTPS for diferente de ZERO, o dicionário receberá também o ano de contratação e o salário. Calcule e acrescente, além da idade, com quantos anos a pessoa vai se aposentar."
   ]
  },
  {
   "cell_type": "code",
   "execution_count": 44,
   "id": "d1349d44",
   "metadata": {},
   "outputs": [
    {
     "name": "stdout",
     "output_type": "stream",
     "text": [
      "Nome: Creuza\n",
      "Ano de Nascimento:2000\n",
      "Carteira de Trabalho (0 não tem): 2015\n",
      "Ano de contratação: 2015\n",
      "Salário: R$3000\n",
      "-=-=-=-=-=-=-=-=-=-=-=-=-=-=-=-=-=-=-=-=-=-=-=-=-=-=-=-=-=-=\n",
      "  - nome tem o valor Creuza\n",
      "  - idade tem o valor 23\n",
      "  - ctps tem o valor 2015\n",
      "  - contratação tem o valor 2015\n",
      "  - salário tem o valor 3000.0\n",
      "  - aposentadoria tem o valor 50\n"
     ]
    }
   ],
   "source": [
    "from datetime import datetime\n",
    "ficha = dict()\n",
    "ficha['nome'] = str(input('Nome: ')).strip()\n",
    "nasc = int(input('Ano de Nascimento:'))\n",
    "ficha['idade'] = datetime.now().year - nasc\n",
    "ficha['ctps'] = int(input('Carteira de Trabalho (0 não tem): '))\n",
    "if ficha['ctps'] != 0:\n",
    "    ficha['contratação'] = int(input('Ano de contratação: '))\n",
    "    ficha['salário'] = float(input('Salário: R$'))\n",
    "    ficha['aposentadoria'] = (ficha['contratação'] + 35) - nasc\n",
    "print('-='*30)\n",
    "for k, v in ficha.items():\n",
    "    print(f'  - {k} tem o valor {v}')"
   ]
  },
  {
   "cell_type": "markdown",
   "id": "f211f414",
   "metadata": {},
   "source": [
    "**Exercício:** Leia o nome do jogador e quantas partidas ele jogou. Depois leia a quantidade de gols feitos em cada partida. No final, tudo isso será guardado em um dicionário, incluindo o total de gols feitos durante o campeonato."
   ]
  },
  {
   "cell_type": "code",
   "execution_count": 8,
   "id": "46014a2f",
   "metadata": {},
   "outputs": [
    {
     "name": "stdout",
     "output_type": "stream",
     "text": [
      "Nome do jogador: Hélio\n",
      "Quantas partidas Hélio jogou? 3\n",
      "Quantos gols na partida 1? 4\n",
      "Quantos gols na partida 2? 0\n",
      "Quantos gols na partida 3? 1\n",
      "-=-=-=-=-=-=-=-=-=-=-=-=-=-=-=-=-=-=-=-=-=-=-=-=-=-=-=-=-=-=\n",
      "{'nome': 'Hélio', 'gols': [4, 0, 1], 'total': 5}\n",
      "-=-=-=-=-=-=-=-=-=-=-=-=-=-=-=-=-=-=-=-=-=-=-=-=-=-=-=-=-=-=\n",
      "O campo nome tem o valor Hélio\n",
      "O campo gols tem o valor [4, 0, 1]\n",
      "O campo total tem o valor 5\n",
      "-=-=-=-=-=-=-=-=-=-=-=-=-=-=-=-=-=-=-=-=-=-=-=-=-=-=-=-=-=-=\n",
      "O jogador Hélio jogou 3 partidas.\n",
      "  => Na partida 1, fez 4 gols.\n",
      "  => Na partida 2, fez 0 gols.\n",
      "  => Na partida 3, fez 1 gols.\n",
      "Foi um total de 5 gols.\n"
     ]
    }
   ],
   "source": [
    "jogador = dict()\n",
    "partidas = list()\n",
    "jogador['nome'] = str(input('Nome do jogador: ')).strip()\n",
    "tot = int(input(f'Quantas partidas {jogador[\"nome\"]} jogou? '))\n",
    "for g in range(0, tot):\n",
    "    partidas.append(int(input(f'Quantos gols na partida {g+1}? ')))\n",
    "jogador['gols'] = partidas[:]\n",
    "jogador['total'] = sum(partidas) #soma a lista\n",
    "print('-='*30)\n",
    "print(jogador)\n",
    "print('-='*30)\n",
    "for k, v in jogador.items():\n",
    "    print(f'O campo {k} tem o valor {v}')\n",
    "print('-='*30)\n",
    "print(f'O jogador {jogador[\"nome\"]} jogou {len(jogador[\"gols\"])} partidas.') #poderia ter usado tot\n",
    "for p, g in enumerate(partidas):\n",
    "    print(f'  => Na partida {p+1}, fez {g} gols.')\n",
    "print(f'Foi um total de {jogador[\"total\"]} gols.')"
   ]
  },
  {
   "cell_type": "markdown",
   "id": "e59dcac9",
   "metadata": {},
   "source": [
    "**Exercício:** Leia nome, sexo e idade de várias pessoas, guardando os dados de cada pessoa em um dicionário e todos os dicionários em uma lista. No final, mostre:\n",
    "1. Quantas pessoas foram cadastradas\n",
    "2. A média de idade\n",
    "3. Uma lista com as mulheres\n",
    "4. Uma lista de pessoas com idade acima da média"
   ]
  },
  {
   "cell_type": "code",
   "execution_count": 29,
   "id": "ab8d6e13",
   "metadata": {},
   "outputs": [
    {
     "name": "stdout",
     "output_type": "stream",
     "text": [
      "Nome: Rafaela\n",
      "Sexo [M/F]: n\n",
      "ERRO! Por favor, digite apenas M ou F.\n",
      "Sexo [M/F]: f\n",
      "Idade: 22\n",
      "Quer continuar? [S/N] s\n",
      "Nome: Renato\n",
      "Sexo [M/F]: g\n",
      "ERRO! Por favor, digite apenas M ou F.\n",
      "Sexo [M/F]: M\n",
      "Idade: 34\n",
      "Quer continuar? [S/N] a\n",
      "ERRO! Por favor, digite apenas S ou N.\n",
      "Quer continuar? [S/N] s\n",
      "Nome: Bia\n",
      "Sexo [M/F]: F\n",
      "Idade: 34\n",
      "Quer continuar? [S/N] s\n",
      "Nome: Gustavo\n",
      "Sexo [M/F]: M\n",
      "Idade: 53\n",
      "Quer continuar? [S/N] s\n",
      "Nome: Lilian\n",
      "Sexo [M/F]: F\n",
      "Idade: 14\n",
      "Quer continuar? [S/N] n\n",
      "-=-=-=-=-=-=-=-=-=-=-=-=-=-=-=-=-=-=-=-=-=-=-=-=-=-=-=-=-=-=\n",
      "A) Ao todo temos 5 pessoas cadastradas.\n",
      "B) A média de idade é de 31.40 anos.\n",
      "C) As mulheres cadastradas foram Rafaela Bia Lilian \n",
      "D) Lista das pessoas que estão acima da média:nome = Renato; sexo = M; idade = 34; \n",
      "nome = Bia; sexo = F; idade = 34; \n",
      "nome = Gustavo; sexo = M; idade = 53; \n",
      "<< ENCERRADO >>\n"
     ]
    }
   ],
   "source": [
    "pessoa = dict()\n",
    "galera = list()\n",
    "soma = 0\n",
    "while True:\n",
    "    pessoa['nome'] = str(input('Nome: ')).strip()\n",
    "    while True:\n",
    "        pessoa['sexo'] = str(input('Sexo [M/F]: ')).upper().strip()[0]\n",
    "        if pessoa['sexo'] in 'MF':\n",
    "            break\n",
    "        print('ERRO! Por favor, digite apenas M ou F.')        \n",
    "    pessoa['idade'] = int(input('Idade: '))\n",
    "    soma += pessoa['idade']\n",
    "    galera.append(pessoa.copy())\n",
    "    while True:\n",
    "        resp = str(input('Quer continuar? [S/N] ')).upper().strip()[0]\n",
    "        if resp in 'SN':\n",
    "            break\n",
    "        print('ERRO! Por favor, digite apenas S ou N.')\n",
    "    if resp == 'N':\n",
    "        break\n",
    "print('-='*30)\n",
    "print(f'A) Ao todo temos {len(galera)} pessoas cadastradas.')\n",
    "media = soma/len(galera)\n",
    "print(f'B) A média de idade é de {media:5.2f} anos.')\n",
    "print(f'C) As mulheres cadastradas foram ', end='')\n",
    "for n in galera:\n",
    "    if n['sexo'] == 'F':\n",
    "        print(f'{n[\"nome\"]} ', end='')\n",
    "print()\n",
    "print(f'D) Lista das pessoas que estão acima da média:')\n",
    "for p in galera:\n",
    "    if p['idade'] >= media:\n",
    "        #print(f'nome = {p[\"nome\"]}; sexo = {p[\"sexo\"]}; idade = {p[\"idade\"]}')\n",
    "        for k, v in p.items(): #dicionários\n",
    "            print(f'{k} = {v}; ', end='')\n",
    "        print()\n",
    "print('<< ENCERRADO >>')"
   ]
  },
  {
   "cell_type": "markdown",
   "id": "12a069fb",
   "metadata": {},
   "source": [
    "**Exercício:** Aprimore o penultimo exercício para que ele funcione com vários jogadores, incluindo um sistema de visualização de detalhes do aproveitamento de cada jogador."
   ]
  },
  {
   "cell_type": "code",
   "execution_count": 18,
   "id": "19cf9909",
   "metadata": {},
   "outputs": [
    {
     "name": "stdout",
     "output_type": "stream",
     "text": [
      "Nome do jogador: Hélio\n",
      "Quantas partidas Hélio jogou? 2\n",
      "  Quantos gols na partida 1? 1\n",
      "  Quantos gols na partida 2? 2\n",
      "Quer continuar? [S/N] s\n",
      "Nome do jogador: Iago\n",
      "Quantas partidas Iago jogou? 3\n",
      "  Quantos gols na partida 1? 1\n",
      "  Quantos gols na partida 2? 2\n",
      "  Quantos gols na partida 3? 3\n",
      "Quer continuar? [S/N] s\n",
      "Nome do jogador: Ronaldo\n",
      "Quantas partidas Ronaldo jogou? 4\n",
      "  Quantos gols na partida 1? 0\n",
      "  Quantos gols na partida 2? 0\n",
      "  Quantos gols na partida 3? 2\n",
      "  Quantos gols na partida 4? 1\n",
      "Quer continuar? [S/N] s\n",
      "Nome do jogador: Oswaldo\n",
      "Quantas partidas Oswaldo jogou? 1\n",
      "  Quantos gols na partida 1? 34\n",
      "Quer continuar? [S/N] n\n",
      "-=-=-=-=-=-=-=-=-=-=-=-=-=-=-=-=-=-=-=-=-=-=-=-=-=-=-=-=-=-=\n",
      "cod nome           gols           total          \n",
      "----------------------------------------\n",
      "  0 Hélio          [1, 2]         3              \n",
      "  1 Iago           [1, 2, 3]      6              \n",
      "  2 Ronaldo        [0, 0, 2, 1]   3              \n",
      "  3 Oswaldo        [34]           34             \n",
      "----------------------------------------\n",
      "-=-=-=-=-=-=-=-=-=-=-=-=-=-=-=-=-=-=-=-=-=-=-=-=-=-=-=-=-=-=\n",
      "Mostrar dados de qual jogador? (999 para parar) 5\n",
      "ERRO! Não existe jogador com o código 5.\n",
      "----------------------------------------\n",
      "Mostrar dados de qual jogador? (999 para parar) 1\n",
      " -- LEVANTAMENTO DO JOGADOR Iago\n",
      "  No jogo 1 fez 1 gols.\n",
      "  No jogo 2 fez 2 gols.\n",
      "  No jogo 3 fez 3 gols.\n",
      "----------------------------------------\n",
      "Mostrar dados de qual jogador? (999 para parar) 3\n",
      " -- LEVANTAMENTO DO JOGADOR Oswaldo\n",
      "  No jogo 1 fez 34 gols.\n",
      "----------------------------------------\n",
      "Mostrar dados de qual jogador? (999 para parar) 2\n",
      " -- LEVANTAMENTO DO JOGADOR Ronaldo\n",
      "  No jogo 1 fez 0 gols.\n",
      "  No jogo 2 fez 0 gols.\n",
      "  No jogo 3 fez 2 gols.\n",
      "  No jogo 4 fez 1 gols.\n",
      "----------------------------------------\n",
      "Mostrar dados de qual jogador? (999 para parar) 999\n",
      "<< VOLTE SEMPRE >>\n"
     ]
    }
   ],
   "source": [
    "jogador = dict()\n",
    "partidas = list()\n",
    "time = list()\n",
    "while True:\n",
    "    jogador['nome'] = str(input('Nome do jogador: ')).strip()\n",
    "    tot = int(input(f'Quantas partidas {jogador[\"nome\"]} jogou? '))\n",
    "    for g in range(0, tot):\n",
    "        partidas.append(int(input(f'  Quantos gols na partida {g+1}? ')))\n",
    "    jogador['gols'] = partidas[:]\n",
    "    jogador['total'] = sum(partidas) #soma a lista\n",
    "    time.append(jogador.copy())\n",
    "    partidas.clear()\n",
    "    while True:\n",
    "        resp = str(input('Quer continuar? [S/N] ')).upper().strip()[0]\n",
    "        if resp in 'SN':\n",
    "            break\n",
    "        print('ERRO! Por favor, digite S ou N.')\n",
    "    if resp == 'N':\n",
    "        break\n",
    "print('-='*30)\n",
    "print('cod ', end='')\n",
    "for i in jogador.keys():\n",
    "    print(f'{i:<15}', end='')\n",
    "print()\n",
    "print('-'*40)\n",
    "for k, v in enumerate(time):\n",
    "    print(f'{k:>3} ', end ='')\n",
    "    for d in v.values():\n",
    "        print(f'{str(d):<15}', end='')\n",
    "    print()\n",
    "print('-'*40)\n",
    "print('-='*30)\n",
    "while True:\n",
    "    opc = int(input('Mostrar dados de qual jogador? (999 para parar) '))\n",
    "    if opc == 999:\n",
    "        break\n",
    "    if opc >= len(time):\n",
    "        print(f'ERRO! Não existe jogador com o código {opc}.')\n",
    "    else:\n",
    "        print(f' -- LEVANTAMENTO DO JOGADOR {time[opc][\"nome\"]}')\n",
    "        for i, g in enumerate(time[opc][\"gols\"]):\n",
    "            print(f'  No jogo {i+1} fez {g} gols.')\n",
    "    print('-'*40)\n",
    "print('<< VOLTE SEMPRE >>')"
   ]
  },
  {
   "cell_type": "code",
   "execution_count": 24,
   "id": "0d14ffce",
   "metadata": {},
   "outputs": [
    {
     "name": "stdout",
     "output_type": "stream",
     "text": [
      "Nome: Gustavo\n",
      "Idade: 40\n",
      "Quer continuar? [S/N] s\n",
      "Nome: Icaro\n",
      "Idade: 38\n",
      "Quer continuar? [S/N] n\n",
      "{'Aluno 1': {'nome': 'Gustavo', 'idade': 40}, 'Aluno 2': {'nome': 'Icaro', 'idade': 38}}\n"
     ]
    }
   ],
   "source": [
    "#dicionário dentro de dicionário\n",
    "dicionario1 = dict()\n",
    "dicionario2 = dict()\n",
    "cont = 0\n",
    "while True:\n",
    "    dicionario1['nome'] = str(input('Nome: ')).strip()\n",
    "    dicionario1['idade'] = int(input('Idade: '))\n",
    "    cont +=1\n",
    "    dicionario2[f'Aluno {cont}'] = dicionario1.copy()\n",
    "    while True:\n",
    "        resp = str(input('Quer continuar? [S/N] ')).upper().strip()[0]\n",
    "        if resp in 'SN':\n",
    "            break\n",
    "        print('ERRO! Por favor, digite S ou N.')\n",
    "    if resp == 'N':\n",
    "        break\n",
    "print(dicionario2)\n"
   ]
  },
  {
   "cell_type": "markdown",
   "id": "e437e4e3",
   "metadata": {},
   "source": [
    "## Funções"
   ]
  },
  {
   "cell_type": "markdown",
   "id": "664d0b37",
   "metadata": {},
   "source": [
    "### Parte 1: Funções são rotinas"
   ]
  },
  {
   "cell_type": "code",
   "execution_count": 27,
   "id": "7ee1b848",
   "metadata": {},
   "outputs": [],
   "source": [
    "#define função, mas só aparece quando usada\n",
    "def mostrarlinha():\n",
    "    print('-'*30)"
   ]
  },
  {
   "cell_type": "code",
   "execution_count": 29,
   "id": "1a80012a",
   "metadata": {},
   "outputs": [
    {
     "name": "stdout",
     "output_type": "stream",
     "text": [
      "------------------------------\n",
      "             MENU             \n",
      "------------------------------\n",
      "------------------------------\n",
      "            Frase             \n",
      "------------------------------\n"
     ]
    }
   ],
   "source": [
    "#definindo e usando função\n",
    "def mostrarlinha():\n",
    "    print('-'*30)\n",
    "\n",
    "mostrarlinha()\n",
    "print(f'{\"MENU\":^30}')\n",
    "mostrarlinha()\n",
    "mostrarlinha()\n",
    "print(f'{\"Frase\":^30}')\n",
    "mostrarlinha()"
   ]
  },
  {
   "cell_type": "code",
   "execution_count": 33,
   "id": "e7d20110",
   "metadata": {},
   "outputs": [
    {
     "name": "stdout",
     "output_type": "stream",
     "text": [
      "------------------------------\n",
      "             MENU             \n",
      "------------------------------\n",
      "------------------------------\n",
      "            Frase             \n",
      "------------------------------\n"
     ]
    }
   ],
   "source": [
    "#definindo e usando função contendo parâmetro\n",
    "def titulo(txt):\n",
    "    print('-'*30)\n",
    "    print(f'{txt:^30}')\n",
    "    print('-'*30)\n",
    "\n",
    "mostrartitulo('MENU')\n",
    "mostrartitulo('Frase')"
   ]
  },
  {
   "cell_type": "code",
   "execution_count": 36,
   "id": "67bd4bab",
   "metadata": {},
   "outputs": [
    {
     "name": "stdout",
     "output_type": "stream",
     "text": [
      "9\n",
      "17\n",
      "3\n"
     ]
    }
   ],
   "source": [
    "def soma(a, b):\n",
    "    soma = a + b\n",
    "    print(soma)\n",
    "\n",
    "#programa principal\n",
    "soma(4, 5)\n",
    "soma(8, 9)\n",
    "soma(2, 1)"
   ]
  },
  {
   "cell_type": "code",
   "execution_count": 39,
   "id": "1c1cc624",
   "metadata": {},
   "outputs": [
    {
     "name": "stdout",
     "output_type": "stream",
     "text": [
      "a = 4 e b = 5\n",
      "a + b = 9\n",
      "a = 5 e b = 4\n",
      "a + b = 9\n"
     ]
    }
   ],
   "source": [
    "def soma(a, b):\n",
    "    print(f'a = {a} e b = {b}')\n",
    "    soma = a + b\n",
    "    print(f'a + b = {soma}')\n",
    "\n",
    "#programa principal\n",
    "soma(4, 5)\n",
    "soma(b=4, a=5) #alterando a ordem dos parâmetros"
   ]
  },
  {
   "cell_type": "code",
   "execution_count": 49,
   "id": "7908f8a4",
   "metadata": {},
   "outputs": [
    {
     "name": "stdout",
     "output_type": "stream",
     "text": [
      "(2, 1, 7)\n",
      "3\n",
      "2 1 7 FIM\n",
      "(8, 0)\n",
      "2\n",
      "8 0 FIM\n",
      "(4, 4, 7, 6, 2)\n",
      "5\n",
      "4 4 7 6 2 FIM\n"
     ]
    }
   ],
   "source": [
    "#empacotamento e desempacotamento\n",
    "def contador(*num):\n",
    "    print(num) #tupla\n",
    "    print(len(num))\n",
    "    for valor in num:\n",
    "        print(valor, end=' ')\n",
    "    print('FIM')\n",
    "\n",
    "contador(2, 1, 7)\n",
    "contador(8, 0)\n",
    "contador(4, 4, 7, 6, 2)"
   ]
  },
  {
   "cell_type": "code",
   "execution_count": 51,
   "id": "d7075b82",
   "metadata": {},
   "outputs": [
    {
     "name": "stdout",
     "output_type": "stream",
     "text": [
      "Somando os valores (5, 2) temos 7\n",
      "Somando os valores (2, 9, 4) temos 15\n"
     ]
    }
   ],
   "source": [
    "def soma(*valores): #empacotamento\n",
    "    s = 0\n",
    "    for num in valores: #desempacotamento\n",
    "        s += num\n",
    "    print(f'Somando os valores {valores} temos {s}')\n",
    "\n",
    "soma(5, 2)\n",
    "soma(2, 9, 4)"
   ]
  },
  {
   "cell_type": "code",
   "execution_count": 48,
   "id": "f88fe4c6",
   "metadata": {},
   "outputs": [
    {
     "name": "stdout",
     "output_type": "stream",
     "text": [
      "[6, 3, 9, 1, 0, 2]\n",
      "[12, 6, 18, 2, 0, 4]\n"
     ]
    }
   ],
   "source": [
    "def dobra(lst): #não é empacotamento\n",
    "    pos = 0\n",
    "    while pos < len(lst):\n",
    "        lst[pos] *= 2\n",
    "        pos += 1\n",
    "\n",
    "valores = [6, 3, 9, 1, 0, 2]\n",
    "print(valores)\n",
    "dobra(valores)\n",
    "print(valores)"
   ]
  },
  {
   "cell_type": "markdown",
   "id": "495631ad",
   "metadata": {},
   "source": [
    "**Exercício:** Faça uma função chamada área que receba as dimensões de um terreno retangular(largura e comprimento) e mostre a área do terreno."
   ]
  },
  {
   "cell_type": "code",
   "execution_count": 1,
   "id": "5c4710df",
   "metadata": {},
   "outputs": [
    {
     "name": "stdout",
     "output_type": "stream",
     "text": [
      "Controle de Terrenos\n",
      "--------------------\n",
      "Largura (m): 4\n",
      "Comprimento (m): 5\n",
      "A área do seu terreno de 4.0x5.0 é de 20.0m².\n"
     ]
    }
   ],
   "source": [
    "def area(largura, comprimento):\n",
    "    are = largura * comprimento\n",
    "    print(f'A área do seu terreno de {largura}x{comprimento} é de {are}m².')\n",
    "\n",
    "print('Controle de Terrenos')\n",
    "print('-'*20)\n",
    "larg = float(input('Largura (m): '))\n",
    "comp = float(input('Comprimento (m): '))\n",
    "area(larg, comp)"
   ]
  },
  {
   "cell_type": "markdown",
   "id": "7cd7b258",
   "metadata": {},
   "source": [
    "**Exercício:** Faça um programa que tenha a função escreva(), que recebe um texto qualquer como parâmentro e mostre uma mensagem com tamanho adaptável (linhas em cima e embaixo do tamanho da frase)."
   ]
  },
  {
   "cell_type": "code",
   "execution_count": 10,
   "id": "7619277c",
   "metadata": {},
   "outputs": [
    {
     "name": "stdout",
     "output_type": "stream",
     "text": [
      "~~~~~~~~~~~~~~~\n",
      "  Olá, mundo!\n",
      "~~~~~~~~~~~~~~~\n",
      "~~~~~~~~~~~~~~~~~~~~~~~~~~~~~~\n",
      "  Curso de Python no YouTube\n",
      "~~~~~~~~~~~~~~~~~~~~~~~~~~~~~~\n"
     ]
    }
   ],
   "source": [
    "def escreva(txt):\n",
    "    tam = len(txt) +4\n",
    "    print('~'*tam)\n",
    "    print(f'  {txt}') #2 espaços\n",
    "    print('~'*tam)\n",
    "\n",
    "escreva('Olá, mundo!')\n",
    "escreva('Curso de Python no YouTube')"
   ]
  },
  {
   "cell_type": "markdown",
   "id": "753d6a94",
   "metadata": {},
   "source": [
    "**Exercício:** Faça um programa que tenha a função chamada contador(), que receba três parâmetros: início, fim e passo e realize a contagem. Seu programa tem que realizar três contagens:\n",
    "1. De 1 até 10, de 1 em 1\n",
    "2. De 10 até 0, de 2 em 2\n",
    "3. Uma contagem personalizada"
   ]
  },
  {
   "cell_type": "code",
   "execution_count": 18,
   "id": "71d9c256",
   "metadata": {},
   "outputs": [
    {
     "name": "stdout",
     "output_type": "stream",
     "text": [
      "-=-=-=-=-=-=-=-=-=-=-=-=-=-=-=-=-=-=-=-=-=-=-=-=-=\n",
      "Contagem de 1 até 10 de 1 em 1\n",
      "1 2 3 4 5 6 7 8 9 10 FIM!\n",
      "-=-=-=-=-=-=-=-=-=-=-=-=-=-=-=-=-=-=-=-=-=-=-=-=-=\n",
      "Contagem de 10 até 0 de 2 em 2\n",
      "10 8 6 4 2 0 FIM!\n",
      "-=-=-=-=-=-=-=-=-=-=-=-=-=-=-=-=-=-=-=-=-=-=-=-=-=\n",
      "Agora é a sua vez de personalizar a contagem!\n",
      "Início: 10\n",
      "Fim: 0\n",
      "Passo: -2\n",
      "-=-=-=-=-=-=-=-=-=-=-=-=-=-=-=-=-=-=-=-=-=-=-=-=-=\n",
      "Contagem de 10 até 0 de -2 em -2\n",
      "10 8 6 4 2 0 FIM!\n"
     ]
    }
   ],
   "source": [
    "from time import sleep\n",
    "def contador(inicio, fim, passo):\n",
    "    print('-='*25)\n",
    "    print(f'Contagem de {inicio} até {fim} de {passo} em {passo}')\n",
    "    sleep(1)\n",
    "    cont = inicio\n",
    "    if passo < 0:\n",
    "        #passo *= -1\n",
    "        passo = abs(passo)\n",
    "    elif passo == 0:\n",
    "        passo = 1\n",
    "    if inicio < fim:\n",
    "        while True:\n",
    "            if cont > fim:\n",
    "                break\n",
    "            print(cont, end=' ', flush=True) #flush serve para não ter buffer de tela\n",
    "            sleep(0.5)\n",
    "            cont += passo\n",
    "    else:\n",
    "        while True:\n",
    "            if cont < fim:\n",
    "                break\n",
    "            print(cont, end=' ', flush=True) #flush serve para não ter buffer de tela\n",
    "            sleep(0.5)\n",
    "            cont -= passo\n",
    "    print('FIM!')\n",
    "\n",
    "#programa principal\n",
    "contador(1, 10, 1)\n",
    "contador(10, 0, 2)\n",
    "print('-='*25)\n",
    "print('Agora é a sua vez de personalizar a contagem!')\n",
    "ini = int(input('Início: '))\n",
    "fi = int(input('Fim: '))\n",
    "pa = int(input('Passo: '))\n",
    "contador(ini, fi, pa)"
   ]
  },
  {
   "cell_type": "markdown",
   "id": "2c59c2e9",
   "metadata": {},
   "source": [
    "**Exercício:** Escreva a função chamada maior() que receba vários parâmetros com valores inteiros. O programa deve analisar todos os valores e dizer o maior."
   ]
  },
  {
   "cell_type": "code",
   "execution_count": 15,
   "id": "76f3d82b",
   "metadata": {},
   "outputs": [
    {
     "name": "stdout",
     "output_type": "stream",
     "text": [
      "-=-=-=-=-=-=-=-=-=-=-=-=-=-=-=-=-=-=-=-=\n",
      "Analizando os valores passados...\n",
      "2 9 4 5 7 1 Foram informados 6 valores ao todo.\n",
      "O maior valor foi 9.\n",
      "-=-=-=-=-=-=-=-=-=-=-=-=-=-=-=-=-=-=-=-=\n",
      "Analizando os valores passados...\n",
      "4 7 0 Foram informados 3 valores ao todo.\n",
      "O maior valor foi 7.\n",
      "-=-=-=-=-=-=-=-=-=-=-=-=-=-=-=-=-=-=-=-=\n",
      "Analizando os valores passados...\n",
      "1 2 Foram informados 2 valores ao todo.\n",
      "O maior valor foi 2.\n",
      "-=-=-=-=-=-=-=-=-=-=-=-=-=-=-=-=-=-=-=-=\n",
      "Analizando os valores passados...\n",
      "6 Foram informados 1 valores ao todo.\n",
      "O maior valor foi 6.\n",
      "-=-=-=-=-=-=-=-=-=-=-=-=-=-=-=-=-=-=-=-=\n",
      "Analizando os valores passados...\n",
      "Foram informados 0 valores ao todo.\n",
      "O maior valor foi 0.\n"
     ]
    }
   ],
   "source": [
    "from time import sleep\n",
    "def maior(*valores): #empacotamento\n",
    "    cont = maior = 0\n",
    "    print('-='*20)\n",
    "    print('Analizando os valores passados...')\n",
    "    for v in valores:\n",
    "        print(f'{v} ', end ='', flush=True) #desempacotamento\n",
    "        sleep(0.3)\n",
    "        if cont == 0:\n",
    "            maior = v\n",
    "        else:\n",
    "            if v > maior:\n",
    "                maior = v\n",
    "        cont += 1\n",
    "    print(f'Foram informados {cont} valores ao todo.')\n",
    "    print(f'O maior valor foi {maior}.')\n",
    "\n",
    "maior(2, 9, 4, 5, 7, 1)\n",
    "maior(4, 7, 0)\n",
    "maior(1, 2)\n",
    "maior(6)\n",
    "maior()"
   ]
  },
  {
   "cell_type": "markdown",
   "id": "eb2f5aa9",
   "metadata": {},
   "source": [
    "**Exercício:** Faça um programa que tenha uma lista chamada números e duas funções chamadas sorteia() e somaPar(). A primeira função vai sortear 5 números e colocar dentro de uma lista e a segunda vai mostrar a soma entre todos os valores pares sorteados pela função anterior."
   ]
  },
  {
   "cell_type": "code",
   "execution_count": 21,
   "id": "2cc21a57",
   "metadata": {},
   "outputs": [
    {
     "name": "stdout",
     "output_type": "stream",
     "text": [
      "Sorteando 5 valores da lista: 4 5 2 3 6 PRONTO!\n",
      "Somando os valores pares de [4, 5, 2, 3, 6], temos 12\n",
      "Sorteando 5 valores da lista: 1 6 10 1 8 PRONTO!\n",
      "Somando os valores pares de [1, 6, 10, 1, 8], temos 24\n"
     ]
    }
   ],
   "source": [
    "from random import randint\n",
    "from time import sleep\n",
    "def sorteia(lista):\n",
    "    lista.clear()\n",
    "    print('Sorteando 5 valores da lista: ', end='')\n",
    "    for cont in range(0, 5):\n",
    "        lista.append(randint(1, 10))\n",
    "        print(f'{lista[cont]} ', end='')\n",
    "        sleep(0.3)\n",
    "    print('PRONTO!')\n",
    "\n",
    "def somaPar(lista):\n",
    "    print(f'Somando os valores pares de {lista}, temos ', end='')\n",
    "    soma = 0\n",
    "    for valor in lista:\n",
    "        if valor % 2 == 0:\n",
    "            soma += valor\n",
    "    print(soma)\n",
    "\n",
    "numeros = [] #vetor\n",
    "sorteia(numeros)\n",
    "somaPar(numeros)\n",
    "sorteia(numeros)\n",
    "somaPar(numeros)"
   ]
  },
  {
   "cell_type": "markdown",
   "id": "e5a6bbc3",
   "metadata": {},
   "source": [
    "### Parte 2: Interactive help, docstrings, argumentos opcionais, escopo de variáveis, e retorno de resultados"
   ]
  },
  {
   "cell_type": "code",
   "execution_count": 23,
   "id": "b25a0ce5",
   "metadata": {},
   "outputs": [
    {
     "name": "stdout",
     "output_type": "stream",
     "text": [
      "\n",
      "Welcome to Python 3.9's help utility!\n",
      "\n",
      "If this is your first time using Python, you should definitely check out\n",
      "the tutorial on the Internet at https://docs.python.org/3.9/tutorial/.\n",
      "\n",
      "Enter the name of any module, keyword, or topic to get help on writing\n",
      "Python programs and using Python modules.  To quit this help utility and\n",
      "return to the interpreter, just type \"quit\".\n",
      "\n",
      "To get a list of available modules, keywords, symbols, or topics, type\n",
      "\"modules\", \"keywords\", \"symbols\", or \"topics\".  Each module also comes\n",
      "with a one-line summary of what it does; to list the modules whose name\n",
      "or summary contain a given string such as \"spam\", type \"modules spam\".\n",
      "\n",
      "help> print\n",
      "Help on built-in function print in module builtins:\n",
      "\n",
      "print(...)\n",
      "    print(value, ..., sep=' ', end='\\n', file=sys.stdout, flush=False)\n",
      "    \n",
      "    Prints the values to a stream, or to sys.stdout by default.\n",
      "    Optional keyword arguments:\n",
      "    file:  a file-like object (stream); defaults to the current sys.stdout.\n",
      "    sep:   string inserted between values, default a space.\n",
      "    end:   string appended after the last value, default a newline.\n",
      "    flush: whether to forcibly flush the stream.\n",
      "\n",
      "help> quit\n",
      "\n",
      "You are now leaving help and returning to the Python interpreter.\n",
      "If you want to ask for help on a particular object directly from the\n",
      "interpreter, you can type \"help(object)\".  Executing \"help('string')\"\n",
      "has the same effect as typing a particular string at the help> prompt.\n"
     ]
    }
   ],
   "source": [
    "#ajuda interativa\n",
    "help() #função/método\n",
    "#digite \"quit\" para sair"
   ]
  },
  {
   "cell_type": "code",
   "execution_count": 24,
   "id": "09d7bac5",
   "metadata": {},
   "outputs": [
    {
     "name": "stdout",
     "output_type": "stream",
     "text": [
      "Help on built-in function print in module builtins:\n",
      "\n",
      "print(...)\n",
      "    print(value, ..., sep=' ', end='\\n', file=sys.stdout, flush=False)\n",
      "    \n",
      "    Prints the values to a stream, or to sys.stdout by default.\n",
      "    Optional keyword arguments:\n",
      "    file:  a file-like object (stream); defaults to the current sys.stdout.\n",
      "    sep:   string inserted between values, default a space.\n",
      "    end:   string appended after the last value, default a newline.\n",
      "    flush: whether to forcibly flush the stream.\n",
      "\n"
     ]
    }
   ],
   "source": [
    "help(print)"
   ]
  },
  {
   "cell_type": "code",
   "execution_count": 28,
   "id": "ee7b42c8",
   "metadata": {},
   "outputs": [
    {
     "name": "stdout",
     "output_type": "stream",
     "text": [
      "print(value, ..., sep=' ', end='\\n', file=sys.stdout, flush=False)\n",
      "\n",
      "Prints the values to a stream, or to sys.stdout by default.\n",
      "Optional keyword arguments:\n",
      "file:  a file-like object (stream); defaults to the current sys.stdout.\n",
      "sep:   string inserted between values, default a space.\n",
      "end:   string appended after the last value, default a newline.\n",
      "flush: whether to forcibly flush the stream.\n"
     ]
    }
   ],
   "source": [
    "print(print.__doc__) #imprime a documentação da função, neste caso do print. Parecido com help."
   ]
  },
  {
   "cell_type": "code",
   "execution_count": 35,
   "id": "a904eb39",
   "metadata": {},
   "outputs": [
    {
     "name": "stdout",
     "output_type": "stream",
     "text": [
      "Help on function contador in module __main__:\n",
      "\n",
      "contador(i, f, p)\n",
      "    -> Faz uma contagem e mostra na tela.\n",
      "    :param i: início da contagem\n",
      "    :param f: fim da contagem\n",
      "    :param p: passo da contagem\n",
      "    :return: sem retorno\n",
      "    Função criada por Icaro\n",
      "\n"
     ]
    }
   ],
   "source": [
    "#criando docstring de uma função\n",
    "def contador(i, f, p):\n",
    "    \"\"\"\n",
    "    -> Faz uma contagem e mostra na tela.\n",
    "    :param i: início da contagem\n",
    "    :param f: fim da contagem\n",
    "    :param p: passo da contagem\n",
    "    :return: sem retorno\n",
    "    Função criada por Icaro\n",
    "    \"\"\"\n",
    "    c = i\n",
    "    while c <= f:\n",
    "        print(f'{c} ', end='')\n",
    "        c += p\n",
    "    print('FIM!')\n",
    "\n",
    "\n",
    "help(contador)"
   ]
  },
  {
   "cell_type": "code",
   "execution_count": 41,
   "id": "d0844773",
   "metadata": {},
   "outputs": [
    {
     "name": "stdout",
     "output_type": "stream",
     "text": [
      "Help on function somar in module __main__:\n",
      "\n",
      "somar(a, b, c=0)\n",
      "    -> Faz a soma de três valores e mostra o resultado na tela\n",
      "    :param a: o primeiro valor\n",
      "    :param b: o segundo valor\n",
      "    :param c: o terceiro valor\n",
      "    :return: sem retorno\n",
      "    Função criada por Icaro\n",
      "\n",
      "A soma vale 12\n",
      "A soma vale 5\n",
      "A soma vale 17\n"
     ]
    }
   ],
   "source": [
    "#parâmetros opcionais\n",
    "def somar(a, b, c=0): #se não receber c, o c valerá 0\n",
    "    '''\n",
    "    -> Faz a soma de três valores e mostra o resultado na tela\n",
    "    :param a: o primeiro valor\n",
    "    :param b: o segundo valor\n",
    "    :param c: o terceiro valor\n",
    "    :return: sem retorno\n",
    "    Função criada por Icaro\n",
    "    '''\n",
    "    s = a + b + c\n",
    "    print(f'A soma vale {s}')\n",
    "\n",
    "help(somar)\n",
    "somar(4, 3, 5)\n",
    "somar(3, 2)\n",
    "somar(c=10, b= 2, a=5)"
   ]
  },
  {
   "cell_type": "code",
   "execution_count": 44,
   "id": "16ed988c",
   "metadata": {},
   "outputs": [
    {
     "name": "stdout",
     "output_type": "stream",
     "text": [
      "No programa principal, n vale 2\n",
      "Na função teste, n vale 2\n",
      "Na função teste, x vale 8\n"
     ]
    },
    {
     "ename": "NameError",
     "evalue": "name 'x' is not defined",
     "output_type": "error",
     "traceback": [
      "\u001b[1;31m---------------------------------------------------------------------------\u001b[0m",
      "\u001b[1;31mNameError\u001b[0m                                 Traceback (most recent call last)",
      "\u001b[1;32m~\\AppData\\Local\\Temp\\ipykernel_2180\\515652718.py\u001b[0m in \u001b[0;36m<module>\u001b[1;34m\u001b[0m\n\u001b[0;32m     10\u001b[0m \u001b[0mprint\u001b[0m\u001b[1;33m(\u001b[0m\u001b[1;34mf'No programa principal, n vale {n}'\u001b[0m\u001b[1;33m)\u001b[0m\u001b[1;33m\u001b[0m\u001b[1;33m\u001b[0m\u001b[0m\n\u001b[0;32m     11\u001b[0m \u001b[0mtest\u001b[0m\u001b[1;33m(\u001b[0m\u001b[1;33m)\u001b[0m\u001b[1;33m\u001b[0m\u001b[1;33m\u001b[0m\u001b[0m\n\u001b[1;32m---> 12\u001b[1;33m \u001b[0mprint\u001b[0m\u001b[1;33m(\u001b[0m\u001b[1;34mf'No programa principal, x vale {x}'\u001b[0m\u001b[1;33m)\u001b[0m\u001b[1;33m\u001b[0m\u001b[1;33m\u001b[0m\u001b[0m\n\u001b[0m",
      "\u001b[1;31mNameError\u001b[0m: name 'x' is not defined"
     ]
    }
   ],
   "source": [
    "#escopo de variáveis/declarações\n",
    "\n",
    "def test():\n",
    "    x = 8 #variável local, pois faz parte do escopo local\n",
    "    print(f'Na função teste, n vale {n}')\n",
    "    print(f'Na função teste, x vale {x}')\n",
    "\n",
    "#Programa principal\n",
    "n = 2 #variável global, pois faz parte do escopo global\n",
    "print(f'No programa principal, n vale {n}')\n",
    "test()\n",
    "print(f'No programa principal, x vale {x}') #erro, pois x só funciona dentro do escopo local."
   ]
  },
  {
   "cell_type": "code",
   "execution_count": 46,
   "id": "6a9bdd12",
   "metadata": {},
   "outputs": [
    {
     "name": "stdout",
     "output_type": "stream",
     "text": [
      "A dentro vale 8\n",
      "A fora vale 5\n"
     ]
    }
   ],
   "source": [
    "#duas variáveis a, uma local e outra global\n",
    "def teste():\n",
    "    a = 8\n",
    "    print(f'A dentro vale {a}')\n",
    "\n",
    "#programa principal\n",
    "a = 5\n",
    "teste()\n",
    "print(f'A fora vale {a}')"
   ]
  },
  {
   "cell_type": "code",
   "execution_count": 1,
   "id": "73fd82b7",
   "metadata": {},
   "outputs": [
    {
     "name": "stdout",
     "output_type": "stream",
     "text": [
      "A dentro vale 8\n",
      "B dentro vale 9\n",
      "C dentro vale 2\n",
      "A fora vale 5\n"
     ]
    }
   ],
   "source": [
    "def teste(b):\n",
    "    \n",
    "    a = 8\n",
    "    b += 4\n",
    "    c = 2\n",
    "    print(f'A dentro vale {a}')\n",
    "    print(f'B dentro vale {b}')\n",
    "    print(f'C dentro vale {c}')\n",
    "\n",
    "a = 5\n",
    "teste(a)\n",
    "print(f'A fora vale {a}')"
   ]
  },
  {
   "cell_type": "code",
   "execution_count": 2,
   "id": "fe1b79ab",
   "metadata": {},
   "outputs": [
    {
     "name": "stdout",
     "output_type": "stream",
     "text": [
      "A dentro vale 8\n",
      "B dentro vale 9\n",
      "C dentro vale 2\n",
      "A fora vale 8\n"
     ]
    }
   ],
   "source": [
    "def teste(b):\n",
    "    global a #transforma a em global\n",
    "    a = 8\n",
    "    b += 4\n",
    "    c = 2\n",
    "    print(f'A dentro vale {a}')\n",
    "    print(f'B dentro vale {b}')\n",
    "    print(f'C dentro vale {c}')\n",
    "\n",
    "a = 5\n",
    "teste(a)\n",
    "print(f'A fora vale {a}')"
   ]
  },
  {
   "cell_type": "code",
   "execution_count": 7,
   "id": "17e30fed",
   "metadata": {},
   "outputs": [
    {
     "name": "stdout",
     "output_type": "stream",
     "text": [
      "17\n",
      "17\n",
      "Meus cálculos deram 10, 8 e 4\n"
     ]
    }
   ],
   "source": [
    "#utilizando return (retorno de valores)\n",
    "def soma(a=0, b=0, c=0):\n",
    "    s = a + b + c\n",
    "    return s\n",
    "\n",
    "#programa principal\n",
    "print(soma(4, 7, 6))\n",
    "resp = soma(8, 9)\n",
    "print(resp)\n",
    "r1 = soma(3, 2, 5)\n",
    "r2 = soma(1, 7)\n",
    "r3 = soma(4)\n",
    "print(f'Meus cálculos deram {r1}, {r2} e {r3}')"
   ]
  },
  {
   "cell_type": "code",
   "execution_count": 12,
   "id": "749ced3e",
   "metadata": {},
   "outputs": [
    {
     "name": "stdout",
     "output_type": "stream",
     "text": [
      "Digite um númreo: 5\n",
      "O fatorial de 5 é igual a 120\n"
     ]
    }
   ],
   "source": [
    "def fatorial(num = 1):\n",
    "    f = 1\n",
    "    for c in range(num, 0, -1):\n",
    "        f *= c \n",
    "    return f\n",
    "\n",
    "n = int(input('Digite um númreo: '))\n",
    "print(f'O fatorial de {n} é igual a {fatorial(n)}')"
   ]
  },
  {
   "cell_type": "markdown",
   "id": "fa633d07",
   "metadata": {},
   "source": [
    "**Exercício:** Função voto() que receba como parâmetro o ano de nascimento. Retorne um valor literal indicando negado, opcional ou obrigatório."
   ]
  },
  {
   "cell_type": "code",
   "execution_count": 32,
   "id": "c6866962",
   "metadata": {},
   "outputs": [
    {
     "name": "stdout",
     "output_type": "stream",
     "text": [
      "--------------------\n",
      "Em que ano você nasceu? 1946\n",
      "Com 77 anos: voto opcional\n"
     ]
    }
   ],
   "source": [
    "def voto(nasc):\n",
    "    from datetime import date #escopo de importação\n",
    "    atual = date.today().year\n",
    "    idade = atual - nasc\n",
    "    if idade < 16:\n",
    "        resp = 'não vota'\n",
    "    elif idade < 18 or idade >= 65:\n",
    "        resp = 'voto opcional'\n",
    "    else:\n",
    "        resp = 'voto obrigatório'\n",
    "    return f'Com {idade} anos: {resp}' #return formatado\n",
    "\n",
    "print('-'*20)\n",
    "n = int(input('Em que ano você nasceu? '))\n",
    "print(voto(n))"
   ]
  },
  {
   "cell_type": "markdown",
   "id": "8b0e39ec",
   "metadata": {},
   "source": [
    "**Exercício:** Função fatorial que receba 2 parâmetros. O primeiro é o número a calcular e o segundo é show que será um valor lógico (opcional) pra mostrar ou não o cálculo."
   ]
  },
  {
   "cell_type": "code",
   "execution_count": 46,
   "id": "99fe4a25",
   "metadata": {},
   "outputs": [
    {
     "name": "stdout",
     "output_type": "stream",
     "text": [
      "5 x 4 x 3 x 2 x 1 = 120\n"
     ]
    }
   ],
   "source": [
    "def fatorial(n, show=False):\n",
    "    '''\n",
    "    -> Calcula o fatorial de um número.\n",
    "    :param n: O número a ser calculado.\n",
    "    :param show: (opcional) Mostrar ou não a conta.\n",
    "    :return: O valor fatorial de um número n.\n",
    "    Função criada por Icaro\n",
    "    '''\n",
    "    f = 1\n",
    "    for c in range(n, 0, -1):\n",
    "        f *= c\n",
    "        if show:\n",
    "            print(f'{c} ', end='')\n",
    "            print('x ' if c > 1 else '= ', end ='')\n",
    "    return f\n",
    "\n",
    "print(fatorial(5,True))"
   ]
  },
  {
   "cell_type": "markdown",
   "id": "e9a6b147",
   "metadata": {},
   "source": [
    "**Exercício:** Defina uma função chamada ficha(), que receba dois parâmetros opcionais: o nome de um jogador e quantos gols ele marcou."
   ]
  },
  {
   "cell_type": "code",
   "execution_count": 70,
   "id": "07049d68",
   "metadata": {},
   "outputs": [
    {
     "name": "stdout",
     "output_type": "stream",
     "text": [
      "Nome do Jogador: \n",
      "Número de gols: \n",
      "O jogador <desconhecido> fez 0 gol(s) no campeonato\n"
     ]
    }
   ],
   "source": [
    "def ficha(nome = '<desconhecido>', gol = 0):\n",
    "    return f'O jogador {nome} fez {gol} gol(s) no campeonato'\n",
    "\n",
    "n = str(input('Nome do Jogador: '))\n",
    "g = str(input('Número de gols: '))\n",
    "if g.isnumeric():\n",
    "    g = int(g)\n",
    "else:\n",
    "    g = 0\n",
    "if n.strip() == '':\n",
    "    print(ficha(gol = g))\n",
    "else:\n",
    "    print(ficha(n, g))"
   ]
  },
  {
   "cell_type": "markdown",
   "id": "a1e1e409",
   "metadata": {},
   "source": [
    "**Exercício:** Defina função leiaint(), que funciona como a input, mas fazendo validação para aceitar apenas valor numérico."
   ]
  },
  {
   "cell_type": "code",
   "execution_count": 17,
   "id": "dec17567",
   "metadata": {},
   "outputs": [
    {
     "name": "stdout",
     "output_type": "stream",
     "text": [
      "--------------------\n",
      "Digite um número: w\n",
      "\u001b[0;31mERRO! Dgite um número inteiro válido.\u001b[m\n",
      "Digite um número:   \n",
      "\u001b[0;31mERRO! Dgite um número inteiro válido.\u001b[m\n",
      "Digite um número: 4\n",
      "Você acabou de digitar o número 4\n"
     ]
    }
   ],
   "source": [
    "def leiaInt(txt):\n",
    "    while True:\n",
    "        n = str(input(txt))\n",
    "        if n.isnumeric():\n",
    "            n = int(n)\n",
    "            return n #funciona como o break\n",
    "        else:\n",
    "            print('\\033[0;31mERRO! Dgite um número inteiro válido.\\033[m')\n",
    "\n",
    "print('-'*20)\n",
    "n = leiaInt('Digite um número: ')\n",
    "print(f'Você acabou de digitar o número {n}')"
   ]
  },
  {
   "cell_type": "markdown",
   "id": "52fed467",
   "metadata": {},
   "source": [
    "**Exercício:** Defina função notas() que recebe várias notas de alunos e retorna um dicionário com as informações:\n",
    "1. Quantidade de notas \n",
    "2. Maior nota\n",
    "3. Menor nota\n",
    "4. Média da turma\n",
    "5. Situação (opcional)\n",
    "\n",
    "Obs.: Adicione dcstring"
   ]
  },
  {
   "cell_type": "code",
   "execution_count": 30,
   "id": "f800f874",
   "metadata": {},
   "outputs": [
    {
     "name": "stdout",
     "output_type": "stream",
     "text": [
      "{'total': 3, 'maior': 8.5, 'menor': 2.5, 'média': 5.5, 'situação': 'RAZOÁVEL'}\n",
      "Help on function notas in module __main__:\n",
      "\n",
      "notas(*n, sit=False)\n",
      "    -> Função para analizar notas e situação de vários alunos.\n",
      "    :param n: uma ou mais notas dos alunos (aceita várias).\n",
      "    :param sit: (opcional) indica se deve ou não adicionar a situação.\n",
      "    :return: dicionário com várias informações sobre a situação da turma.\n",
      "    Função criada por Icaro\n",
      "\n"
     ]
    }
   ],
   "source": [
    "def notas(*n, sit=False):\n",
    "    '''\n",
    "    -> Função para analizar notas e situação de vários alunos.\n",
    "    :param n: uma ou mais notas dos alunos (aceita várias).\n",
    "    :param sit: (opcional) indica se deve ou não adicionar a situação.\n",
    "    :return: dicionário com várias informações sobre a situação da turma.\n",
    "    Função criada por Icaro\n",
    "    '''\n",
    "    r = dict()\n",
    "    r['total'] = len(n)\n",
    "    r['maior'] = max(n)\n",
    "    r['menor'] = min(n)\n",
    "    r['média'] = sum(n)/len(n)\n",
    "    if sit:\n",
    "        if r['média'] >= 7:\n",
    "            r['situação'] = 'BOA'\n",
    "        elif r['média'] >= 5:\n",
    "            r['situação'] = 'RAZOÁVEL'\n",
    "        else:\n",
    "            r['situação'] = 'RUIM'\n",
    "    return r\n",
    "\n",
    "resp = notas(5.5,2.5,8.5, sit=True)\n",
    "print(resp)\n",
    "help(notas)"
   ]
  },
  {
   "cell_type": "markdown",
   "id": "77f6c2a4",
   "metadata": {},
   "source": [
    "**Exercício:** Faça um mini-sistema que utilize o Interactive Help do Python. O usuário vai digitar o comando e o manual vai aparecer. Quando o usuário digitar a palavra ‘FIM’, o programa se encerrará. Importante: use cores. "
   ]
  },
  {
   "cell_type": "code",
   "execution_count": 51,
   "id": "7748c342",
   "metadata": {},
   "outputs": [
    {
     "name": "stdout",
     "output_type": "stream",
     "text": [
      "\u001b[0;30;42m~~~~~~~~~~~~~~~~~~~~~~~~~~~\n",
      "  SISTEMA DE AJUDA PyHELP\n",
      "~~~~~~~~~~~~~~~~~~~~~~~~~~~\n",
      "\u001b[mFunção ou Biblioteca > print\n",
      "\u001b[0;30;44m~~~~~~~~~~~~~~~~~~~~~~~~~~~~~~~~~~~~~~~~~\n",
      "  Acessando o manual do comando 'print'\n",
      "~~~~~~~~~~~~~~~~~~~~~~~~~~~~~~~~~~~~~~~~~\n",
      "\u001b[m\u001b[0;30mHelp on built-in function print in module builtins:\n",
      "\n",
      "print(...)\n",
      "    print(value, ..., sep=' ', end='\\n', file=sys.stdout, flush=False)\n",
      "    \n",
      "    Prints the values to a stream, or to sys.stdout by default.\n",
      "    Optional keyword arguments:\n",
      "    file:  a file-like object (stream); defaults to the current sys.stdout.\n",
      "    sep:   string inserted between values, default a space.\n",
      "    end:   string appended after the last value, default a newline.\n",
      "    flush: whether to forcibly flush the stream.\n",
      "\n",
      "\u001b[m\u001b[0;30;42m~~~~~~~~~~~~~~~~~~~~~~~~~~~\n",
      "  SISTEMA DE AJUDA PyHELP\n",
      "~~~~~~~~~~~~~~~~~~~~~~~~~~~\n",
      "\u001b[mFunção ou Biblioteca > fim\n",
      "\u001b[0;30;41m~~~~~~~~~~~~\n",
      "  ATÉ LOGO\n",
      "~~~~~~~~~~~~\n",
      "\u001b[m"
     ]
    }
   ],
   "source": [
    "from time import sleep\n",
    "c = ('\\033[m',        #0 - sem cor\n",
    "     '\\033[0;30;41m', #1 - vermelho\n",
    "     '\\033[0;30;42m', #2 - verde\n",
    "     '\\033[0;30;43m', #3 - amarelo\n",
    "     '\\033[0;30;44m', #4 - azul\n",
    "     '\\033[0;30;45m', #5 - roxo\n",
    "     '\\033[0;30m'     #6 - branco\n",
    "    )\n",
    "     \n",
    "def ajuda(com):\n",
    "    titulo(f'Acessando o manual do comando \\'{com}\\'', 4) #escrever comando entre aspas.\n",
    "    print(c[6], end='')\n",
    "    help(com)\n",
    "    print(c[0], end='')\n",
    "    sleep(2)\n",
    "\n",
    "def titulo(msg, cor=0):\n",
    "    tam = len(msg) + 4\n",
    "    print(c[cor], end='')\n",
    "    print('~'*tam)\n",
    "    print(f'  {msg}')\n",
    "    print('~'*tam)\n",
    "    print(c[0], end='')\n",
    "    sleep(1)\n",
    "    \n",
    "#programa principal\n",
    "comando = ' '\n",
    "while True:\n",
    "    titulo('SISTEMA DE AJUDA PyHELP', 2)\n",
    "    comando = str(input('Função ou Biblioteca > '))\n",
    "    if comando.upper() == 'FIM':\n",
    "        break\n",
    "    else:\n",
    "        ajuda(comando)\n",
    "titulo('ATÉ LOGO', 1)"
   ]
  },
  {
   "cell_type": "markdown",
   "id": "9d135c79",
   "metadata": {},
   "source": [
    "## Modularização"
   ]
  },
  {
   "cell_type": "markdown",
   "id": "4a6c4321",
   "metadata": {},
   "source": [
    "### Módulos"
   ]
  },
  {
   "cell_type": "code",
   "execution_count": 1,
   "id": "f524880c",
   "metadata": {},
   "outputs": [
    {
     "name": "stdout",
     "output_type": "stream",
     "text": [
      "Digite um valor: 5\n",
      "O fatorial de 5 é 120\n"
     ]
    }
   ],
   "source": [
    "#salvar a função em outro arquivo, por exemplo: uteis.py\n",
    "def fatorial(n):\n",
    "    f = 1\n",
    "    for c in range(1, n+1):\n",
    "        f *= c\n",
    "    return f\n",
    "\n",
    "#importar a função antes do programa, por exemplo: import uteis ou from uteis import fatorial\n",
    "num = int(input('Digite um valor: '))\n",
    "fat = fatorial(num) #vira uteis.fatorial(num) (não gera conflito)\n",
    "print(f'O fatorial de {num} é {fat}')"
   ]
  },
  {
   "cell_type": "markdown",
   "id": "cf731345",
   "metadata": {},
   "source": [
    "### Pacotes (Bibliotecas)\n",
    "É uma pasta que contém módulos separados por assunto, ou seja, vários arquivos .py"
   ]
  },
  {
   "cell_type": "code",
   "execution_count": 4,
   "id": "40fdd06b",
   "metadata": {},
   "outputs": [],
   "source": [
    "#from uteis import datas (importaria um módulo do pacote com números, strings, datas, etc.)\n",
    "#sintaxe para nome de arquivos dentro de pacotes: __init__.py"
   ]
  },
  {
   "cell_type": "markdown",
   "id": "ff0c9adb",
   "metadata": {},
   "source": [
    "**Exercício:** Crie um módulo chamado moeda.py que tenha as funções incorporadas aumentar(), diminuir(), dobro() e metade(). Faça também um programa que importe esse módulo e use algumas dessas funções."
   ]
  },
  {
   "cell_type": "code",
   "execution_count": 11,
   "id": "749922ae",
   "metadata": {},
   "outputs": [
    {
     "name": "stdout",
     "output_type": "stream",
     "text": [
      "Digite o preço: R$500\n",
      "A metade de R$500.0 é R$250.0\n",
      "O dobro de R$500.0 é R$1000.0\n",
      "Aumentando o preço em 10%, temos R$550.0\n"
     ]
    }
   ],
   "source": [
    "import moeda\n",
    "\n",
    "p = float(input('Digite o preço: R$'))\n",
    "print(f'A metade de R${p} é R${moeda.metade(p)}')\n",
    "print(f'O dobro de R${p} é R${moeda.dobro(p)}')\n",
    "print(f'Aumentando o preço em 10%, temos R${moeda.aumentar(p, 10)}')"
   ]
  },
  {
   "cell_type": "code",
   "execution_count": 10,
   "id": "6faf4f88",
   "metadata": {},
   "outputs": [
    {
     "name": "stdout",
     "output_type": "stream",
     "text": [
      "Digite o preço: R$500\n",
      "A metade de R$500.0 é R$250.0\n",
      "O dobro de R$500.0 é R$1000.0\n",
      "Aumentando o preço em 10%, temos R$550.0\n"
     ]
    }
   ],
   "source": [
    "#Nesta forma pode haver conflito se mais de um módulo tiver função com mesmo nome.\n",
    "from moeda import metade, dobro, aumentar\n",
    "\n",
    "p = float(input('Digite o preço: R$'))\n",
    "print(f'A metade de R${p} é R${metade(p)}')\n",
    "print(f'O dobro de R${p} é R${dobro(p)}')\n",
    "print(f'Aumentando o preço em 10%, temos R${aumentar(p, 10)}')"
   ]
  },
  {
   "cell_type": "markdown",
   "id": "d165328c",
   "metadata": {},
   "source": [
    "**Exercício:** Adapte o exercício anterior  criando uma função adicional chamada moeda() que consiga mostrar os números como um valor monetário formatado."
   ]
  },
  {
   "cell_type": "code",
   "execution_count": 2,
   "id": "3af64aaa",
   "metadata": {},
   "outputs": [
    {
     "name": "stdout",
     "output_type": "stream",
     "text": [
      "Digite o preço: R$30\n",
      "A metade de R$   30,00 é R$   15,00\n",
      "O dobro de R$   30,00 é R$   60,00\n",
      "Aumentando o preço em 10%, temos R$   33,00\n"
     ]
    }
   ],
   "source": [
    "import moeda1\n",
    "\n",
    "p = float(input('Digite o preço: R$'))\n",
    "print(f'A metade de {moeda1.moeda(p)} é {moeda1.moeda(moeda1.metade(p))}')\n",
    "print(f'O dobro de {moeda1.moeda(p)} é {moeda1.moeda(moeda1.dobro(p))}')\n",
    "print(f'Aumentando o preço em 10%, temos {moeda1.moeda(moeda1.aumentar(p, 10))}')"
   ]
  },
  {
   "cell_type": "markdown",
   "id": "1175f178",
   "metadata": {},
   "source": [
    "**Exercício:** Modifique as funções que form criadas anteriormente para que elas aceitem um parâmetro a mais, informando se o valor retornado por elas vai ser ou não formatado pela função moeda(), desenvolvida no desafio anterior."
   ]
  },
  {
   "cell_type": "code",
   "execution_count": 4,
   "id": "9382d97c",
   "metadata": {},
   "outputs": [
    {
     "name": "stdout",
     "output_type": "stream",
     "text": [
      "Digite o preço: R$30\n",
      "A metade de R$   30,00 é R$   15,00\n",
      "O dobro de R$   30,00 é R$   60,00\n",
      "Aumentando o preço em 10%, temos R$   33,00\n",
      "Reduzindo o preço em 13%, temos R$   26,10\n"
     ]
    }
   ],
   "source": [
    "import moeda2\n",
    "\n",
    "p = float(input('Digite o preço: R$'))\n",
    "print(f'A metade de {moeda2.moeda(p)} é {moeda2.metade(p, True)}')\n",
    "print(f'O dobro de {moeda2.moeda(p)} é {moeda2.dobro(p, True)}')\n",
    "print(f'Aumentando o preço em 10%, temos {moeda2.aumentar(p, 10, True)}')\n",
    "print(f'Reduzindo o preço em 13%, temos {moeda2.diminuir(p, 13, True)}')"
   ]
  },
  {
   "cell_type": "markdown",
   "id": "0fdda51f",
   "metadata": {},
   "source": [
    "**Exercício:** Adicione o módulo moeda.py criado nos desafios anteriores, uma função chamada resumo(), que mostre na tela algumas informações geradas pelas funções que já temos no módulo criado até aqui."
   ]
  },
  {
   "cell_type": "code",
   "execution_count": 3,
   "id": "ce8c050b",
   "metadata": {},
   "outputs": [
    {
     "name": "stdout",
     "output_type": "stream",
     "text": [
      "Digite o preço: R$500\n",
      "------------------------------\n",
      "       RESUMO DO VALOR        \n",
      "------------------------------\n",
      "Preço analisado: \tR$  500,00\n",
      "Dobro do preço: \tR$ 1000,00\n",
      "Metade do preço: \tR$  250,00\n",
      "Com 10% de aumento: \tR$  550,00\n",
      "Com 5% de redução: \t\tR$  475,00\n",
      "------------------------------\n",
      "------------------------------\n",
      "       RESUMO DO VALOR        \n",
      "------------------------------\n",
      "Preço analisado: \tR$  500,00\n",
      "Dobro do preço: \tR$ 1000,00\n",
      "Metade do preço: \tR$  250,00\n",
      "Com 15% de aumento: \tR$  575,00\n",
      "Com 12% de redução: \t\tR$  440,00\n",
      "------------------------------\n"
     ]
    }
   ],
   "source": [
    "import moeda3\n",
    "\n",
    "p = float(input('Digite o preço: R$'))\n",
    "moeda3.resumo(p)\n",
    "moeda3.resumo(p, 15, 12)"
   ]
  },
  {
   "cell_type": "markdown",
   "id": "f7002f74",
   "metadata": {},
   "source": [
    "**Exercício:** Crie um pacote chamado utilidadesCeV que tenha dois módulos internos chamados moeda e dado. Transfira todas as funções utilizadas nos desafios para o primeiro pacote e mantenha tudo funcionando"
   ]
  },
  {
   "cell_type": "markdown",
   "id": "afeddfef",
   "metadata": {},
   "source": [
    "**Exercício:** Dentro do pacote utilidadesCeV que criamos no desafio anterior, temos um módulo chamado dado. Crie uma função chamada leiaDinheiro() que seja capaz de funcionar como a função imputa(), mas com uma validação de dados para aceitar apenas valores que seja monetários."
   ]
  },
  {
   "cell_type": "code",
   "execution_count": 6,
   "id": "5ed8f398",
   "metadata": {},
   "outputs": [
    {
     "name": "stdout",
     "output_type": "stream",
     "text": [
      "Digite o preço: R$Icaro\n",
      "\u001b[0;31mERRO! \"Icaro\" é um preço inválido!\u001b[m\n",
      "Digite o preço: R$23,50\n",
      "------------------------------\n",
      "       RESUMO DO VALOR        \n",
      "------------------------------\n",
      "Preço analisado: \tR$   23,50\n",
      "Dobro do preço: \tR$   47,00\n",
      "Metade do preço: \tR$   11,75\n",
      "Com 35% de aumento: \tR$   31,73\n",
      "Com 22% de redução: \tR$   18,33\n",
      "------------------------------\n"
     ]
    }
   ],
   "source": [
    "import moeda3\n",
    "import dado\n",
    "\n",
    "p = leiaDinheiro('Digite o preço: R$')\n",
    "moeda3.resumo(p, 35, 22)"
   ]
  },
  {
   "cell_type": "markdown",
   "id": "94f8127c",
   "metadata": {},
   "source": [
    "## Tratamento de erros em Python"
   ]
  },
  {
   "cell_type": "markdown",
   "id": "87f0d644",
   "metadata": {},
   "source": [
    "### Erros e Exceções"
   ]
  },
  {
   "cell_type": "code",
   "execution_count": 5,
   "id": "f32efbb3",
   "metadata": {},
   "outputs": [
    {
     "name": "stdout",
     "output_type": "stream",
     "text": [
      "Numerador: 5\n",
      "Denominador: 0\n",
      "Infelizmente tivemos um problema. =(\n",
      "Volte sempre! Muito obrigado!\n"
     ]
    }
   ],
   "source": [
    "#erros são sintáticos, exceções são erros semânticos\n",
    "try: #operção\n",
    "    a = int(input('Numerador: '))\n",
    "    b = int(input('Denominador: '))\n",
    "    r = a/b\n",
    "except: #falhou\n",
    "    print('Infelizmente tivemos um problema. =(')\n",
    "else: #deu certo (opcional)\n",
    "    print(f'O resultado é {r:.1f}')\n",
    "finally:#certo/falha (opcional)\n",
    "    print('Volte sempre! Muito obrigado!')"
   ]
  },
  {
   "cell_type": "code",
   "execution_count": 6,
   "id": "cf8b131a",
   "metadata": {},
   "outputs": [
    {
     "name": "stdout",
     "output_type": "stream",
     "text": [
      "Numerador: 5\n",
      "Denominador: 0\n",
      "O problema encontrado foi <class 'ZeroDivisionError'>\n",
      "Volte sempre! Muito obrigado!\n"
     ]
    }
   ],
   "source": [
    "try: #operção\n",
    "    a = int(input('Numerador: '))\n",
    "    b = int(input('Denominador: '))\n",
    "    r = a/b\n",
    "except Exception as erro: #falhou\n",
    "    print(f'O problema encontrado foi {erro.__class__}')\n",
    "else: #deu certo (opcional)\n",
    "    print(f'O resultado é {r:.1f}')\n",
    "finally:#certo/falha (opcional)\n",
    "    print('Volte sempre! Muito obrigado!')"
   ]
  },
  {
   "cell_type": "code",
   "execution_count": 17,
   "id": "c7552922",
   "metadata": {},
   "outputs": [
    {
     "name": "stdout",
     "output_type": "stream",
     "text": [
      "Numerador: 5\n",
      "Denominador: 0\n",
      "Não é possível dividir um número por zero\n",
      "Volte sempre! Muito obrigado!\n"
     ]
    }
   ],
   "source": [
    "try: #operção\n",
    "    a = int(input('Numerador: '))\n",
    "    b = int(input('Denominador: '))\n",
    "    r = a/b\n",
    "except (ValueError, TypeError):\n",
    "    print('Infelizmente tivemos um problema com os tipos de dados que você digitou. =(')\n",
    "except ZeroDivisionError:\n",
    "    print('Não é possível dividir um número por zero')\n",
    "except KeyboardInterrupt:\n",
    "    print('O usuário preferiu não informar os dados') #quando clica em stop\n",
    "except Exception as erro:\n",
    "    print(f'O erro encontrado foi {erro.__cause__}')\n",
    "else: #deu certo (opcional)\n",
    "    print(f'O resultado é {r:.1f}')\n",
    "finally:#certo/falha (opcional)\n",
    "    print('Volte sempre! Muito obrigado!')"
   ]
  },
  {
   "cell_type": "markdown",
   "id": "f91a8800",
   "metadata": {},
   "source": [
    "**Exercício:** Reescreva a função leiaInt() que fizemos no desafio anterior, incluindo agora a possibilidade da digitação de um número de tipo inválido. Aproveite e crie também uma função leiaFloat() com a mesma funcionalidade."
   ]
  },
  {
   "cell_type": "code",
   "execution_count": 1,
   "id": "7a2544e0",
   "metadata": {},
   "outputs": [
    {
     "name": "stdout",
     "output_type": "stream",
     "text": [
      "--------------------\n",
      "Digite um número inteiro: 5\n",
      "Digite um número real: 4.5\n",
      "O valor inteiro foi 5 e o valor real foi 4.5\n"
     ]
    }
   ],
   "source": [
    "def leiaInt(txt):\n",
    "    while True:\n",
    "        try:\n",
    "            n = int(input(txt))\n",
    "        except (ValueError, TypeError):\n",
    "            print('\\033[0;31mERRO! Digite um número inteiro válido.\\033[m')\n",
    "            continue\n",
    "        except KeyboardInterrupt:\n",
    "            print('\\033[0;31mEntrada de dados interrompida pelo usuário. \\033[m')\n",
    "            return 0\n",
    "        else:\n",
    "            return n\n",
    "\n",
    "def leiaFloat(txt):\n",
    "    while True:\n",
    "        try:\n",
    "            n = float(input(txt))\n",
    "        except (ValueError, TypeError):\n",
    "            print('\\033[0;31mERRO! Digite um número real válido.\\033[m')\n",
    "            continue\n",
    "        except KeyboardInterrupt:\n",
    "            print('\\033[0;31mEntrada de dados interrompida pelo usuário. \\033[m')\n",
    "            return 0\n",
    "        else:\n",
    "            return n\n",
    "\n",
    "print('-'*20)\n",
    "n1 = leiaInt('Digite um número inteiro: ')\n",
    "n2 = leiaFloat('Digite um número real: ')\n",
    "print(f'O valor inteiro foi {n1} e o valor real foi {n2}')"
   ]
  },
  {
   "cell_type": "markdown",
   "id": "67cab98a",
   "metadata": {},
   "source": [
    "**Exercício:** Crie um código em Python que teste se o site pudim está acessível pelo computador usado."
   ]
  },
  {
   "cell_type": "code",
   "execution_count": 19,
   "id": "cead1833",
   "metadata": {},
   "outputs": [
    {
     "name": "stdout",
     "output_type": "stream",
     "text": [
      "Consegui acessar o site Pudim com sucesso!\n",
      "b'<html>\\n<html xmlns=\"http://www.w3.org/1999/xhtml\">\\n<head>\\n    <title>Pudim</title>\\n    <link rel=\"stylesheet\" href=\"estilo.css\">\\n</head>\\n<body>\\n<div>\\n    <div class=\"container\">\\n        <div class=\"image\">\\n            <img src=\"pudim.jpg\" alt=\"\">\\n        </div>\\n        <div class=\"email\">\\n            <a href=\"mailto:pudim@pudim.com.br\">pudim@pudim.com.br</a>\\n        </div>\\n    </div>\\n</div>\\n<script>\\n    (function(i,s,o,g,r,a,m){i[\\'GoogleAnalyticsObject\\']=r;i[r]=i[r]||function(){\\n                (i[r].q=i[r].q||[]).push(arguments)},i[r].l=1*new Date();a=s.createElement(o),\\n            m=s.getElementsByTagName(o)[0];a.async=1;a.src=g;m.parentNode.insertBefore(a,m)\\n    })(window,document,\\'script\\',\\'//www.google-analytics.com/analytics.js\\',\\'ga\\');\\n\\n    ga(\\'create\\', \\'UA-28861757-1\\', \\'auto\\');\\n    ga(\\'send\\', \\'pageview\\');\\n\\n</script>\\n</body>\\n</html>\\n'\n"
     ]
    }
   ],
   "source": [
    "import urllib\n",
    "import urllib.request\n",
    "\n",
    "try:\n",
    "    site = urllib.request.urlopen('http://www.pudim.com.br')\n",
    "except urllib.error.URLError:\n",
    "    print('O site Pudim não está acessível no momento.')\n",
    "else:\n",
    "    print('Consegui acessar o site Pudim com sucesso!')\n",
    "    #print(site.read()) -- pega o conteúdo html do site"
   ]
  },
  {
   "cell_type": "markdown",
   "id": "78860dcd",
   "metadata": {},
   "source": [
    "**Exercício:** Crie um menu em Python, usando modularização."
   ]
  },
  {
   "cell_type": "code",
   "execution_count": 4,
   "id": "6a6b9665",
   "metadata": {},
   "outputs": [
    {
     "name": "stdout",
     "output_type": "stream",
     "text": [
      "------------------------------------------\n",
      "              Menu Principal              \n",
      "------------------------------------------\n",
      "\u001b[33m1 - \u001b[34mVer pessoas cadastradas\u001b[m\n",
      "\u001b[33m2 - \u001b[34mCadastrar nova pessoa\u001b[m\n",
      "\u001b[33m3 - \u001b[34mSair do sistema\u001b[m\n",
      "------------------------------------------\n",
      "Sua opção: 1\n",
      "------------------------------------------\n",
      "                  opc 1                   \n",
      "------------------------------------------\n",
      "------------------------------------------\n",
      "              Menu Principal              \n",
      "------------------------------------------\n",
      "\u001b[33m1 - \u001b[34mVer pessoas cadastradas\u001b[m\n",
      "\u001b[33m2 - \u001b[34mCadastrar nova pessoa\u001b[m\n",
      "\u001b[33m3 - \u001b[34mSair do sistema\u001b[m\n",
      "------------------------------------------\n",
      "Sua opção: 2\n",
      "------------------------------------------\n",
      "                  opc 2                   \n",
      "------------------------------------------\n",
      "------------------------------------------\n",
      "              Menu Principal              \n",
      "------------------------------------------\n",
      "\u001b[33m1 - \u001b[34mVer pessoas cadastradas\u001b[m\n",
      "\u001b[33m2 - \u001b[34mCadastrar nova pessoa\u001b[m\n",
      "\u001b[33m3 - \u001b[34mSair do sistema\u001b[m\n",
      "------------------------------------------\n",
      "Sua opção: 4\n",
      "\u001b[0;31mERRO! Digite uma opção válida\u001b[m\n",
      "------------------------------------------\n",
      "              Menu Principal              \n",
      "------------------------------------------\n",
      "\u001b[33m1 - \u001b[34mVer pessoas cadastradas\u001b[m\n",
      "\u001b[33m2 - \u001b[34mCadastrar nova pessoa\u001b[m\n",
      "\u001b[33m3 - \u001b[34mSair do sistema\u001b[m\n",
      "------------------------------------------\n",
      "Sua opção: 3\n",
      "------------------------------------------\n",
      "      Saindo do sistema... Até logo!      \n",
      "------------------------------------------\n"
     ]
    }
   ],
   "source": [
    "def leiaInt(txt):\n",
    "    while True:\n",
    "        try:\n",
    "            n = int(input(txt))\n",
    "        except (ValueError, TypeError):\n",
    "            print('\\033[0;31mERRO! Digite um número inteiro válido.\\033[m')\n",
    "            continue\n",
    "        except KeyboardInterrupt:\n",
    "            print('\\033[0;31mEntrada de dados interrompida pelo usuário. \\033[m')\n",
    "            return 0\n",
    "        else:\n",
    "            return n\n",
    "\n",
    "def linha(tam = 42):\n",
    "    return '-' * tam\n",
    "\n",
    "def cabeçalho(txt):\n",
    "    print(linha())\n",
    "    print(txt.center(42))\n",
    "    print(linha())\n",
    "\n",
    "def menu(lista):\n",
    "    cabeçalho('Menu Principal')\n",
    "    c = 1\n",
    "    for item in lista:\n",
    "        print(f'\\033[33m{c} - \\033[34m{item}\\033[m')\n",
    "        c += 1\n",
    "    print(linha())\n",
    "    opc = leiaInt('\\033[32mSua opção: \\033[m')\n",
    "    return opc\n",
    "\n",
    "while True:\n",
    "    resposta = menu(['Ver pessoas cadastradas','Cadastrar nova pessoa', 'Sair do sistema'])\n",
    "    if resposta == 1:\n",
    "        cabeçalho('opc 1')\n",
    "    elif resposta == 2:\n",
    "        cabeçalho('opc 2')\n",
    "    elif resposta == 3:\n",
    "        cabeçalho('Saindo do sistema... Até logo!')\n",
    "        break\n",
    "    else:\n",
    "        print('\\033[0;31mERRO! Digite uma opção válida\\033[m')"
   ]
  },
  {
   "cell_type": "markdown",
   "id": "625d34e3",
   "metadata": {},
   "source": [
    "**Exercício:**  Acesso a arquivos usando o Python"
   ]
  },
  {
   "cell_type": "code",
   "execution_count": 16,
   "id": "24e739fb",
   "metadata": {},
   "outputs": [
    {
     "name": "stdout",
     "output_type": "stream",
     "text": [
      "Icaro 38\n"
     ]
    }
   ],
   "source": [
    "def arquivoExiste(nome):\n",
    "    try:\n",
    "        a = open(nome, 'rt')\n",
    "        a.close()\n",
    "    except FileNotFoundError:\n",
    "        return False\n",
    "    else:\n",
    "        return True\n",
    "    \n",
    "def criarArquivo(nome):\n",
    "    try:\n",
    "        a = open(nome, 'wt+')\n",
    "        a.close()\n",
    "    except:\n",
    "        print('Houve um ERRO na criação do arquivo.')\n",
    "    else:\n",
    "        print(f'Arquivo {nome} criado com sucesso!')\n",
    "\n",
    "def lerArquivo(nome):\n",
    "    try:\n",
    "        a = open(nome, 'rt')\n",
    "    except:\n",
    "        print('Erro ao ler o arquivo')\n",
    "    else:\n",
    "        #cabeçalho('Pessoas cadastradas')\n",
    "        print(a.read())\n",
    "    finally:\n",
    "        a.close()\n",
    "        \n",
    "arq = 'cursoemvideo.txt'\n",
    "if not arquivoExiste(arq):\n",
    "    criarArquivo(arq)\n",
    "lerArquivo(arq)"
   ]
  },
  {
   "cell_type": "markdown",
   "id": "bd910286",
   "metadata": {},
   "source": [
    "**Exercício:** Finalizar o projeto de acesso a arquivos em Python."
   ]
  },
  {
   "cell_type": "code",
   "execution_count": 18,
   "id": "b8f87740",
   "metadata": {},
   "outputs": [
    {
     "name": "stdout",
     "output_type": "stream",
     "text": [
      "------------------------------------------\n",
      "              Menu Principal              \n",
      "------------------------------------------\n",
      "\u001b[33m1 - \u001b[34mVer pessoas cadastradas\u001b[m\n",
      "\u001b[33m2 - \u001b[34mCadastrar nova pessoa\u001b[m\n",
      "\u001b[33m3 - \u001b[34mSair do sistema\u001b[m\n",
      "------------------------------------------\n",
      "Sua opção: 1\n",
      "------------------------------------------\n",
      "           Pessoas cadastradas            \n",
      "------------------------------------------\n",
      "José                           35 anos\n",
      "------------------------------------------\n",
      "              Menu Principal              \n",
      "------------------------------------------\n",
      "\u001b[33m1 - \u001b[34mVer pessoas cadastradas\u001b[m\n",
      "\u001b[33m2 - \u001b[34mCadastrar nova pessoa\u001b[m\n",
      "\u001b[33m3 - \u001b[34mSair do sistema\u001b[m\n",
      "------------------------------------------\n",
      "Sua opção: 2\n",
      "------------------------------------------\n",
      "              Novo cadastro               \n",
      "------------------------------------------\n",
      "Nome: Icaro\n",
      "Idade: 38\n",
      "Novo registro de Icaro adicionado\n",
      "------------------------------------------\n",
      "              Menu Principal              \n",
      "------------------------------------------\n",
      "\u001b[33m1 - \u001b[34mVer pessoas cadastradas\u001b[m\n",
      "\u001b[33m2 - \u001b[34mCadastrar nova pessoa\u001b[m\n",
      "\u001b[33m3 - \u001b[34mSair do sistema\u001b[m\n",
      "------------------------------------------\n",
      "Sua opção: 1\n",
      "------------------------------------------\n",
      "           Pessoas cadastradas            \n",
      "------------------------------------------\n",
      "José                           35 anos\n",
      "Icaro                          38 anos\n",
      "------------------------------------------\n",
      "              Menu Principal              \n",
      "------------------------------------------\n",
      "\u001b[33m1 - \u001b[34mVer pessoas cadastradas\u001b[m\n",
      "\u001b[33m2 - \u001b[34mCadastrar nova pessoa\u001b[m\n",
      "\u001b[33m3 - \u001b[34mSair do sistema\u001b[m\n",
      "------------------------------------------\n",
      "Sua opção: 3\n",
      "------------------------------------------\n",
      "      Saindo do sistema... Até logo!      \n",
      "------------------------------------------\n"
     ]
    }
   ],
   "source": [
    "#módulo1: bbt de interface\n",
    "def leiaInt(txt):\n",
    "    while True:\n",
    "        try:\n",
    "            n = int(input(txt))\n",
    "        except (ValueError, TypeError):\n",
    "            print('\\033[0;31mERRO! Digite um número inteiro válido.\\033[m')\n",
    "            continue\n",
    "        except KeyboardInterrupt:\n",
    "            print('\\033[0;31mEntrada de dados interrompida pelo usuário. \\033[m')\n",
    "            return 0\n",
    "        else:\n",
    "            return n\n",
    "\n",
    "def linha(tam = 42):\n",
    "    return '-' * tam\n",
    "\n",
    "def cabeçalho(txt):\n",
    "    print(linha())\n",
    "    print(txt.center(42))\n",
    "    print(linha())\n",
    "\n",
    "def menu(lista):\n",
    "    cabeçalho('Menu Principal')\n",
    "    c = 1\n",
    "    for item in lista:\n",
    "        print(f'\\033[33m{c} - \\033[34m{item}\\033[m')\n",
    "        c += 1\n",
    "    print(linha())\n",
    "    opc = leiaInt('\\033[32mSua opção: \\033[m')\n",
    "    return opc\n",
    "\n",
    "#módulo2: bbt de manipulação de arquivos\n",
    "def arquivoExiste(nome):\n",
    "    try:\n",
    "        a = open(nome, 'rt')\n",
    "        a.close()\n",
    "    except FileNotFoundError:\n",
    "        return False\n",
    "    else:\n",
    "        return True\n",
    "    \n",
    "def criarArquivo(nome):\n",
    "    try:\n",
    "        a = open(nome, 'wt+')\n",
    "        a.close()\n",
    "    except:\n",
    "        print('Houve um ERRO na criação do arquivo.')\n",
    "    else:\n",
    "        print(f'Arquivo {nome} criado com sucesso!')\n",
    "\n",
    "def lerArquivo(nome):\n",
    "    try:\n",
    "        a = open(nome, 'rt')\n",
    "    except:\n",
    "        print('Erro ao ler o arquivo')\n",
    "    else:\n",
    "        cabeçalho('Pessoas cadastradas')\n",
    "        for linha in a:\n",
    "            dado = linha.split(';')\n",
    "            dado[1] = dado[1].replace('\\n', '')\n",
    "            print(f'{dado[0]:<30}{dado[1]:>3} anos')\n",
    "    finally:\n",
    "        a.close()\n",
    "\n",
    "def cadastrar(arq, nome='desconhecido', idade=0):\n",
    "    try:\n",
    "        a = open(arq, 'at')\n",
    "    except:\n",
    "        print('Houve um ERRO na abertura do arquivo.')\n",
    "    else:\n",
    "        try:\n",
    "            a.write(f'{nome};{idade}\\n')\n",
    "        except:\n",
    "            print('Houve um ERRO ao tentar escrever os dados.')\n",
    "        else:\n",
    "            print(f'Novo registro de {nome} adicionado')\n",
    "            a.close()\n",
    "\n",
    "#programa principal\n",
    "arq = 'cursoemvideo.txt'\n",
    "\n",
    "if not arquivoExiste(arq):\n",
    "    criarArquivo(arq)\n",
    "\n",
    "while True:\n",
    "    resposta = menu(['Ver pessoas cadastradas','Cadastrar nova pessoa', 'Sair do sistema'])\n",
    "    if resposta == 1:\n",
    "        #opção de listar conteúdo\n",
    "        lerArquivo(arq)\n",
    "    elif resposta == 2:\n",
    "        #opção de cadastrar\n",
    "        cabeçalho('Novo cadastro')\n",
    "        nome = str(input('Nome: '))\n",
    "        idade = leiaInt('Idade: ')\n",
    "        cadastrar(arq, nome, idade)\n",
    "    elif resposta == 3:\n",
    "        #opção de sair\n",
    "        cabeçalho('Saindo do sistema... Até logo!')\n",
    "        break\n",
    "    else:\n",
    "        #digitou opção inexistente\n",
    "        print('\\033[0;31mERRO! Digite uma opção válida\\033[m')"
   ]
  },
  {
   "cell_type": "code",
   "execution_count": null,
   "id": "6743e26f",
   "metadata": {},
   "outputs": [],
   "source": []
  }
 ],
 "metadata": {
  "kernelspec": {
   "display_name": "Python 3 (ipykernel)",
   "language": "python",
   "name": "python3"
  },
  "language_info": {
   "codemirror_mode": {
    "name": "ipython",
    "version": 3
   },
   "file_extension": ".py",
   "mimetype": "text/x-python",
   "name": "python",
   "nbconvert_exporter": "python",
   "pygments_lexer": "ipython3",
   "version": "3.9.13"
  }
 },
 "nbformat": 4,
 "nbformat_minor": 5
}
